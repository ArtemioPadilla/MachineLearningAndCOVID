{
  "cells": [
    {
      "cell_type": "markdown",
      "metadata": {
        "id": "view-in-github",
        "colab_type": "text"
      },
      "source": [
        "<a href=\"https://colab.research.google.com/github/ArtemioPadilla/MachineLearningAndCOVID/blob/main/src/NNClassifiers/NeuralNetworkClassifiers.ipynb\" target=\"_parent\"><img src=\"https://colab.research.google.com/assets/colab-badge.svg\" alt=\"Open In Colab\"/></a>"
      ]
    },
    {
      "cell_type": "code",
      "execution_count": 1,
      "metadata": {
        "id": "O0J6i2lz2LYb"
      },
      "outputs": [],
      "source": [
        "import pandas as pd\n",
        "import numpy as np"
      ]
    },
    {
      "cell_type": "code",
      "execution_count": 2,
      "metadata": {
        "id": "xz2gUuMn2LYe"
      },
      "outputs": [],
      "source": [
        "import torch"
      ]
    },
    {
      "cell_type": "markdown",
      "metadata": {
        "id": "p-HIO3M0QqbI"
      },
      "source": [
        "# Data download\n",
        "\n",
        "Epidemiologic surveillance system of Mexico City:\n",
        "\n",
        "https://datos.cdmx.gob.mx/dataset/base-covid-sinave"
      ]
    },
    {
      "cell_type": "code",
      "execution_count": 3,
      "metadata": {
        "id": "ZVNQIz2gN8Dh"
      },
      "outputs": [],
      "source": [
        "#! wget -c \"https://archivo.datos.cdmx.gob.mx/sisver/sisver_public.csv\""
      ]
    },
    {
      "cell_type": "markdown",
      "metadata": {
        "id": "ZGU-YHvZQwiG"
      },
      "source": [
        "# Import Libraries"
      ]
    },
    {
      "cell_type": "code",
      "execution_count": 4,
      "metadata": {
        "id": "lOu70HBiQwRJ"
      },
      "outputs": [],
      "source": [
        "import pandas as pd\n",
        "import numpy as np\n",
        "import random"
      ]
    },
    {
      "cell_type": "code",
      "execution_count": 5,
      "metadata": {
        "id": "wK_obDKr2LYh"
      },
      "outputs": [],
      "source": [
        "\n",
        "import matplotlib.pyplot as plt\n",
        "\n",
        "\n",
        "from sklearn.neighbors import KNeighborsClassifier\n",
        "from sklearn.model_selection import train_test_split\n",
        "from sklearn import tree\n",
        "from sklearn.metrics import f1_score\n",
        "from sklearn.model_selection import train_test_split\n",
        "from sklearn.metrics import recall_score\n",
        "from sklearn.metrics import precision_score\n",
        "from sklearn.metrics import roc_curve, auc\n",
        "from sklearn import metrics"
      ]
    },
    {
      "cell_type": "code",
      "execution_count": 6,
      "metadata": {
        "colab": {
          "base_uri": "https://localhost:8080/"
        },
        "id": "lG1PUM5Q2LYi",
        "outputId": "fffd8af7-cb0a-4005-b7ef-50bf95f9b7f0"
      },
      "outputs": [
        {
          "output_type": "stream",
          "name": "stdout",
          "text": [
            "Hardware disponible: cuda\n",
            "\n"
          ]
        }
      ],
      "source": [
        "device = torch.device(\"cuda\" if torch.cuda.is_available() else \"cpu\")\n",
        "\n",
        "print (f\"Hardware disponible: {device}\\n\")"
      ]
    },
    {
      "cell_type": "markdown",
      "metadata": {
        "id": "8DO91vtr_g1G"
      },
      "source": [
        "# Import Data"
      ]
    },
    {
      "cell_type": "code",
      "execution_count": 7,
      "metadata": {
        "colab": {
          "base_uri": "https://localhost:8080/"
        },
        "id": "BhibeOcmOm4L",
        "outputId": "88b42557-1c92-4c15-e963-c3c7c02977ac"
      },
      "outputs": [
        {
          "output_type": "stream",
          "name": "stderr",
          "text": [
            "/usr/local/lib/python3.7/dist-packages/IPython/core/interactiveshell.py:2882: DtypeWarning: Columns (76,78,79,85) have mixed types.Specify dtype option on import or set low_memory=False.\n",
            "  exec(code_obj, self.user_global_ns, self.user_ns)\n"
          ]
        }
      ],
      "source": [
        "df = pd.read_csv(\"sisver_public.csv\")"
      ]
    },
    {
      "cell_type": "code",
      "execution_count": 8,
      "metadata": {
        "colab": {
          "base_uri": "https://localhost:8080/"
        },
        "id": "2KKC-o302LYj",
        "outputId": "c5923962-a9e5-4938-e33c-77f95774887d"
      },
      "outputs": [
        {
          "output_type": "execute_result",
          "data": {
            "text/plain": [
              "(3793152, 92)"
            ]
          },
          "metadata": {},
          "execution_count": 8
        }
      ],
      "source": [
        "df.shape"
      ]
    },
    {
      "cell_type": "markdown",
      "metadata": {
        "id": "OMRzy4Eo_j-g"
      },
      "source": [
        "# Preprocessing"
      ]
    },
    {
      "cell_type": "markdown",
      "metadata": {
        "id": "fwvR8VOLRe7h"
      },
      "source": [
        "Lets create a subset only with positive or negative covid cases:"
      ]
    },
    {
      "cell_type": "code",
      "execution_count": 9,
      "metadata": {
        "id": "ljHZR0cMWZl8"
      },
      "outputs": [],
      "source": [
        "df = df[df['resdefin'].isin(['NEGATIVO','SARS-CoV-2'])] "
      ]
    },
    {
      "cell_type": "markdown",
      "metadata": {
        "id": "fzBX0XaM_opo"
      },
      "source": [
        "Lets now select the most interesting fields"
      ]
    },
    {
      "cell_type": "code",
      "execution_count": 10,
      "metadata": {
        "id": "ehwU28FYRgRE"
      },
      "outputs": [],
      "source": [
        "columns = ['fechreg', 'sexo', 'tipacien', 'fecdef', 'intubado', 'digcline', 'edad', 'fiebre', 'tos', 'odinogia', 'disnea', 'irritabi', 'diarrea', \n",
        "           'dotoraci','calofrios', 'cefalea','mialgias', 'artral', 'ataedoge', \t'rinorrea', \t'polipnea', \t'vomito', \t'dolabdo', \t'conjun', \t'cianosis',\n",
        "           'inisubis', \t'diabetes', \t'epoc', \t'asma', \t'inmusupr', \t'hiperten', \t'vih_sida', \t'otracon', \t'enfcardi', \t'obesidad', \t'insrencr',\n",
        "           'tabaquis', 'resdefin']"
      ]
    },
    {
      "cell_type": "code",
      "execution_count": 11,
      "metadata": {
        "id": "lS1e4Jfrn7FJ"
      },
      "outputs": [],
      "source": [
        "labels_translation = {\"sexo\":\"Sex\", \"tipacien\":\"TypeOfPatient\",\"fecdef\":\"DefunctionDate\",\n",
        "                      \"digcline\":\"Pneumonia\", \"edad\":\"Age\", \"fiebre\":\"Fever\",\"tos\":\"Cough\",\n",
        "                      \"odinogia\":\"Odynophagia\", \"disnea\":\"ShortnessOfBreath\", \"irritabi\":\"Irritability\",\n",
        "                      \"diarrea\":\"Diarrhea\", 'dotoraci':\"ThoracicPain\",'calofrios':\"Chills\", \n",
        "                      'cefalea':\"Headache\",'mialgias':\"Myalgia\", 'artral':\"Arthralgia\", \n",
        "                      'ataedoge':\"PoorGeneralCondition\", 'rinorrea':\"Rhinorrhea\", \t\n",
        "                      'polipnea':\"Polypnea\", \t'vomito':\"Vomit\", \t'dolabdo':\"AbdominalPain\",\n",
        "                      'conjun':\"Conjunctivitis\", \t'cianosis':\"Cyanosis\", 'inisubis':\"SuddenSyndromStart\",\n",
        "                      'diabetes':\"Diabetes\", \t'epoc':\"COPD\", \t'asma':\"Asthma\", \t'inmusupr':\"Immunosuppression\",\n",
        "                      'hiperten':\"Hypertension\", \t'vih_sida':\"HIV/AIDS\", \t'otracon':\"OtherCommorbidity\",\n",
        "                      'enfcardi':\"CardiovascularDisease\", \t'obesidad':\"Obesity\", 'insrencr':\"ChronicKidneyDisease\",\n",
        "                      'tabaquis':\"Smoking\", 'resdefin':\"COVID-19\"}"
      ]
    },
    {
      "cell_type": "markdown",
      "metadata": {
        "id": "_KeQxP04_rvs"
      },
      "source": [
        "Lets create a subset with this fields:"
      ]
    },
    {
      "cell_type": "code",
      "execution_count": 12,
      "metadata": {
        "colab": {
          "base_uri": "https://localhost:8080/",
          "height": 404
        },
        "id": "Wbm5NDIHRiDj",
        "outputId": "f08a9f5c-9149-45af-93c3-03d9e0624302"
      },
      "outputs": [
        {
          "output_type": "stream",
          "name": "stdout",
          "text": [
            "(3692986, 38)\n"
          ]
        },
        {
          "output_type": "execute_result",
          "data": {
            "text/plain": [
              "                fechreg       sexo     tipacien fecdef intubado digcline  \\\n",
              "0  2021-01-15T00:00:00Z   FEMENINO  AMBULATORIO    NaN      NaN       NO   \n",
              "1  2021-10-08T00:00:00Z   FEMENINO  AMBULATORIO    NaN      NaN       NO   \n",
              "2  2021-07-08T00:00:00Z  MASCULINO  AMBULATORIO    NaN      NaN       NO   \n",
              "3  2022-01-28T00:00:00Z   FEMENINO  AMBULATORIO    NaN      NaN       NO   \n",
              "4  2021-08-15T00:00:00Z   FEMENINO  AMBULATORIO    NaN      NaN       NO   \n",
              "\n",
              "   edad fiebre tos odinogia  ... asma inmusupr hiperten vih_sida otracon  \\\n",
              "0    34     NO  NO       NO  ...   NO       NO       NO       NO      NO   \n",
              "1    44     NO  NO       NO  ...   NO       NO       NO       NO      NO   \n",
              "2    32     NO  SI       SI  ...   NO       NO       NO       NO      NO   \n",
              "3    39     NO  SI       SI  ...   NO       NO       NO       NO      NO   \n",
              "4    38     NO  SI       NO  ...   NO       NO       NO       NO      NO   \n",
              "\n",
              "  enfcardi obesidad insrencr tabaquis  resdefin  \n",
              "0       NO       NO       NO       NO  NEGATIVO  \n",
              "1       NO       NO       NO       NO  NEGATIVO  \n",
              "2       NO       NO       NO       NO  NEGATIVO  \n",
              "3       NO       NO       NO       NO  NEGATIVO  \n",
              "4       NO       NO       NO       NO  NEGATIVO  \n",
              "\n",
              "[5 rows x 38 columns]"
            ],
            "text/html": [
              "\n",
              "  <div id=\"df-e6462d3e-b611-4754-93c6-e9061220fa9e\">\n",
              "    <div class=\"colab-df-container\">\n",
              "      <div>\n",
              "<style scoped>\n",
              "    .dataframe tbody tr th:only-of-type {\n",
              "        vertical-align: middle;\n",
              "    }\n",
              "\n",
              "    .dataframe tbody tr th {\n",
              "        vertical-align: top;\n",
              "    }\n",
              "\n",
              "    .dataframe thead th {\n",
              "        text-align: right;\n",
              "    }\n",
              "</style>\n",
              "<table border=\"1\" class=\"dataframe\">\n",
              "  <thead>\n",
              "    <tr style=\"text-align: right;\">\n",
              "      <th></th>\n",
              "      <th>fechreg</th>\n",
              "      <th>sexo</th>\n",
              "      <th>tipacien</th>\n",
              "      <th>fecdef</th>\n",
              "      <th>intubado</th>\n",
              "      <th>digcline</th>\n",
              "      <th>edad</th>\n",
              "      <th>fiebre</th>\n",
              "      <th>tos</th>\n",
              "      <th>odinogia</th>\n",
              "      <th>...</th>\n",
              "      <th>asma</th>\n",
              "      <th>inmusupr</th>\n",
              "      <th>hiperten</th>\n",
              "      <th>vih_sida</th>\n",
              "      <th>otracon</th>\n",
              "      <th>enfcardi</th>\n",
              "      <th>obesidad</th>\n",
              "      <th>insrencr</th>\n",
              "      <th>tabaquis</th>\n",
              "      <th>resdefin</th>\n",
              "    </tr>\n",
              "  </thead>\n",
              "  <tbody>\n",
              "    <tr>\n",
              "      <th>0</th>\n",
              "      <td>2021-01-15T00:00:00Z</td>\n",
              "      <td>FEMENINO</td>\n",
              "      <td>AMBULATORIO</td>\n",
              "      <td>NaN</td>\n",
              "      <td>NaN</td>\n",
              "      <td>NO</td>\n",
              "      <td>34</td>\n",
              "      <td>NO</td>\n",
              "      <td>NO</td>\n",
              "      <td>NO</td>\n",
              "      <td>...</td>\n",
              "      <td>NO</td>\n",
              "      <td>NO</td>\n",
              "      <td>NO</td>\n",
              "      <td>NO</td>\n",
              "      <td>NO</td>\n",
              "      <td>NO</td>\n",
              "      <td>NO</td>\n",
              "      <td>NO</td>\n",
              "      <td>NO</td>\n",
              "      <td>NEGATIVO</td>\n",
              "    </tr>\n",
              "    <tr>\n",
              "      <th>1</th>\n",
              "      <td>2021-10-08T00:00:00Z</td>\n",
              "      <td>FEMENINO</td>\n",
              "      <td>AMBULATORIO</td>\n",
              "      <td>NaN</td>\n",
              "      <td>NaN</td>\n",
              "      <td>NO</td>\n",
              "      <td>44</td>\n",
              "      <td>NO</td>\n",
              "      <td>NO</td>\n",
              "      <td>NO</td>\n",
              "      <td>...</td>\n",
              "      <td>NO</td>\n",
              "      <td>NO</td>\n",
              "      <td>NO</td>\n",
              "      <td>NO</td>\n",
              "      <td>NO</td>\n",
              "      <td>NO</td>\n",
              "      <td>NO</td>\n",
              "      <td>NO</td>\n",
              "      <td>NO</td>\n",
              "      <td>NEGATIVO</td>\n",
              "    </tr>\n",
              "    <tr>\n",
              "      <th>2</th>\n",
              "      <td>2021-07-08T00:00:00Z</td>\n",
              "      <td>MASCULINO</td>\n",
              "      <td>AMBULATORIO</td>\n",
              "      <td>NaN</td>\n",
              "      <td>NaN</td>\n",
              "      <td>NO</td>\n",
              "      <td>32</td>\n",
              "      <td>NO</td>\n",
              "      <td>SI</td>\n",
              "      <td>SI</td>\n",
              "      <td>...</td>\n",
              "      <td>NO</td>\n",
              "      <td>NO</td>\n",
              "      <td>NO</td>\n",
              "      <td>NO</td>\n",
              "      <td>NO</td>\n",
              "      <td>NO</td>\n",
              "      <td>NO</td>\n",
              "      <td>NO</td>\n",
              "      <td>NO</td>\n",
              "      <td>NEGATIVO</td>\n",
              "    </tr>\n",
              "    <tr>\n",
              "      <th>3</th>\n",
              "      <td>2022-01-28T00:00:00Z</td>\n",
              "      <td>FEMENINO</td>\n",
              "      <td>AMBULATORIO</td>\n",
              "      <td>NaN</td>\n",
              "      <td>NaN</td>\n",
              "      <td>NO</td>\n",
              "      <td>39</td>\n",
              "      <td>NO</td>\n",
              "      <td>SI</td>\n",
              "      <td>SI</td>\n",
              "      <td>...</td>\n",
              "      <td>NO</td>\n",
              "      <td>NO</td>\n",
              "      <td>NO</td>\n",
              "      <td>NO</td>\n",
              "      <td>NO</td>\n",
              "      <td>NO</td>\n",
              "      <td>NO</td>\n",
              "      <td>NO</td>\n",
              "      <td>NO</td>\n",
              "      <td>NEGATIVO</td>\n",
              "    </tr>\n",
              "    <tr>\n",
              "      <th>4</th>\n",
              "      <td>2021-08-15T00:00:00Z</td>\n",
              "      <td>FEMENINO</td>\n",
              "      <td>AMBULATORIO</td>\n",
              "      <td>NaN</td>\n",
              "      <td>NaN</td>\n",
              "      <td>NO</td>\n",
              "      <td>38</td>\n",
              "      <td>NO</td>\n",
              "      <td>SI</td>\n",
              "      <td>NO</td>\n",
              "      <td>...</td>\n",
              "      <td>NO</td>\n",
              "      <td>NO</td>\n",
              "      <td>NO</td>\n",
              "      <td>NO</td>\n",
              "      <td>NO</td>\n",
              "      <td>NO</td>\n",
              "      <td>NO</td>\n",
              "      <td>NO</td>\n",
              "      <td>NO</td>\n",
              "      <td>NEGATIVO</td>\n",
              "    </tr>\n",
              "  </tbody>\n",
              "</table>\n",
              "<p>5 rows × 38 columns</p>\n",
              "</div>\n",
              "      <button class=\"colab-df-convert\" onclick=\"convertToInteractive('df-e6462d3e-b611-4754-93c6-e9061220fa9e')\"\n",
              "              title=\"Convert this dataframe to an interactive table.\"\n",
              "              style=\"display:none;\">\n",
              "        \n",
              "  <svg xmlns=\"http://www.w3.org/2000/svg\" height=\"24px\"viewBox=\"0 0 24 24\"\n",
              "       width=\"24px\">\n",
              "    <path d=\"M0 0h24v24H0V0z\" fill=\"none\"/>\n",
              "    <path d=\"M18.56 5.44l.94 2.06.94-2.06 2.06-.94-2.06-.94-.94-2.06-.94 2.06-2.06.94zm-11 1L8.5 8.5l.94-2.06 2.06-.94-2.06-.94L8.5 2.5l-.94 2.06-2.06.94zm10 10l.94 2.06.94-2.06 2.06-.94-2.06-.94-.94-2.06-.94 2.06-2.06.94z\"/><path d=\"M17.41 7.96l-1.37-1.37c-.4-.4-.92-.59-1.43-.59-.52 0-1.04.2-1.43.59L10.3 9.45l-7.72 7.72c-.78.78-.78 2.05 0 2.83L4 21.41c.39.39.9.59 1.41.59.51 0 1.02-.2 1.41-.59l7.78-7.78 2.81-2.81c.8-.78.8-2.07 0-2.86zM5.41 20L4 18.59l7.72-7.72 1.47 1.35L5.41 20z\"/>\n",
              "  </svg>\n",
              "      </button>\n",
              "      \n",
              "  <style>\n",
              "    .colab-df-container {\n",
              "      display:flex;\n",
              "      flex-wrap:wrap;\n",
              "      gap: 12px;\n",
              "    }\n",
              "\n",
              "    .colab-df-convert {\n",
              "      background-color: #E8F0FE;\n",
              "      border: none;\n",
              "      border-radius: 50%;\n",
              "      cursor: pointer;\n",
              "      display: none;\n",
              "      fill: #1967D2;\n",
              "      height: 32px;\n",
              "      padding: 0 0 0 0;\n",
              "      width: 32px;\n",
              "    }\n",
              "\n",
              "    .colab-df-convert:hover {\n",
              "      background-color: #E2EBFA;\n",
              "      box-shadow: 0px 1px 2px rgba(60, 64, 67, 0.3), 0px 1px 3px 1px rgba(60, 64, 67, 0.15);\n",
              "      fill: #174EA6;\n",
              "    }\n",
              "\n",
              "    [theme=dark] .colab-df-convert {\n",
              "      background-color: #3B4455;\n",
              "      fill: #D2E3FC;\n",
              "    }\n",
              "\n",
              "    [theme=dark] .colab-df-convert:hover {\n",
              "      background-color: #434B5C;\n",
              "      box-shadow: 0px 1px 3px 1px rgba(0, 0, 0, 0.15);\n",
              "      filter: drop-shadow(0px 1px 2px rgba(0, 0, 0, 0.3));\n",
              "      fill: #FFFFFF;\n",
              "    }\n",
              "  </style>\n",
              "\n",
              "      <script>\n",
              "        const buttonEl =\n",
              "          document.querySelector('#df-e6462d3e-b611-4754-93c6-e9061220fa9e button.colab-df-convert');\n",
              "        buttonEl.style.display =\n",
              "          google.colab.kernel.accessAllowed ? 'block' : 'none';\n",
              "\n",
              "        async function convertToInteractive(key) {\n",
              "          const element = document.querySelector('#df-e6462d3e-b611-4754-93c6-e9061220fa9e');\n",
              "          const dataTable =\n",
              "            await google.colab.kernel.invokeFunction('convertToInteractive',\n",
              "                                                     [key], {});\n",
              "          if (!dataTable) return;\n",
              "\n",
              "          const docLinkHtml = 'Like what you see? Visit the ' +\n",
              "            '<a target=\"_blank\" href=https://colab.research.google.com/notebooks/data_table.ipynb>data table notebook</a>'\n",
              "            + ' to learn more about interactive tables.';\n",
              "          element.innerHTML = '';\n",
              "          dataTable['output_type'] = 'display_data';\n",
              "          await google.colab.output.renderOutput(dataTable, element);\n",
              "          const docLink = document.createElement('div');\n",
              "          docLink.innerHTML = docLinkHtml;\n",
              "          element.appendChild(docLink);\n",
              "        }\n",
              "      </script>\n",
              "    </div>\n",
              "  </div>\n",
              "  "
            ]
          },
          "metadata": {},
          "execution_count": 12
        }
      ],
      "source": [
        "dfmini = df.loc[:,columns]\n",
        "print(dfmini.shape)\n",
        "dfmini.head()"
      ]
    },
    {
      "cell_type": "markdown",
      "metadata": {
        "id": "3OV_G0j6_vHz"
      },
      "source": [
        "Lets check for empty values:"
      ]
    },
    {
      "cell_type": "code",
      "execution_count": 13,
      "metadata": {
        "colab": {
          "base_uri": "https://localhost:8080/"
        },
        "id": "85zsxSovUduO",
        "outputId": "2af54874-ea3f-4c1d-c752-e09644f40ec1"
      },
      "outputs": [
        {
          "output_type": "stream",
          "name": "stdout",
          "text": [
            "fecdef      0.993265\n",
            "intubado    0.975202\n",
            "digcline    0.000357\n",
            "fechreg     0.000000\n",
            "inmusupr    0.000000\n",
            "dtype: float64\n"
          ]
        }
      ],
      "source": [
        "nulls = (dfmini.isnull().sum()/len(dfmini)).sort_values(ascending=False)[:5]\n",
        "print(nulls)"
      ]
    },
    {
      "cell_type": "markdown",
      "metadata": {
        "id": "9S-nZvIO_x04"
      },
      "source": [
        "Lets fill the NaNs with default values\n",
        "\n",
        "    fecdef (defunction date) -> if empty hasn't die\n",
        "\n",
        "    intubado (intubated)  -> if empty wasn't intubated\n",
        "    \n",
        "    digcline (clinic diagnoses of Pneumonia)  -> if empty was not diagnosed\n"
      ]
    },
    {
      "cell_type": "code",
      "execution_count": 14,
      "metadata": {
        "id": "TKfBA6VJUloC"
      },
      "outputs": [],
      "source": [
        "dfmini[\"fecdef\"].fillna(\"NO\", inplace=True)\n",
        "dfmini[\"intubado\"].fillna(\"NO\", inplace=True)\n",
        "dfmini[\"digcline\"].fillna(\"NO\", inplace=True)\n",
        "# Lets change defunction dates to a binary indicator of whether the patient died or not\n",
        "dfmini[\"fecdef\"] = dfmini[\"fecdef\"].map(lambda x: \"SI\" if x != \"NO\" else x)"
      ]
    },
    {
      "cell_type": "markdown",
      "metadata": {
        "id": "AcUcOTsL2YXN"
      },
      "source": [
        "Lets check again for null values"
      ]
    },
    {
      "cell_type": "code",
      "execution_count": 15,
      "metadata": {
        "colab": {
          "base_uri": "https://localhost:8080/"
        },
        "id": "t3lXdhnQKLcZ",
        "outputId": "c94cba6b-1549-4ece-9e0c-0dad218b67d5"
      },
      "outputs": [
        {
          "output_type": "execute_result",
          "data": {
            "text/plain": [
              "fechreg    0.0\n",
              "asma       0.0\n",
              "vomito     0.0\n",
              "dolabdo    0.0\n",
              "conjun     0.0\n",
              "dtype: float64"
            ]
          },
          "metadata": {},
          "execution_count": 15
        }
      ],
      "source": [
        "(dfmini.isnull().sum()/len(dfmini)).sort_values(ascending=False)[:5]"
      ]
    },
    {
      "cell_type": "code",
      "execution_count": 16,
      "metadata": {
        "colab": {
          "base_uri": "https://localhost:8080/"
        },
        "id": "u6McMHjnHk3t",
        "outputId": "b200256f-e95b-4b53-8b0b-f66b765af841"
      },
      "outputs": [
        {
          "output_type": "execute_result",
          "data": {
            "text/plain": [
              "(array(['NO', 'SI', 'SE IGNORA'], dtype=object), (3692986, 38))"
            ]
          },
          "metadata": {},
          "execution_count": 16
        }
      ],
      "source": [
        "dfmini.diabetes.unique(), dfmini.shape"
      ]
    },
    {
      "cell_type": "markdown",
      "metadata": {
        "id": "ZQijdxvQIBrP"
      },
      "source": [
        "Lets remove unknown data:"
      ]
    },
    {
      "cell_type": "code",
      "execution_count": 17,
      "metadata": {
        "colab": {
          "base_uri": "https://localhost:8080/"
        },
        "id": "tgBsTUoFIBUB",
        "outputId": "76d59772-ba32-4564-fbe0-652cc715a166"
      },
      "outputs": [
        {
          "output_type": "execute_result",
          "data": {
            "text/plain": [
              "(3659727, 38)"
            ]
          },
          "metadata": {},
          "execution_count": 17
        }
      ],
      "source": [
        "to_check = ['fiebre', 'tos', 'odinogia', 'disnea', 'irritabi', 'diarrea', 'dotoraci',\n",
        "            'calofrios', 'cefalea','mialgias', 'artral', 'ataedoge', \t'rinorrea', \t\n",
        "            'polipnea', \t'vomito', \t'dolabdo', \t'conjun', \t'cianosis','inisubis', \t\n",
        "            'diabetes', \t'epoc', \t'asma', \t'inmusupr', \t'hiperten', \t'vih_sida', \t\n",
        "            'otracon', \t'enfcardi', \t'obesidad', \t'insrencr','tabaquis']\n",
        "\n",
        "for col in to_check:\n",
        "  dfmini = dfmini[dfmini[col] != 'SE IGNORA']\n",
        "\n",
        "dfmini.shape"
      ]
    },
    {
      "cell_type": "code",
      "execution_count": 18,
      "metadata": {
        "colab": {
          "base_uri": "https://localhost:8080/"
        },
        "id": "FdUgjK5xJGgM",
        "outputId": "4d99e840-d7e0-4324-b00b-b4845bb5a640"
      },
      "outputs": [
        {
          "output_type": "execute_result",
          "data": {
            "text/plain": [
              "(array(['NO', 'SI'], dtype=object), (3659727, 38))"
            ]
          },
          "metadata": {},
          "execution_count": 18
        }
      ],
      "source": [
        "dfmini.diabetes.unique(), dfmini.shape"
      ]
    },
    {
      "cell_type": "markdown",
      "metadata": {
        "id": "FtBQc83P26qU"
      },
      "source": [
        "Lets change the boolean word of \"No\" and \"Sí\" for 0s and 1s."
      ]
    },
    {
      "cell_type": "code",
      "execution_count": 19,
      "metadata": {
        "colab": {
          "base_uri": "https://localhost:8080/",
          "height": 386
        },
        "id": "GDUwhowrPl5z",
        "outputId": "27afc3b8-1cc4-42c6-be52-2268ca313169"
      },
      "outputs": [
        {
          "output_type": "execute_result",
          "data": {
            "text/plain": [
              "                fechreg  sexo  tipacien  fecdef  intubado  digcline  edad  \\\n",
              "0  2021-01-15T00:00:00Z     0         0       0         0         0    34   \n",
              "1  2021-10-08T00:00:00Z     0         0       0         0         0    44   \n",
              "2  2021-07-08T00:00:00Z     1         0       0         0         0    32   \n",
              "3  2022-01-28T00:00:00Z     0         0       0         0         0    39   \n",
              "4  2021-08-15T00:00:00Z     0         0       0         0         0    38   \n",
              "\n",
              "   fiebre  tos  odinogia  ...  asma  inmusupr  hiperten  vih_sida  otracon  \\\n",
              "0       0    0         0  ...     0         0         0         0        0   \n",
              "1       0    0         0  ...     0         0         0         0        0   \n",
              "2       0    1         1  ...     0         0         0         0        0   \n",
              "3       0    1         1  ...     0         0         0         0        0   \n",
              "4       0    1         0  ...     0         0         0         0        0   \n",
              "\n",
              "   enfcardi  obesidad  insrencr  tabaquis  resdefin  \n",
              "0         0         0         0         0         0  \n",
              "1         0         0         0         0         0  \n",
              "2         0         0         0         0         0  \n",
              "3         0         0         0         0         0  \n",
              "4         0         0         0         0         0  \n",
              "\n",
              "[5 rows x 38 columns]"
            ],
            "text/html": [
              "\n",
              "  <div id=\"df-47581d85-d41b-4224-bc0d-3059738e1615\">\n",
              "    <div class=\"colab-df-container\">\n",
              "      <div>\n",
              "<style scoped>\n",
              "    .dataframe tbody tr th:only-of-type {\n",
              "        vertical-align: middle;\n",
              "    }\n",
              "\n",
              "    .dataframe tbody tr th {\n",
              "        vertical-align: top;\n",
              "    }\n",
              "\n",
              "    .dataframe thead th {\n",
              "        text-align: right;\n",
              "    }\n",
              "</style>\n",
              "<table border=\"1\" class=\"dataframe\">\n",
              "  <thead>\n",
              "    <tr style=\"text-align: right;\">\n",
              "      <th></th>\n",
              "      <th>fechreg</th>\n",
              "      <th>sexo</th>\n",
              "      <th>tipacien</th>\n",
              "      <th>fecdef</th>\n",
              "      <th>intubado</th>\n",
              "      <th>digcline</th>\n",
              "      <th>edad</th>\n",
              "      <th>fiebre</th>\n",
              "      <th>tos</th>\n",
              "      <th>odinogia</th>\n",
              "      <th>...</th>\n",
              "      <th>asma</th>\n",
              "      <th>inmusupr</th>\n",
              "      <th>hiperten</th>\n",
              "      <th>vih_sida</th>\n",
              "      <th>otracon</th>\n",
              "      <th>enfcardi</th>\n",
              "      <th>obesidad</th>\n",
              "      <th>insrencr</th>\n",
              "      <th>tabaquis</th>\n",
              "      <th>resdefin</th>\n",
              "    </tr>\n",
              "  </thead>\n",
              "  <tbody>\n",
              "    <tr>\n",
              "      <th>0</th>\n",
              "      <td>2021-01-15T00:00:00Z</td>\n",
              "      <td>0</td>\n",
              "      <td>0</td>\n",
              "      <td>0</td>\n",
              "      <td>0</td>\n",
              "      <td>0</td>\n",
              "      <td>34</td>\n",
              "      <td>0</td>\n",
              "      <td>0</td>\n",
              "      <td>0</td>\n",
              "      <td>...</td>\n",
              "      <td>0</td>\n",
              "      <td>0</td>\n",
              "      <td>0</td>\n",
              "      <td>0</td>\n",
              "      <td>0</td>\n",
              "      <td>0</td>\n",
              "      <td>0</td>\n",
              "      <td>0</td>\n",
              "      <td>0</td>\n",
              "      <td>0</td>\n",
              "    </tr>\n",
              "    <tr>\n",
              "      <th>1</th>\n",
              "      <td>2021-10-08T00:00:00Z</td>\n",
              "      <td>0</td>\n",
              "      <td>0</td>\n",
              "      <td>0</td>\n",
              "      <td>0</td>\n",
              "      <td>0</td>\n",
              "      <td>44</td>\n",
              "      <td>0</td>\n",
              "      <td>0</td>\n",
              "      <td>0</td>\n",
              "      <td>...</td>\n",
              "      <td>0</td>\n",
              "      <td>0</td>\n",
              "      <td>0</td>\n",
              "      <td>0</td>\n",
              "      <td>0</td>\n",
              "      <td>0</td>\n",
              "      <td>0</td>\n",
              "      <td>0</td>\n",
              "      <td>0</td>\n",
              "      <td>0</td>\n",
              "    </tr>\n",
              "    <tr>\n",
              "      <th>2</th>\n",
              "      <td>2021-07-08T00:00:00Z</td>\n",
              "      <td>1</td>\n",
              "      <td>0</td>\n",
              "      <td>0</td>\n",
              "      <td>0</td>\n",
              "      <td>0</td>\n",
              "      <td>32</td>\n",
              "      <td>0</td>\n",
              "      <td>1</td>\n",
              "      <td>1</td>\n",
              "      <td>...</td>\n",
              "      <td>0</td>\n",
              "      <td>0</td>\n",
              "      <td>0</td>\n",
              "      <td>0</td>\n",
              "      <td>0</td>\n",
              "      <td>0</td>\n",
              "      <td>0</td>\n",
              "      <td>0</td>\n",
              "      <td>0</td>\n",
              "      <td>0</td>\n",
              "    </tr>\n",
              "    <tr>\n",
              "      <th>3</th>\n",
              "      <td>2022-01-28T00:00:00Z</td>\n",
              "      <td>0</td>\n",
              "      <td>0</td>\n",
              "      <td>0</td>\n",
              "      <td>0</td>\n",
              "      <td>0</td>\n",
              "      <td>39</td>\n",
              "      <td>0</td>\n",
              "      <td>1</td>\n",
              "      <td>1</td>\n",
              "      <td>...</td>\n",
              "      <td>0</td>\n",
              "      <td>0</td>\n",
              "      <td>0</td>\n",
              "      <td>0</td>\n",
              "      <td>0</td>\n",
              "      <td>0</td>\n",
              "      <td>0</td>\n",
              "      <td>0</td>\n",
              "      <td>0</td>\n",
              "      <td>0</td>\n",
              "    </tr>\n",
              "    <tr>\n",
              "      <th>4</th>\n",
              "      <td>2021-08-15T00:00:00Z</td>\n",
              "      <td>0</td>\n",
              "      <td>0</td>\n",
              "      <td>0</td>\n",
              "      <td>0</td>\n",
              "      <td>0</td>\n",
              "      <td>38</td>\n",
              "      <td>0</td>\n",
              "      <td>1</td>\n",
              "      <td>0</td>\n",
              "      <td>...</td>\n",
              "      <td>0</td>\n",
              "      <td>0</td>\n",
              "      <td>0</td>\n",
              "      <td>0</td>\n",
              "      <td>0</td>\n",
              "      <td>0</td>\n",
              "      <td>0</td>\n",
              "      <td>0</td>\n",
              "      <td>0</td>\n",
              "      <td>0</td>\n",
              "    </tr>\n",
              "  </tbody>\n",
              "</table>\n",
              "<p>5 rows × 38 columns</p>\n",
              "</div>\n",
              "      <button class=\"colab-df-convert\" onclick=\"convertToInteractive('df-47581d85-d41b-4224-bc0d-3059738e1615')\"\n",
              "              title=\"Convert this dataframe to an interactive table.\"\n",
              "              style=\"display:none;\">\n",
              "        \n",
              "  <svg xmlns=\"http://www.w3.org/2000/svg\" height=\"24px\"viewBox=\"0 0 24 24\"\n",
              "       width=\"24px\">\n",
              "    <path d=\"M0 0h24v24H0V0z\" fill=\"none\"/>\n",
              "    <path d=\"M18.56 5.44l.94 2.06.94-2.06 2.06-.94-2.06-.94-.94-2.06-.94 2.06-2.06.94zm-11 1L8.5 8.5l.94-2.06 2.06-.94-2.06-.94L8.5 2.5l-.94 2.06-2.06.94zm10 10l.94 2.06.94-2.06 2.06-.94-2.06-.94-.94-2.06-.94 2.06-2.06.94z\"/><path d=\"M17.41 7.96l-1.37-1.37c-.4-.4-.92-.59-1.43-.59-.52 0-1.04.2-1.43.59L10.3 9.45l-7.72 7.72c-.78.78-.78 2.05 0 2.83L4 21.41c.39.39.9.59 1.41.59.51 0 1.02-.2 1.41-.59l7.78-7.78 2.81-2.81c.8-.78.8-2.07 0-2.86zM5.41 20L4 18.59l7.72-7.72 1.47 1.35L5.41 20z\"/>\n",
              "  </svg>\n",
              "      </button>\n",
              "      \n",
              "  <style>\n",
              "    .colab-df-container {\n",
              "      display:flex;\n",
              "      flex-wrap:wrap;\n",
              "      gap: 12px;\n",
              "    }\n",
              "\n",
              "    .colab-df-convert {\n",
              "      background-color: #E8F0FE;\n",
              "      border: none;\n",
              "      border-radius: 50%;\n",
              "      cursor: pointer;\n",
              "      display: none;\n",
              "      fill: #1967D2;\n",
              "      height: 32px;\n",
              "      padding: 0 0 0 0;\n",
              "      width: 32px;\n",
              "    }\n",
              "\n",
              "    .colab-df-convert:hover {\n",
              "      background-color: #E2EBFA;\n",
              "      box-shadow: 0px 1px 2px rgba(60, 64, 67, 0.3), 0px 1px 3px 1px rgba(60, 64, 67, 0.15);\n",
              "      fill: #174EA6;\n",
              "    }\n",
              "\n",
              "    [theme=dark] .colab-df-convert {\n",
              "      background-color: #3B4455;\n",
              "      fill: #D2E3FC;\n",
              "    }\n",
              "\n",
              "    [theme=dark] .colab-df-convert:hover {\n",
              "      background-color: #434B5C;\n",
              "      box-shadow: 0px 1px 3px 1px rgba(0, 0, 0, 0.15);\n",
              "      filter: drop-shadow(0px 1px 2px rgba(0, 0, 0, 0.3));\n",
              "      fill: #FFFFFF;\n",
              "    }\n",
              "  </style>\n",
              "\n",
              "      <script>\n",
              "        const buttonEl =\n",
              "          document.querySelector('#df-47581d85-d41b-4224-bc0d-3059738e1615 button.colab-df-convert');\n",
              "        buttonEl.style.display =\n",
              "          google.colab.kernel.accessAllowed ? 'block' : 'none';\n",
              "\n",
              "        async function convertToInteractive(key) {\n",
              "          const element = document.querySelector('#df-47581d85-d41b-4224-bc0d-3059738e1615');\n",
              "          const dataTable =\n",
              "            await google.colab.kernel.invokeFunction('convertToInteractive',\n",
              "                                                     [key], {});\n",
              "          if (!dataTable) return;\n",
              "\n",
              "          const docLinkHtml = 'Like what you see? Visit the ' +\n",
              "            '<a target=\"_blank\" href=https://colab.research.google.com/notebooks/data_table.ipynb>data table notebook</a>'\n",
              "            + ' to learn more about interactive tables.';\n",
              "          element.innerHTML = '';\n",
              "          dataTable['output_type'] = 'display_data';\n",
              "          await google.colab.output.renderOutput(dataTable, element);\n",
              "          const docLink = document.createElement('div');\n",
              "          docLink.innerHTML = docLinkHtml;\n",
              "          element.appendChild(docLink);\n",
              "        }\n",
              "      </script>\n",
              "    </div>\n",
              "  </div>\n",
              "  "
            ]
          },
          "metadata": {},
          "execution_count": 19
        }
      ],
      "source": [
        "cat = {}\n",
        "for col in dfmini:\n",
        "  if col in [\"fechreg\", \"edad\"]: continue \n",
        "  map = {x:i for i,x in enumerate(dfmini[col].unique())}\n",
        "  cat[col] = map\n",
        "  dfmini[col] = dfmini[col].map(map)\n",
        "\n",
        "dfmini.head()"
      ]
    },
    {
      "cell_type": "code",
      "execution_count": 20,
      "metadata": {
        "id": "GRnc-iW4Gjip"
      },
      "outputs": [],
      "source": [
        "dfmini = dfmini.sample(2000000, random_state=42) # two million registers"
      ]
    },
    {
      "cell_type": "markdown",
      "metadata": {
        "id": "NNLv6Q9BCDPq"
      },
      "source": [
        "Lets make a dataset for symptoms and covid-19 diagnoses:"
      ]
    },
    {
      "cell_type": "code",
      "execution_count": 21,
      "metadata": {
        "colab": {
          "base_uri": "https://localhost:8080/"
        },
        "id": "W_zx4BPnCPGX",
        "outputId": "adff639f-61e8-4cd8-faa0-7790b0078b04"
      },
      "outputs": [
        {
          "output_type": "execute_result",
          "data": {
            "text/plain": [
              "(         sexo  edad  fiebre  tos  odinogia  disnea  irritabi  diarrea  \\\n",
              " 1173599     1    49       1    0         0       0         0        0   \n",
              " 2712989     0    58       0    0         0       0         0        0   \n",
              " 141825      0    51       0    1         0       0         0        0   \n",
              " 1003142     1    32       0    0         0       0         0        0   \n",
              " 3598245     1    29       0    0         0       0         0        1   \n",
              " \n",
              "          dotoraci  calofrios  ...  artral  ataedoge  rinorrea  polipnea  \\\n",
              " 1173599         0          0  ...       1         0         0         0   \n",
              " 2712989         0          0  ...       0         0         0         0   \n",
              " 141825          1          1  ...       0         0         0         0   \n",
              " 1003142         0          0  ...       0         0         0         0   \n",
              " 3598245         0          0  ...       0         0         0         0   \n",
              " \n",
              "          vomito  dolabdo  conjun  cianosis  inisubis  resdefin  \n",
              " 1173599       0        0       0         0         0         1  \n",
              " 2712989       0        0       0         0         0         0  \n",
              " 141825        0        0       0         0         0         0  \n",
              " 1003142       0        0       0         0         0         0  \n",
              " 3598245       0        0       0         0         0         0  \n",
              " \n",
              " [5 rows x 22 columns], (2000000, 22))"
            ]
          },
          "metadata": {},
          "execution_count": 21
        }
      ],
      "source": [
        "# Lets create a dataframe to try to detect covid given the symptoms\n",
        "col_sin = ['sexo', 'edad', 'fiebre', 'tos', 'odinogia', 'disnea', 'irritabi', 'diarrea', \n",
        "           'dotoraci','calofrios', 'cefalea', 'mialgias', 'artral', 'ataedoge', 'rinorrea', 'polipnea',\t'vomito', 'dolabdo', 'conjun', 'cianosis',\n",
        "           'inisubis', 'resdefin'] #'tipacien', 'intubado', 'digcline', \n",
        "\n",
        "df_sin = dfmini.loc[:,col_sin]\n",
        "df_sin.head(), df_sin.shape"
      ]
    },
    {
      "cell_type": "markdown",
      "metadata": {
        "id": "AYG-pqyMCVh1"
      },
      "source": [
        "Lets make a dataframe for the comorbidities and defuntion outcome given a pacient is positive to covid-19."
      ]
    },
    {
      "cell_type": "code",
      "execution_count": 22,
      "metadata": {
        "colab": {
          "base_uri": "https://localhost:8080/"
        },
        "id": "ZYS6mQH9RdlG",
        "outputId": "ccab3bef-131d-4ebf-b3fe-88ae1f65de55"
      },
      "outputs": [
        {
          "output_type": "execute_result",
          "data": {
            "text/plain": [
              "(         sexo  edad  diabetes  epoc  asma  inmusupr  hiperten  vih_sida  \\\n",
              " 1173599     1    49         0     0     0         0         0         0   \n",
              " 1985058     0    11         0     0     0         0         0         0   \n",
              " 3231131     1    26         0     0     0         0         0         0   \n",
              " 476817      1    29         0     0     0         0         0         0   \n",
              " 1104026     1    23         0     0     0         0         0         0   \n",
              " \n",
              "          otracon  enfcardi  obesidad  insrencr  tabaquis  fecdef  \n",
              " 1173599        0         0         0         0         0       0  \n",
              " 1985058        0         0         0         0         0       0  \n",
              " 3231131        0         0         0         0         0       0  \n",
              " 476817         0         0         0         0         1       0  \n",
              " 1104026        0         0         0         0         0       0  ,\n",
              " (431112, 14))"
            ]
          },
          "metadata": {},
          "execution_count": 22
        }
      ],
      "source": [
        "# Lets create a dataframe for deaths given the comorbidities\n",
        "col_com  = ['sexo', 'edad', 'diabetes',\t'epoc', 'asma',\t'inmusupr', \n",
        "            'hiperten', 'vih_sida', 'otracon', 'enfcardi', 'obesidad', 'insrencr',\n",
        "            'tabaquis', 'resdefin', 'fecdef']\n",
        "\n",
        "df_com = dfmini.loc[:,col_com]\n",
        "df_com = df_com[df_com['resdefin']==1]\n",
        "df_com.drop('resdefin', axis=1, inplace=True)\n",
        "df_com.head(), df_com.shape"
      ]
    },
    {
      "cell_type": "markdown",
      "metadata": {
        "id": "kZgwBqtC6d2V"
      },
      "source": [
        "Lets now make a dataframe to try to predict if a pacient will be hospitalized given his symptoms and comorbidities:\n",
        "\n",
        "Tratamos de predecir si el paciente quedara hospitalizado a traves de sus sintomas y comorbilidades, observe que el hecho de que el paciente este intubado implica que esta hospitalizado, asi que creamos un nuevo dataframe borrando esta columnas, asi como las columnas, tippacien,fecdef,resdefin y tomamos la columna $y$ como la columna que nos dice si el paciente fue hospitalizado o no"
      ]
    },
    {
      "cell_type": "code",
      "execution_count": 23,
      "metadata": {
        "id": "4QPdVA4bDcZe"
      },
      "outputs": [],
      "source": [
        "# Lets create a dataframe for hospitalizations given symptoms and comorbidities\n",
        "symptoms_and_com = ['sexo', 'digcline', 'edad', 'fiebre', 'tos', 'odinogia', 'disnea', 'irritabi', 'diarrea', \n",
        "           'dotoraci','calofrios', 'cefalea','mialgias', 'artral', 'ataedoge', \t'rinorrea', \t'polipnea', \t'vomito', \t'dolabdo', \t'conjun', \t'cianosis',\n",
        "           'inisubis', \t'diabetes', \t'epoc', \t'asma', \t'inmusupr', \t'hiperten', \t'vih_sida', \t'otracon', \t'enfcardi', \t'obesidad', \t'insrencr',\n",
        "           'tabaquis', 'resdefin', 'tipacien']"
      ]
    },
    {
      "cell_type": "code",
      "execution_count": 24,
      "metadata": {
        "colab": {
          "base_uri": "https://localhost:8080/",
          "height": 488
        },
        "id": "z6fGN5_NERBn",
        "outputId": "b0f035f4-1e64-45ec-ed46-5174e3bb5c76"
      },
      "outputs": [
        {
          "output_type": "execute_result",
          "data": {
            "text/plain": [
              "         sexo  digcline  edad  fiebre  tos  odinogia  disnea  irritabi  \\\n",
              "1173599     1         0    49       1    0         0       0         0   \n",
              "1985058     0         0    11       1    0         0       0         0   \n",
              "3231131     1         0    26       0    0         0       0         0   \n",
              "476817      1         0    29       1    1         0       0         0   \n",
              "1104026     1         0    23       1    1         0       0         0   \n",
              "...       ...       ...   ...     ...  ...       ...     ...       ...   \n",
              "3068960     0         1    14       0    0         0       0         0   \n",
              "1203167     0         0    44       1    1         1       0         0   \n",
              "330         1         0    46       0    1         1       0         0   \n",
              "169046      1         0    24       1    0         0       0         0   \n",
              "1187622     0         0    41       1    1         1       1         1   \n",
              "\n",
              "         diarrea  dotoraci  ...  asma  inmusupr  hiperten  vih_sida  otracon  \\\n",
              "1173599        0         0  ...     0         0         0         0        0   \n",
              "1985058        0         0  ...     0         0         0         0        0   \n",
              "3231131        0         0  ...     0         0         0         0        0   \n",
              "476817         0         0  ...     0         0         0         0        0   \n",
              "1104026        0         0  ...     0         0         0         0        0   \n",
              "...          ...       ...  ...   ...       ...       ...       ...      ...   \n",
              "3068960        0         0  ...     0         0         0         0        0   \n",
              "1203167        0         1  ...     0         0         0         0        0   \n",
              "330            0         0  ...     0         0         0         0        0   \n",
              "169046         0         0  ...     0         0         0         0        0   \n",
              "1187622        1         1  ...     0         0         0         0        0   \n",
              "\n",
              "         enfcardi  obesidad  insrencr  tabaquis  tipacien  \n",
              "1173599         0         0         0         0         0  \n",
              "1985058         0         0         0         0         0  \n",
              "3231131         0         0         0         0         0  \n",
              "476817          0         0         0         1         0  \n",
              "1104026         0         0         0         0         0  \n",
              "...           ...       ...       ...       ...       ...  \n",
              "3068960         0         0         0         0         0  \n",
              "1203167         0         0         0         1         0  \n",
              "330             0         0         0         1         0  \n",
              "169046          0         0         0         0         0  \n",
              "1187622         0         0         0         1         0  \n",
              "\n",
              "[431112 rows x 34 columns]"
            ],
            "text/html": [
              "\n",
              "  <div id=\"df-cc2325b7-7878-40de-84bf-9df074d2ac1f\">\n",
              "    <div class=\"colab-df-container\">\n",
              "      <div>\n",
              "<style scoped>\n",
              "    .dataframe tbody tr th:only-of-type {\n",
              "        vertical-align: middle;\n",
              "    }\n",
              "\n",
              "    .dataframe tbody tr th {\n",
              "        vertical-align: top;\n",
              "    }\n",
              "\n",
              "    .dataframe thead th {\n",
              "        text-align: right;\n",
              "    }\n",
              "</style>\n",
              "<table border=\"1\" class=\"dataframe\">\n",
              "  <thead>\n",
              "    <tr style=\"text-align: right;\">\n",
              "      <th></th>\n",
              "      <th>sexo</th>\n",
              "      <th>digcline</th>\n",
              "      <th>edad</th>\n",
              "      <th>fiebre</th>\n",
              "      <th>tos</th>\n",
              "      <th>odinogia</th>\n",
              "      <th>disnea</th>\n",
              "      <th>irritabi</th>\n",
              "      <th>diarrea</th>\n",
              "      <th>dotoraci</th>\n",
              "      <th>...</th>\n",
              "      <th>asma</th>\n",
              "      <th>inmusupr</th>\n",
              "      <th>hiperten</th>\n",
              "      <th>vih_sida</th>\n",
              "      <th>otracon</th>\n",
              "      <th>enfcardi</th>\n",
              "      <th>obesidad</th>\n",
              "      <th>insrencr</th>\n",
              "      <th>tabaquis</th>\n",
              "      <th>tipacien</th>\n",
              "    </tr>\n",
              "  </thead>\n",
              "  <tbody>\n",
              "    <tr>\n",
              "      <th>1173599</th>\n",
              "      <td>1</td>\n",
              "      <td>0</td>\n",
              "      <td>49</td>\n",
              "      <td>1</td>\n",
              "      <td>0</td>\n",
              "      <td>0</td>\n",
              "      <td>0</td>\n",
              "      <td>0</td>\n",
              "      <td>0</td>\n",
              "      <td>0</td>\n",
              "      <td>...</td>\n",
              "      <td>0</td>\n",
              "      <td>0</td>\n",
              "      <td>0</td>\n",
              "      <td>0</td>\n",
              "      <td>0</td>\n",
              "      <td>0</td>\n",
              "      <td>0</td>\n",
              "      <td>0</td>\n",
              "      <td>0</td>\n",
              "      <td>0</td>\n",
              "    </tr>\n",
              "    <tr>\n",
              "      <th>1985058</th>\n",
              "      <td>0</td>\n",
              "      <td>0</td>\n",
              "      <td>11</td>\n",
              "      <td>1</td>\n",
              "      <td>0</td>\n",
              "      <td>0</td>\n",
              "      <td>0</td>\n",
              "      <td>0</td>\n",
              "      <td>0</td>\n",
              "      <td>0</td>\n",
              "      <td>...</td>\n",
              "      <td>0</td>\n",
              "      <td>0</td>\n",
              "      <td>0</td>\n",
              "      <td>0</td>\n",
              "      <td>0</td>\n",
              "      <td>0</td>\n",
              "      <td>0</td>\n",
              "      <td>0</td>\n",
              "      <td>0</td>\n",
              "      <td>0</td>\n",
              "    </tr>\n",
              "    <tr>\n",
              "      <th>3231131</th>\n",
              "      <td>1</td>\n",
              "      <td>0</td>\n",
              "      <td>26</td>\n",
              "      <td>0</td>\n",
              "      <td>0</td>\n",
              "      <td>0</td>\n",
              "      <td>0</td>\n",
              "      <td>0</td>\n",
              "      <td>0</td>\n",
              "      <td>0</td>\n",
              "      <td>...</td>\n",
              "      <td>0</td>\n",
              "      <td>0</td>\n",
              "      <td>0</td>\n",
              "      <td>0</td>\n",
              "      <td>0</td>\n",
              "      <td>0</td>\n",
              "      <td>0</td>\n",
              "      <td>0</td>\n",
              "      <td>0</td>\n",
              "      <td>0</td>\n",
              "    </tr>\n",
              "    <tr>\n",
              "      <th>476817</th>\n",
              "      <td>1</td>\n",
              "      <td>0</td>\n",
              "      <td>29</td>\n",
              "      <td>1</td>\n",
              "      <td>1</td>\n",
              "      <td>0</td>\n",
              "      <td>0</td>\n",
              "      <td>0</td>\n",
              "      <td>0</td>\n",
              "      <td>0</td>\n",
              "      <td>...</td>\n",
              "      <td>0</td>\n",
              "      <td>0</td>\n",
              "      <td>0</td>\n",
              "      <td>0</td>\n",
              "      <td>0</td>\n",
              "      <td>0</td>\n",
              "      <td>0</td>\n",
              "      <td>0</td>\n",
              "      <td>1</td>\n",
              "      <td>0</td>\n",
              "    </tr>\n",
              "    <tr>\n",
              "      <th>1104026</th>\n",
              "      <td>1</td>\n",
              "      <td>0</td>\n",
              "      <td>23</td>\n",
              "      <td>1</td>\n",
              "      <td>1</td>\n",
              "      <td>0</td>\n",
              "      <td>0</td>\n",
              "      <td>0</td>\n",
              "      <td>0</td>\n",
              "      <td>0</td>\n",
              "      <td>...</td>\n",
              "      <td>0</td>\n",
              "      <td>0</td>\n",
              "      <td>0</td>\n",
              "      <td>0</td>\n",
              "      <td>0</td>\n",
              "      <td>0</td>\n",
              "      <td>0</td>\n",
              "      <td>0</td>\n",
              "      <td>0</td>\n",
              "      <td>0</td>\n",
              "    </tr>\n",
              "    <tr>\n",
              "      <th>...</th>\n",
              "      <td>...</td>\n",
              "      <td>...</td>\n",
              "      <td>...</td>\n",
              "      <td>...</td>\n",
              "      <td>...</td>\n",
              "      <td>...</td>\n",
              "      <td>...</td>\n",
              "      <td>...</td>\n",
              "      <td>...</td>\n",
              "      <td>...</td>\n",
              "      <td>...</td>\n",
              "      <td>...</td>\n",
              "      <td>...</td>\n",
              "      <td>...</td>\n",
              "      <td>...</td>\n",
              "      <td>...</td>\n",
              "      <td>...</td>\n",
              "      <td>...</td>\n",
              "      <td>...</td>\n",
              "      <td>...</td>\n",
              "      <td>...</td>\n",
              "    </tr>\n",
              "    <tr>\n",
              "      <th>3068960</th>\n",
              "      <td>0</td>\n",
              "      <td>1</td>\n",
              "      <td>14</td>\n",
              "      <td>0</td>\n",
              "      <td>0</td>\n",
              "      <td>0</td>\n",
              "      <td>0</td>\n",
              "      <td>0</td>\n",
              "      <td>0</td>\n",
              "      <td>0</td>\n",
              "      <td>...</td>\n",
              "      <td>0</td>\n",
              "      <td>0</td>\n",
              "      <td>0</td>\n",
              "      <td>0</td>\n",
              "      <td>0</td>\n",
              "      <td>0</td>\n",
              "      <td>0</td>\n",
              "      <td>0</td>\n",
              "      <td>0</td>\n",
              "      <td>0</td>\n",
              "    </tr>\n",
              "    <tr>\n",
              "      <th>1203167</th>\n",
              "      <td>0</td>\n",
              "      <td>0</td>\n",
              "      <td>44</td>\n",
              "      <td>1</td>\n",
              "      <td>1</td>\n",
              "      <td>1</td>\n",
              "      <td>0</td>\n",
              "      <td>0</td>\n",
              "      <td>0</td>\n",
              "      <td>1</td>\n",
              "      <td>...</td>\n",
              "      <td>0</td>\n",
              "      <td>0</td>\n",
              "      <td>0</td>\n",
              "      <td>0</td>\n",
              "      <td>0</td>\n",
              "      <td>0</td>\n",
              "      <td>0</td>\n",
              "      <td>0</td>\n",
              "      <td>1</td>\n",
              "      <td>0</td>\n",
              "    </tr>\n",
              "    <tr>\n",
              "      <th>330</th>\n",
              "      <td>1</td>\n",
              "      <td>0</td>\n",
              "      <td>46</td>\n",
              "      <td>0</td>\n",
              "      <td>1</td>\n",
              "      <td>1</td>\n",
              "      <td>0</td>\n",
              "      <td>0</td>\n",
              "      <td>0</td>\n",
              "      <td>0</td>\n",
              "      <td>...</td>\n",
              "      <td>0</td>\n",
              "      <td>0</td>\n",
              "      <td>0</td>\n",
              "      <td>0</td>\n",
              "      <td>0</td>\n",
              "      <td>0</td>\n",
              "      <td>0</td>\n",
              "      <td>0</td>\n",
              "      <td>1</td>\n",
              "      <td>0</td>\n",
              "    </tr>\n",
              "    <tr>\n",
              "      <th>169046</th>\n",
              "      <td>1</td>\n",
              "      <td>0</td>\n",
              "      <td>24</td>\n",
              "      <td>1</td>\n",
              "      <td>0</td>\n",
              "      <td>0</td>\n",
              "      <td>0</td>\n",
              "      <td>0</td>\n",
              "      <td>0</td>\n",
              "      <td>0</td>\n",
              "      <td>...</td>\n",
              "      <td>0</td>\n",
              "      <td>0</td>\n",
              "      <td>0</td>\n",
              "      <td>0</td>\n",
              "      <td>0</td>\n",
              "      <td>0</td>\n",
              "      <td>0</td>\n",
              "      <td>0</td>\n",
              "      <td>0</td>\n",
              "      <td>0</td>\n",
              "    </tr>\n",
              "    <tr>\n",
              "      <th>1187622</th>\n",
              "      <td>0</td>\n",
              "      <td>0</td>\n",
              "      <td>41</td>\n",
              "      <td>1</td>\n",
              "      <td>1</td>\n",
              "      <td>1</td>\n",
              "      <td>1</td>\n",
              "      <td>1</td>\n",
              "      <td>1</td>\n",
              "      <td>1</td>\n",
              "      <td>...</td>\n",
              "      <td>0</td>\n",
              "      <td>0</td>\n",
              "      <td>0</td>\n",
              "      <td>0</td>\n",
              "      <td>0</td>\n",
              "      <td>0</td>\n",
              "      <td>0</td>\n",
              "      <td>0</td>\n",
              "      <td>1</td>\n",
              "      <td>0</td>\n",
              "    </tr>\n",
              "  </tbody>\n",
              "</table>\n",
              "<p>431112 rows × 34 columns</p>\n",
              "</div>\n",
              "      <button class=\"colab-df-convert\" onclick=\"convertToInteractive('df-cc2325b7-7878-40de-84bf-9df074d2ac1f')\"\n",
              "              title=\"Convert this dataframe to an interactive table.\"\n",
              "              style=\"display:none;\">\n",
              "        \n",
              "  <svg xmlns=\"http://www.w3.org/2000/svg\" height=\"24px\"viewBox=\"0 0 24 24\"\n",
              "       width=\"24px\">\n",
              "    <path d=\"M0 0h24v24H0V0z\" fill=\"none\"/>\n",
              "    <path d=\"M18.56 5.44l.94 2.06.94-2.06 2.06-.94-2.06-.94-.94-2.06-.94 2.06-2.06.94zm-11 1L8.5 8.5l.94-2.06 2.06-.94-2.06-.94L8.5 2.5l-.94 2.06-2.06.94zm10 10l.94 2.06.94-2.06 2.06-.94-2.06-.94-.94-2.06-.94 2.06-2.06.94z\"/><path d=\"M17.41 7.96l-1.37-1.37c-.4-.4-.92-.59-1.43-.59-.52 0-1.04.2-1.43.59L10.3 9.45l-7.72 7.72c-.78.78-.78 2.05 0 2.83L4 21.41c.39.39.9.59 1.41.59.51 0 1.02-.2 1.41-.59l7.78-7.78 2.81-2.81c.8-.78.8-2.07 0-2.86zM5.41 20L4 18.59l7.72-7.72 1.47 1.35L5.41 20z\"/>\n",
              "  </svg>\n",
              "      </button>\n",
              "      \n",
              "  <style>\n",
              "    .colab-df-container {\n",
              "      display:flex;\n",
              "      flex-wrap:wrap;\n",
              "      gap: 12px;\n",
              "    }\n",
              "\n",
              "    .colab-df-convert {\n",
              "      background-color: #E8F0FE;\n",
              "      border: none;\n",
              "      border-radius: 50%;\n",
              "      cursor: pointer;\n",
              "      display: none;\n",
              "      fill: #1967D2;\n",
              "      height: 32px;\n",
              "      padding: 0 0 0 0;\n",
              "      width: 32px;\n",
              "    }\n",
              "\n",
              "    .colab-df-convert:hover {\n",
              "      background-color: #E2EBFA;\n",
              "      box-shadow: 0px 1px 2px rgba(60, 64, 67, 0.3), 0px 1px 3px 1px rgba(60, 64, 67, 0.15);\n",
              "      fill: #174EA6;\n",
              "    }\n",
              "\n",
              "    [theme=dark] .colab-df-convert {\n",
              "      background-color: #3B4455;\n",
              "      fill: #D2E3FC;\n",
              "    }\n",
              "\n",
              "    [theme=dark] .colab-df-convert:hover {\n",
              "      background-color: #434B5C;\n",
              "      box-shadow: 0px 1px 3px 1px rgba(0, 0, 0, 0.15);\n",
              "      filter: drop-shadow(0px 1px 2px rgba(0, 0, 0, 0.3));\n",
              "      fill: #FFFFFF;\n",
              "    }\n",
              "  </style>\n",
              "\n",
              "      <script>\n",
              "        const buttonEl =\n",
              "          document.querySelector('#df-cc2325b7-7878-40de-84bf-9df074d2ac1f button.colab-df-convert');\n",
              "        buttonEl.style.display =\n",
              "          google.colab.kernel.accessAllowed ? 'block' : 'none';\n",
              "\n",
              "        async function convertToInteractive(key) {\n",
              "          const element = document.querySelector('#df-cc2325b7-7878-40de-84bf-9df074d2ac1f');\n",
              "          const dataTable =\n",
              "            await google.colab.kernel.invokeFunction('convertToInteractive',\n",
              "                                                     [key], {});\n",
              "          if (!dataTable) return;\n",
              "\n",
              "          const docLinkHtml = 'Like what you see? Visit the ' +\n",
              "            '<a target=\"_blank\" href=https://colab.research.google.com/notebooks/data_table.ipynb>data table notebook</a>'\n",
              "            + ' to learn more about interactive tables.';\n",
              "          element.innerHTML = '';\n",
              "          dataTable['output_type'] = 'display_data';\n",
              "          await google.colab.output.renderOutput(dataTable, element);\n",
              "          const docLink = document.createElement('div');\n",
              "          docLink.innerHTML = docLinkHtml;\n",
              "          element.appendChild(docLink);\n",
              "        }\n",
              "      </script>\n",
              "    </div>\n",
              "  </div>\n",
              "  "
            ]
          },
          "metadata": {},
          "execution_count": 24
        }
      ],
      "source": [
        "df_hosp = dfmini.loc[:,symptoms_and_com] # Symptoms and comorbidities\n",
        "df_hosp = df_hosp[df_hosp.resdefin == 1]  # Given the patient has covid\n",
        "df_hosp.drop('resdefin', axis=1, inplace=True)\n",
        "df_hosp"
      ]
    },
    {
      "cell_type": "markdown",
      "metadata": {
        "id": "i-FnWf8k2LYq"
      },
      "source": [
        "**DATAFRAMES SO FAR**\n",
        "- df_sin: dataframe with only the symptoms to try to detect covid\n",
        "- df_com: dataframe with only the comorbidities to try to predict death\n",
        "- df_hosp: dataframe with the symptoms and comorbidities to try to predict hospitalization\n",
        "\n",
        "**The symptoms are:**\n",
        "fiebre, tos, odinogia, disnea, irritabi, diarrea, dotoraci, calofrios, cefalea, mialgias, artral, ataedoge, rinorrea, polipnea, vomito, dolabdo, conjun, cianosis, inisubis\n",
        "\n",
        "**The comorbidities are:**\n",
        "diabetes, epoc, asma, inmusupr, hiperten, vih_sida, otracon, enfcardi, obesidad, insrencr, tabaquis"
      ]
    },
    {
      "cell_type": "markdown",
      "metadata": {
        "id": "w2fpPuXT2LYq"
      },
      "source": [
        "# Neural Networks Classifier"
      ]
    },
    {
      "cell_type": "code",
      "execution_count": 25,
      "metadata": {
        "id": "Av_VIIgG2LYq"
      },
      "outputs": [],
      "source": [
        "import torch.nn as nn\n",
        "import torch.nn.functional as F\n",
        "from sklearn.model_selection import train_test_split\n",
        "import torch\n",
        "from torch.utils.data import DataLoader, TensorDataset\n",
        "from sklearn.model_selection import train_test_split\n",
        "from torch.utils.data import DataLoader, TensorDataset\n",
        "import torch.optim as optim\n",
        "from sklearn.metrics import classification_report\n",
        "from sklearn.metrics import accuracy_score\n",
        "\n",
        "import torch.optim as optim"
      ]
    },
    {
      "cell_type": "markdown",
      "metadata": {
        "id": "sX4FUh472LYr"
      },
      "source": [
        "## COVID Diagnosis"
      ]
    },
    {
      "cell_type": "code",
      "source": [
        "\n",
        "#y = df.loc[:, \"resdefin\"].values\n",
        "#X = df.drop(\"resdefin\", axis=1).values\n"
      ],
      "metadata": {
        "id": "4FN6ez-SHfw5"
      },
      "execution_count": 26,
      "outputs": []
    },
    {
      "cell_type": "code",
      "source": [
        "def to_numpy_X_y(df , y_col):\n",
        "  Y = df.loc[:, y_col].values\n",
        "  X = df.drop(y_col, axis=1).values\n",
        "\n",
        "  print (f\"Longitud X: {len(X)}\")\n",
        "  print (f\"Longitud Y: {len(Y)}\")\n",
        "  return X, Y"
      ],
      "metadata": {
        "id": "KT0nnGyqD-1R"
      },
      "execution_count": 27,
      "outputs": []
    },
    {
      "cell_type": "code",
      "execution_count": 28,
      "metadata": {
        "id": "_j5EPfhl2LYr"
      },
      "outputs": [],
      "source": [
        "# dividir el conjunto de entrenamiento en Train and Test\n",
        "\n",
        "def ttv_split(X, Y, p_test, p_val):\n",
        "\n",
        "  X_train, X_test, Y_train, Y_test = train_test_split(X, Y, test_size=p_test+p_val, stratify=Y, random_state=0)\n",
        "  X_test, X_val, Y_test, Y_val = train_test_split(X_test, Y_test, test_size=p_val/(p_test+p_val), stratify=Y_test, random_state=0)\n",
        "\n",
        "  print(f\"X_train.shape, Y_train.shape: {X_train.shape}, {Y_train.shape}\")\n",
        "  print(f\"X_test.shape, Y_test.shape: {X_test.shape}, {Y_test.shape}\")\n",
        "  print(f\"X_val.shape, Y_val.shape: {X_test.shape}, {Y_test.shape}\")\n",
        "  return X_train, X_test, X_val, Y_train, Y_test, Y_val"
      ]
    },
    {
      "cell_type": "code",
      "execution_count": 29,
      "metadata": {
        "id": "VfswXJ2_2LYr"
      },
      "outputs": [],
      "source": [
        "def to_torch(X_train, X_test, X_val, Y_train, Y_test, Y_val):\n",
        "  # crear los tensores del conjunto de datos\n",
        "  train = TensorDataset(torch.tensor(X_train)[:,None, :], torch.tensor(Y_train))\n",
        "  test = TensorDataset(torch.tensor(X_test)[:,None, :], torch.tensor(Y_test))\n",
        "  val = TensorDataset(torch.tensor(X_val)[:,None, :], torch.tensor(Y_val))\n",
        "\n",
        "  # crear los cargadores del conjunto de datos\n",
        "  trainloader = DataLoader(train, batch_size=100, shuffle=True)\n",
        "  testloader = DataLoader(test, batch_size=100, shuffle=True)\n",
        "  valloader = DataLoader(val, batch_size=100, shuffle=True)\n",
        "  return trainloader, testloader, valloader"
      ]
    },
    {
      "cell_type": "markdown",
      "metadata": {
        "id": "BvhllNtc2LYr"
      },
      "source": [
        "## Modelo"
      ]
    },
    {
      "cell_type": "code",
      "execution_count": 30,
      "metadata": {
        "id": "j4FFZYDW2LYr"
      },
      "outputs": [],
      "source": [
        "class NNcovid_diagnosis(nn.Module):\n",
        "  \n",
        "  def __init__(self, input_dim, hidden_dim, labels_dim):\n",
        "    super(NNcovid_diagnosis, self).__init__()\n",
        "\n",
        "    # input_dim = máxima longitud de tweets  \n",
        "\n",
        "    # definimos las capas de convolución (CNN)\n",
        "    self.conv1 = nn.Conv1d(in_channels=1, out_channels=16, kernel_size=5, stride=1, padding=2)\n",
        "    self.conv2 = nn.Conv1d(in_channels=16, out_channels=32, kernel_size=5, stride=1, padding=2)\n",
        "    \n",
        "\n",
        "    self.fc1 = nn.Linear(32*21, hidden_dim)\n",
        "    # definir una función no líneal de activación 1\n",
        "    self.activation1 = nn.Sigmoid()\n",
        "    \n",
        "    self.fc2 = nn.Linear(hidden_dim, hidden_dim)\n",
        "    # definir una función no líneal de activación 2\n",
        "    self.activation2 = nn.Sigmoid()\n",
        "\n",
        "    # Linear function 3 (readout): 500 --> 3\n",
        "    self.fc3 = nn.Linear(hidden_dim, labels_dim)\n",
        "    # Dropout with p=0.2\n",
        "    self.dropout = nn.Dropout(p=0.2)\n",
        "\n",
        "  def forward(self, x):\n",
        "    # propagación hacia adelante\n",
        "\n",
        "    # x: [batchsize, 1, input_dim = 21]\n",
        "\n",
        "    out = self.conv1(x)        # [batchsize, 16, 21]\n",
        "    #out = F.max_pool1d(out, kernel_size=2)        # [batchsize, 16, 21]\n",
        "    out = F.relu(out)       # [batchsize, 16, 21]\n",
        "\n",
        "    out = self.conv2(out)        # [batchsize, 32, 21]\n",
        "    #out = F.max_pool1d(out, kernel_size=2)        # [batchsize, 32, 21]\n",
        "    out = F.relu(out)       # [batchsize, 32, 21]\n",
        "\n",
        "    # aplanar (flatenning)\n",
        "    out = out.view(out.size(0), -1) # [batchsize, 32*21 = 864]\n",
        "\n",
        "    out = self.fc1(out)\n",
        "\n",
        "    # Non-linearity 1\n",
        "    out = self.activation1(out)\n",
        "\n",
        "    # Linear function 2\n",
        "    out = self.fc2(out)\n",
        "\n",
        "    # Non-linearity 2\n",
        "    out = self.activation2(out)\n",
        "\n",
        "    # Linear function 3 (readout)\n",
        "    out = self.fc3(out)\n",
        "    \n",
        "    out = self.dropout(out)\n",
        "\n",
        "    out = F.log_softmax(out, dim=1)\n",
        "\n",
        "    return out"
      ]
    },
    {
      "cell_type": "code",
      "source": [
        "class NNcovid_hosp(nn.Module):\n",
        "  \n",
        "  def __init__(self, input_dim, hidden_dim, labels_dim):\n",
        "    super(NNcovid_hosp, self).__init__()\n",
        "\n",
        "    # input_dim = máxima longitud de tweets  \n",
        "\n",
        "    # definimos las capas de convolución (CNN)\n",
        "    self.conv1 = nn.Conv1d(in_channels=1, out_channels=16, kernel_size=5, stride=1, padding=2)\n",
        "    self.conv2 = nn.Conv1d(in_channels=16, out_channels=32, kernel_size=5, stride=1, padding=2)\n",
        "    \n",
        "\n",
        "    self.fc1 = nn.Linear(32*21, hidden_dim)\n",
        "    # definir una función no líneal de activación 1\n",
        "    self.activation1 = nn.Sigmoid()\n",
        "    \n",
        "    self.fc2 = nn.Linear(hidden_dim, hidden_dim)\n",
        "    # definir una función no líneal de activación 2\n",
        "    self.activation2 = nn.Sigmoid()\n",
        "\n",
        "    # Linear function 3 (readout): 500 --> 3\n",
        "    self.fc3 = nn.Linear(hidden_dim, labels_dim)\n",
        "    # Dropout with p=0.2\n",
        "    self.dropout = nn.Dropout(p=0.2)\n",
        "\n",
        "  def forward(self, x):\n",
        "    # propagación hacia adelante\n",
        "\n",
        "    # x: [batchsize, 1, input_dim = 21]\n",
        "\n",
        "    out = self.conv1(x)        # [batchsize, 16, 21]\n",
        "    #out = F.max_pool1d(out, kernel_size=2)        # [batchsize, 16, 21]\n",
        "    out = F.relu(out)       # [batchsize, 16, 21]\n",
        "\n",
        "    out = self.conv2(out)        # [batchsize, 32, 21]\n",
        "    #out = F.max_pool1d(out, kernel_size=2)        # [batchsize, 32, 21]\n",
        "    out = F.relu(out)       # [batchsize, 32, 21]\n",
        "\n",
        "    # aplanar (flatenning)\n",
        "    out = out.view(out.size(0), -1) # [batchsize, 32*21 = 864]\n",
        "\n",
        "    out = self.fc1(out)\n",
        "\n",
        "    # Non-linearity 1\n",
        "    out = self.activation1(out)\n",
        "\n",
        "    # Linear function 2\n",
        "    out = self.fc2(out)\n",
        "\n",
        "    # Non-linearity 2\n",
        "    out = self.activation2(out)\n",
        "\n",
        "    # Linear function 3 (readout)\n",
        "    out = self.fc3(out)\n",
        "    \n",
        "    out = self.dropout(out)\n",
        "\n",
        "    out = F.log_softmax(out, dim=1)\n",
        "\n",
        "    return out"
      ],
      "metadata": {
        "id": "XA4jRjzmNC1D"
      },
      "execution_count": 31,
      "outputs": []
    },
    {
      "cell_type": "code",
      "execution_count": 32,
      "metadata": {
        "id": "1bV2LKIB2LYs"
      },
      "outputs": [],
      "source": [
        "# Instanciar el modelo\n",
        "def instanciate_model(Model, input_dim, hidden_dim = 500, labels_dim=2):\n",
        "\n",
        "  model = Model(input_dim, hidden_dim, labels_dim)\n",
        "  model.to(device)\n",
        "  return model"
      ]
    },
    {
      "cell_type": "code",
      "execution_count": 33,
      "metadata": {
        "id": "et_AN-tG2LYs"
      },
      "outputs": [],
      "source": [
        "def train(train_loader, val_loader, model, lr=0.01, EPOCHS = 10):\n",
        "  history={\n",
        "    'train_loss': [],\n",
        "    'valid_loss': [],\n",
        "    'train_acc': [],\n",
        "    'valid_acc': []\n",
        "  }\n",
        "\n",
        "  print(f\"EPOCHS: {EPOCHS}\")\n",
        "\n",
        "  # definir la función de error\n",
        "  loss_function = nn.CrossEntropyLoss()\n",
        "\n",
        "\n",
        "  optimizer = optim.Adam(model.parameters(), lr=lr)\n",
        "  \n",
        "  for epoch in range(EPOCHS):\n",
        "    train_loss, train_correct = 0.0, 0\n",
        "\n",
        "    # indicamos que se calculará el gradiente (Entrenamiento) \n",
        "    model.train()\n",
        "\n",
        "    # recorremos el conjunto de entrenamiento en los batches definidos\n",
        "    for X, y in train_loader:\n",
        "      # definir el hardware disponible a las imágenes y a las clases\n",
        "      X,y = X.to(device), y.to(device)\n",
        "      X = X.float()\n",
        "      \n",
        "      optimizer.zero_grad()\n",
        "\n",
        "      output = model(X) \n",
        "      #target = y.squeeze(1)#.clone().detach().long()\n",
        "      \n",
        "      #print(y.shape, target.shape)\n",
        "      loss = loss_function(output,y)\n",
        "      loss.backward()\n",
        "      optimizer.step()\n",
        "      train_loss += loss.item() * X.size(0)\n",
        "      scores, predictions = torch.max(output.data, 1)\n",
        "      train_correct += (predictions == y).sum().item()    \n",
        "      \n",
        "    valid_loss, val_correct = 0.0, 0\n",
        "\n",
        "    # indicamos que no se calculará el gradiente (Validación) \n",
        "    model.eval()\n",
        "    \n",
        "    for X, y in val_loader:\n",
        "      X, y = X.to(device), y.to(device)\n",
        "      X = X.float()\n",
        "      output = model(X)\n",
        "      #target = y.squeeze(1)#.clone().detach().long()\n",
        "      loss = loss_function(output, y)\n",
        "      valid_loss+=loss.item()*X.size(0)\n",
        "      scores, predictions = torch.max(output.data,1)\n",
        "      val_correct+=(predictions == y).sum().item()\n",
        "\n",
        "    # calcular los promedios tanto de la pérdida como de la excatitud en ambos datasets (train, valid)\n",
        "    train_loss = train_loss / len(train_loader.sampler)\n",
        "    train_acc = train_correct / len(train_loader.sampler)*100\n",
        "    valid_loss = valid_loss / len(val_loader.sampler)\n",
        "    valid_acc = val_correct / len(val_loader.sampler) * 100\n",
        "\n",
        "    if epoch % 1 == 0 or epoch + 1 == EPOCHS:\n",
        "      print(f\"Epoch:{epoch+1}/{EPOCHS}\\tTrain Loss:{train_loss:.4f} Validation Loss:{valid_loss:.4f}\\tTrain Accuracy:{train_acc:.2f}% Validation Accuracy:{valid_acc:.2f}%\")\n",
        "\n",
        "    history['train_loss'].append(train_loss)\n",
        "    history['valid_loss'].append(valid_loss)\n",
        "    history['train_acc'].append(train_acc)\n",
        "    history['valid_acc'].append(valid_acc)\n",
        "  return history"
      ]
    },
    {
      "cell_type": "code",
      "execution_count": 34,
      "metadata": {
        "id": "W-QeHaIh2LYs"
      },
      "outputs": [],
      "source": [
        "def plot_scores(history):\n",
        "  plt.figure(figsize=(30, 10))\n",
        "  plt.subplot(1, 2, 1)\n",
        "  plt.plot(history['train_loss'])\n",
        "  plt.plot(history['valid_loss'])\n",
        "  plt.title('Model loss')\n",
        "  plt.ylabel('loss')\n",
        "  plt.xlabel('epoch')\n",
        "  plt.legend(['train_loss', 'val_loss'], loc='best')\n",
        "  # plt.show()\n",
        "\n",
        "  plt.subplot(1, 2, 2)\n",
        "  plt.plot(history['train_acc'])\n",
        "  plt.plot(history['valid_acc'])\n",
        "  plt.title('Model accuracy')\n",
        "  plt.ylabel('accuracy')\n",
        "  plt.xlabel('epoch')\n",
        "  plt.legend(['train_acc', 'val_acc'], loc='best')\n",
        "  plt.show()"
      ]
    },
    {
      "cell_type": "code",
      "source": [
        "def evaluar(model, test_loader):\n",
        "  correct = 0\n",
        "  total = 0\n",
        "  test_loss = 0\n",
        "\n",
        "  # definir la función de pérdida: Entropía Cruzada\n",
        "  loss_function = nn.CrossEntropyLoss()\n",
        "\n",
        "  with torch.no_grad():\n",
        "    for X, y in test_loader:\n",
        "      X, y = X.to(device), y.to(device)\n",
        "      X = X.float()\n",
        "      outputs = model(X)\n",
        "\n",
        "      #target = y.squeeze(1).clone().detach().long()\n",
        "      loss = loss_function(outputs,y)\n",
        "      test_loss += loss.item() * X.size(0)\n",
        "      \n",
        "      _, predicted = torch.max(outputs.data, 1)\n",
        "      total += y.size(0)\n",
        "      correct += (predicted == y).sum().item()\n",
        "\n",
        "  test_loss = test_loss / len(test_loader.sampler)\n",
        "\n",
        "  print(f'Test Accuracy : {100 * correct / total:.2f}%')\n",
        "  print(f'Test Loss: {test_loss:.4f}')"
      ],
      "metadata": {
        "id": "Lgrt1qgZCkk6"
      },
      "execution_count": 35,
      "outputs": []
    },
    {
      "cell_type": "markdown",
      "source": [
        "# Classifier Pipeline"
      ],
      "metadata": {
        "id": "djWfJu6oLsCB"
      }
    },
    {
      "cell_type": "code",
      "source": [
        "def pipeline(Model, df, y_col, lr = 0.01, EPOCHS = 10):\n",
        "  torch.manual_seed(0)\n",
        "  random.seed(0)\n",
        "  np.random.seed(0)\n",
        "\n",
        "  X, Y = to_numpy_X_y(df, y_col)\n",
        "  input_dim = X.shape[1]\n",
        "\n",
        "  X_train, X_test, X_val, Y_train, Y_test, Y_val = ttv_split(X, Y, 0.2, 0.2)\n",
        "  \n",
        "  train_loader, test_loader, val_loader = to_torch(X_train, X_test, X_val, Y_train, Y_test, Y_val)\n",
        "\n",
        "  model = instanciate_model(Model, input_dim = input_dim, hidden_dim = 500)\n",
        "\n",
        "  history = train(train_loader, val_loader, model,  lr, EPOCHS)\n",
        "\n",
        "  plot_scores(history)\n",
        "\n",
        "  evaluar(model, test_loader)\n",
        "\n",
        "  return model, X_train, X_test, X_val, Y_train, Y_test, Y_val"
      ],
      "metadata": {
        "id": "5nCxuc-cCmbK"
      },
      "execution_count": 36,
      "outputs": []
    },
    {
      "cell_type": "markdown",
      "source": [
        "### Helper functions"
      ],
      "metadata": {
        "id": "x9W2ZuBGL7jX"
      }
    },
    {
      "cell_type": "code",
      "source": [
        "def predict_model_diagnosis(model_diagnosis, X = np.zeros((1, 21)), device = 'cpu'):\n",
        "  _, pred = torch.max(model_diagnosis(torch.tensor(X)[:,None, :].to(device).float()), 1)\n",
        "  return pred.cpu().numpy()[0]\n",
        "  \n",
        "def prob_model_diagnosis(model_diagnosis, X = np.zeros((1, 21)), device = 'cpu'):\n",
        "  log_probs = model_diagnosis(torch.tensor(X)[:,None, :].to(device).float())\n",
        "  return np.exp(log_probs.cpu().detach().numpy())[0]"
      ],
      "metadata": {
        "id": "fl1tg7QZJiLx"
      },
      "execution_count": 37,
      "outputs": []
    },
    {
      "cell_type": "markdown",
      "source": [
        "## COVID-19 diagnosis"
      ],
      "metadata": {
        "id": "PtkKsebcLyKc"
      }
    },
    {
      "cell_type": "code",
      "execution_count": null,
      "metadata": {
        "colab": {
          "base_uri": "https://localhost:8080/"
        },
        "id": "1BdO_jaL2LYs",
        "outputId": "5a46962d-bc16-4ebe-971f-0dba00c9b5a2"
      },
      "outputs": [
        {
          "output_type": "stream",
          "name": "stdout",
          "text": [
            "Longitud X: 2000000\n",
            "Longitud Y: 2000000\n",
            "X_train.shape, Y_train.shape: (1200000, 21), (1200000,)\n",
            "X_test.shape, Y_test.shape: (400000, 21), (400000,)\n",
            "X_val.shape, Y_val.shape: (400000, 21), (400000,)\n",
            "EPOCHS: 20\n",
            "Epoch:1/20\tTrain Loss:0.4770 Validation Loss:0.4528\tTrain Accuracy:78.85% Validation Accuracy:79.09%\n",
            "Epoch:2/20\tTrain Loss:0.4731 Validation Loss:0.4515\tTrain Accuracy:78.94% Validation Accuracy:79.04%\n",
            "Epoch:3/20\tTrain Loss:0.4719 Validation Loss:0.4487\tTrain Accuracy:79.01% Validation Accuracy:79.00%\n",
            "Epoch:4/20\tTrain Loss:0.4714 Validation Loss:0.4495\tTrain Accuracy:79.04% Validation Accuracy:79.06%\n",
            "Epoch:5/20\tTrain Loss:0.4708 Validation Loss:0.4479\tTrain Accuracy:79.05% Validation Accuracy:79.14%\n",
            "Epoch:6/20\tTrain Loss:0.4704 Validation Loss:0.4484\tTrain Accuracy:79.08% Validation Accuracy:79.17%\n",
            "Epoch:7/20\tTrain Loss:0.4702 Validation Loss:0.4486\tTrain Accuracy:79.11% Validation Accuracy:79.23%\n",
            "Epoch:8/20\tTrain Loss:0.4698 Validation Loss:0.4476\tTrain Accuracy:79.11% Validation Accuracy:79.16%\n",
            "Epoch:9/20\tTrain Loss:0.4700 Validation Loss:0.4479\tTrain Accuracy:79.13% Validation Accuracy:79.20%\n"
          ]
        }
      ],
      "source": [
        "model, X_train, X_test, X_val, Y_train, Y_test, Y_val = pipeline(NNcovid_diagnosis, df_sin, \"resdefin\", lr = 0.0001, EPOCHS=20)"
      ]
    },
    {
      "cell_type": "code",
      "source": [
        "_, predicted = torch.max(model(torch.tensor(X_val)[:,None, :].to(device).float()), 1)"
      ],
      "metadata": {
        "id": "ED7rcLgdPsfn"
      },
      "execution_count": null,
      "outputs": []
    },
    {
      "cell_type": "code",
      "source": [
        "print( classification_report(Y_val, predicted.cpu().numpy(), target_names=[\"COVID\",\"NEGATIVE\"]) )"
      ],
      "metadata": {
        "id": "5mMax96CPBqU"
      },
      "execution_count": null,
      "outputs": []
    },
    {
      "cell_type": "code",
      "source": [
        "torch.save(model, \"model_diagnosis.pth\")"
      ],
      "metadata": {
        "id": "xOe0z1mikmMW"
      },
      "execution_count": null,
      "outputs": []
    },
    {
      "cell_type": "code",
      "source": [
        "m_diagnosis = torch.load(\"model_diagnosis.pth\")"
      ],
      "metadata": {
        "id": "6dsvtzhjn-m4"
      },
      "execution_count": null,
      "outputs": []
    },
    {
      "cell_type": "markdown",
      "source": [
        "## Hospitalization"
      ],
      "metadata": {
        "id": "cspuatk7MRqS"
      }
    },
    {
      "cell_type": "code",
      "source": [
        "df_hosp.tipacien"
      ],
      "metadata": {
        "id": "PvIo5cyp9nhJ"
      },
      "execution_count": null,
      "outputs": []
    },
    {
      "cell_type": "code",
      "source": [
        "model_hosp, X_train, X_test, X_val, Y_train, Y_test, Y_val = pipeline(df_hosp, \"tipacien\", lr = 0.0001, EPOCHS=20)"
      ],
      "metadata": {
        "id": "Xyv5OxTzMWgi"
      },
      "execution_count": null,
      "outputs": []
    },
    {
      "cell_type": "markdown",
      "source": [
        "# Use cases"
      ],
      "metadata": {
        "id": "3gOF9HFmJWPl"
      }
    },
    {
      "cell_type": "markdown",
      "source": [
        "## Covid Diagnosis"
      ],
      "metadata": {
        "id": "w8nbeYTjJ_W_"
      }
    },
    {
      "cell_type": "code",
      "source": [
        "sexo = 1\n",
        "edad = 70\n",
        "fiebre = 1\n",
        "tos = 1\n",
        "odinogia = 1\n",
        "disnea = 1\n",
        "irritabi = 1\n",
        "diarrea = 1\n",
        "dotoraci = 1\n",
        "calofrios = 1\n",
        "cefalea = 1\n",
        "mialgias = 1\n",
        "artral = 1\n",
        "ataedoge = 1\n",
        "rinorrea = 1\n",
        "polipnea = 1\n",
        "vomito = 1\n",
        "dolabdo = 1\n",
        "conjun = 1\n",
        "cianosis = 1\n",
        "inisubis = 1\n",
        "\n",
        "X = np.array([[sexo, edad, fiebre, tos, odinogia, disnea, irritabi,\n",
        "  diarrea, dotoraci, calofrios, cefalea, mialgias, artral,\n",
        "  ataedoge, rinorrea, polipnea, vomito, dolabdo, conjun,\n",
        "  cianosis, inisubis]])\n",
        "\n",
        "res = predict_model_diagnosis(model, X, 'cuda') \n",
        "\n",
        "\n",
        "probs = prob_model_diagnosis(model, X, 'cuda') \n",
        "\n",
        "if res == 1:\n",
        "    print(f\"El clasificador indica que eres POSITIVO a COVID-19 con probabilidad de {probs[1]:.2f}%\")\n",
        "elif res == 0:\n",
        "    print(f\"El clasificador indica que eres NEGATIVO a COVID-19 con probabilidad de {probs[0]:.2f}%\")"
      ],
      "metadata": {
        "id": "Ug1FCGx72shR"
      },
      "execution_count": null,
      "outputs": []
    },
    {
      "cell_type": "code",
      "source": [
        ""
      ],
      "metadata": {
        "id": "TKdruA_MKLxi"
      },
      "execution_count": null,
      "outputs": []
    }
  ],
  "metadata": {
    "interpreter": {
      "hash": "35a85038accb25af3590eb644f04ffe6708f7eafeb9c2c0755922f196aa82f2a"
    },
    "kernelspec": {
      "display_name": "Python 3.9.12 ('base')",
      "language": "python",
      "name": "python3"
    },
    "language_info": {
      "codemirror_mode": {
        "name": "ipython",
        "version": 3
      },
      "file_extension": ".py",
      "mimetype": "text/x-python",
      "name": "python",
      "nbconvert_exporter": "python",
      "pygments_lexer": "ipython3",
      "version": "3.9.12"
    },
    "orig_nbformat": 4,
    "colab": {
      "name": "NeuralNetworkClassifiers.ipynb",
      "provenance": [],
      "collapsed_sections": [],
      "toc_visible": true,
      "include_colab_link": true
    },
    "accelerator": "GPU"
  },
  "nbformat": 4,
  "nbformat_minor": 0
}