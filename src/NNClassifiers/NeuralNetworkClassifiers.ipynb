{
 "cells": [
  {
   "cell_type": "markdown",
   "id": "1fb2b97d",
   "metadata": {
    "id": "view-in-github",
    "papermill": {
     "duration": 0.01532,
     "end_time": "2022-06-08T07:10:11.510411",
     "exception": false,
     "start_time": "2022-06-08T07:10:11.495091",
     "status": "completed"
    },
    "tags": []
   },
   "source": [
    "<a href=\"https://colab.research.google.com/github/ArtemioPadilla/MachineLearningAndCOVID/blob/main/src/NNClassifiers/NeuralNetworkClassifiers.ipynb\" target=\"_parent\"><img src=\"https://colab.research.google.com/assets/colab-badge.svg\" alt=\"Open In Colab\"/></a>"
   ]
  },
  {
   "cell_type": "code",
   "execution_count": 1,
   "id": "8a573f88",
   "metadata": {
    "execution": {
     "iopub.execute_input": "2022-06-08T07:10:11.540656Z",
     "iopub.status.busy": "2022-06-08T07:10:11.540147Z",
     "iopub.status.idle": "2022-06-08T07:10:11.550223Z",
     "shell.execute_reply": "2022-06-08T07:10:11.549493Z"
    },
    "id": "O0J6i2lz2LYb",
    "papermill": {
     "duration": 0.027109,
     "end_time": "2022-06-08T07:10:11.551981",
     "exception": false,
     "start_time": "2022-06-08T07:10:11.524872",
     "status": "completed"
    },
    "tags": []
   },
   "outputs": [],
   "source": [
    "import pandas as pd\n",
    "import numpy as np"
   ]
  },
  {
   "cell_type": "code",
   "execution_count": 2,
   "id": "760d5006",
   "metadata": {
    "execution": {
     "iopub.execute_input": "2022-06-08T07:10:11.581071Z",
     "iopub.status.busy": "2022-06-08T07:10:11.580661Z",
     "iopub.status.idle": "2022-06-08T07:10:13.276459Z",
     "shell.execute_reply": "2022-06-08T07:10:13.275658Z"
    },
    "id": "xz2gUuMn2LYe",
    "papermill": {
     "duration": 1.712862,
     "end_time": "2022-06-08T07:10:13.278819",
     "exception": false,
     "start_time": "2022-06-08T07:10:11.565957",
     "status": "completed"
    },
    "tags": []
   },
   "outputs": [],
   "source": [
    "import torch"
   ]
  },
  {
   "cell_type": "markdown",
   "id": "a18bc16e",
   "metadata": {
    "id": "p-HIO3M0QqbI",
    "papermill": {
     "duration": 0.014891,
     "end_time": "2022-06-08T07:10:13.308816",
     "exception": false,
     "start_time": "2022-06-08T07:10:13.293925",
     "status": "completed"
    },
    "tags": []
   },
   "source": [
    "# Data download\n",
    "\n",
    "Epidemiologic surveillance system of Mexico City:\n",
    "\n",
    "https://datos.cdmx.gob.mx/dataset/base-covid-sinave"
   ]
  },
  {
   "cell_type": "code",
   "execution_count": 3,
   "id": "88d0fe71",
   "metadata": {
    "execution": {
     "iopub.execute_input": "2022-06-08T07:10:13.338514Z",
     "iopub.status.busy": "2022-06-08T07:10:13.337794Z",
     "iopub.status.idle": "2022-06-08T07:12:24.141678Z",
     "shell.execute_reply": "2022-06-08T07:12:24.140674Z"
    },
    "id": "ZVNQIz2gN8Dh",
    "papermill": {
     "duration": 130.821014,
     "end_time": "2022-06-08T07:12:24.144010",
     "exception": false,
     "start_time": "2022-06-08T07:10:13.322996",
     "status": "completed"
    },
    "tags": []
   },
   "outputs": [
    {
     "name": "stdout",
     "output_type": "stream",
     "text": [
      "--2022-06-08 07:10:14--  https://archivo.datos.cdmx.gob.mx/sisver/sisver_public.csv\r\n",
      "Resolving archivo.datos.cdmx.gob.mx (archivo.datos.cdmx.gob.mx)... 189.240.234.120\r\n",
      "Connecting to archivo.datos.cdmx.gob.mx (archivo.datos.cdmx.gob.mx)|189.240.234.120|:443... connected.\r\n",
      "HTTP request sent, awaiting response... 200 OK\r\n",
      "Length: 2112155379 (2.0G) [text/csv]\r\n",
      "Saving to: ‘sisver_public.csv’\r\n",
      "\r\n",
      "sisver_public.csv   100%[===================>]   1.97G  43.6MB/s    in 2m 9s   \r\n",
      "\r\n",
      "2022-06-08 07:12:24 (15.6 MB/s) - ‘sisver_public.csv’ saved [2112155379/2112155379]\r\n",
      "\r\n"
     ]
    }
   ],
   "source": [
    "! wget -c \"https://archivo.datos.cdmx.gob.mx/sisver/sisver_public.csv\""
   ]
  },
  {
   "cell_type": "markdown",
   "id": "1b51c97c",
   "metadata": {
    "id": "ZGU-YHvZQwiG",
    "papermill": {
     "duration": 0.050312,
     "end_time": "2022-06-08T07:12:24.244720",
     "exception": false,
     "start_time": "2022-06-08T07:12:24.194408",
     "status": "completed"
    },
    "tags": []
   },
   "source": [
    "# Import Libraries"
   ]
  },
  {
   "cell_type": "code",
   "execution_count": 4,
   "id": "e073a39b",
   "metadata": {
    "execution": {
     "iopub.execute_input": "2022-06-08T07:12:24.347437Z",
     "iopub.status.busy": "2022-06-08T07:12:24.346471Z",
     "iopub.status.idle": "2022-06-08T07:12:24.351453Z",
     "shell.execute_reply": "2022-06-08T07:12:24.350787Z"
    },
    "id": "lOu70HBiQwRJ",
    "papermill": {
     "duration": 0.05823,
     "end_time": "2022-06-08T07:12:24.353175",
     "exception": false,
     "start_time": "2022-06-08T07:12:24.294945",
     "status": "completed"
    },
    "tags": []
   },
   "outputs": [],
   "source": [
    "import pandas as pd\n",
    "import numpy as np\n",
    "import random\n",
    "import matplotlib.pyplot as plt"
   ]
  },
  {
   "cell_type": "code",
   "execution_count": 5,
   "id": "37348e4f",
   "metadata": {
    "execution": {
     "iopub.execute_input": "2022-06-08T07:12:24.461388Z",
     "iopub.status.busy": "2022-06-08T07:12:24.460593Z",
     "iopub.status.idle": "2022-06-08T07:12:24.464515Z",
     "shell.execute_reply": "2022-06-08T07:12:24.463789Z"
    },
    "id": "wK_obDKr2LYh",
    "papermill": {
     "duration": 0.063639,
     "end_time": "2022-06-08T07:12:24.466230",
     "exception": false,
     "start_time": "2022-06-08T07:12:24.402591",
     "status": "completed"
    },
    "tags": []
   },
   "outputs": [],
   "source": [
    "\n",
    "#\n",
    "\n",
    "\n",
    "#from sklearn.neighbors import KNeighborsClassifier\n",
    "#from sklearn.model_selection import train_test_split\n",
    "#from sklearn import tree\n",
    "#from sklearn.metrics import f1_score\n",
    "#from sklearn.model_selection import train_test_split\n",
    "#from sklearn.metrics import recall_score\n",
    "#from sklearn.metrics import precision_score\n",
    "#from sklearn.metrics import roc_curve, auc\n",
    "#from sklearn import metrics"
   ]
  },
  {
   "cell_type": "code",
   "execution_count": 6,
   "id": "e6a47189",
   "metadata": {
    "execution": {
     "iopub.execute_input": "2022-06-08T07:12:24.568517Z",
     "iopub.status.busy": "2022-06-08T07:12:24.568168Z",
     "iopub.status.idle": "2022-06-08T07:12:24.629016Z",
     "shell.execute_reply": "2022-06-08T07:12:24.628207Z"
    },
    "id": "lG1PUM5Q2LYi",
    "outputId": "fffd8af7-cb0a-4005-b7ef-50bf95f9b7f0",
    "papermill": {
     "duration": 0.115252,
     "end_time": "2022-06-08T07:12:24.631340",
     "exception": false,
     "start_time": "2022-06-08T07:12:24.516088",
     "status": "completed"
    },
    "tags": []
   },
   "outputs": [
    {
     "name": "stdout",
     "output_type": "stream",
     "text": [
      "Hardware disponible: cuda\n",
      "\n"
     ]
    }
   ],
   "source": [
    "device = torch.device(\"cuda\" if torch.cuda.is_available() else \"cpu\")\n",
    "\n",
    "print (f\"Hardware disponible: {device}\\n\")"
   ]
  },
  {
   "cell_type": "markdown",
   "id": "4075b3c0",
   "metadata": {
    "id": "8DO91vtr_g1G",
    "papermill": {
     "duration": 0.048991,
     "end_time": "2022-06-08T07:12:24.731718",
     "exception": false,
     "start_time": "2022-06-08T07:12:24.682727",
     "status": "completed"
    },
    "tags": []
   },
   "source": [
    "# Import Data"
   ]
  },
  {
   "cell_type": "code",
   "execution_count": 7,
   "id": "69c87a51",
   "metadata": {
    "execution": {
     "iopub.execute_input": "2022-06-08T07:12:24.833998Z",
     "iopub.status.busy": "2022-06-08T07:12:24.833675Z",
     "iopub.status.idle": "2022-06-08T07:13:15.984654Z",
     "shell.execute_reply": "2022-06-08T07:13:15.983816Z"
    },
    "id": "BhibeOcmOm4L",
    "outputId": "88b42557-1c92-4c15-e963-c3c7c02977ac",
    "papermill": {
     "duration": 51.20455,
     "end_time": "2022-06-08T07:13:15.986815",
     "exception": false,
     "start_time": "2022-06-08T07:12:24.782265",
     "status": "completed"
    },
    "tags": []
   },
   "outputs": [
    {
     "name": "stderr",
     "output_type": "stream",
     "text": [
      "/opt/conda/lib/python3.7/site-packages/IPython/core/interactiveshell.py:3552: DtypeWarning: Columns (76,78,79,85) have mixed types.Specify dtype option on import or set low_memory=False.\n",
      "  exec(code_obj, self.user_global_ns, self.user_ns)\n"
     ]
    }
   ],
   "source": [
    "df = pd.read_csv(\"sisver_public.csv\")"
   ]
  },
  {
   "cell_type": "code",
   "execution_count": 8,
   "id": "e4616d3a",
   "metadata": {
    "execution": {
     "iopub.execute_input": "2022-06-08T07:13:16.089199Z",
     "iopub.status.busy": "2022-06-08T07:13:16.088885Z",
     "iopub.status.idle": "2022-06-08T07:13:16.095844Z",
     "shell.execute_reply": "2022-06-08T07:13:16.095147Z"
    },
    "id": "2KKC-o302LYj",
    "outputId": "c5923962-a9e5-4938-e33c-77f95774887d",
    "papermill": {
     "duration": 0.060064,
     "end_time": "2022-06-08T07:13:16.097988",
     "exception": false,
     "start_time": "2022-06-08T07:13:16.037924",
     "status": "completed"
    },
    "tags": []
   },
   "outputs": [
    {
     "data": {
      "text/plain": [
       "(3793152, 92)"
      ]
     },
     "execution_count": 8,
     "metadata": {},
     "output_type": "execute_result"
    }
   ],
   "source": [
    "df.shape"
   ]
  },
  {
   "cell_type": "markdown",
   "id": "1ac1b439",
   "metadata": {
    "id": "OMRzy4Eo_j-g",
    "papermill": {
     "duration": 0.049023,
     "end_time": "2022-06-08T07:13:16.197705",
     "exception": false,
     "start_time": "2022-06-08T07:13:16.148682",
     "status": "completed"
    },
    "tags": []
   },
   "source": [
    "# Preprocessing"
   ]
  },
  {
   "cell_type": "markdown",
   "id": "08afbf8c",
   "metadata": {
    "id": "fwvR8VOLRe7h",
    "papermill": {
     "duration": 0.049222,
     "end_time": "2022-06-08T07:13:16.296702",
     "exception": false,
     "start_time": "2022-06-08T07:13:16.247480",
     "status": "completed"
    },
    "tags": []
   },
   "source": [
    "Lets create a subset only with positive or negative covid cases:"
   ]
  },
  {
   "cell_type": "code",
   "execution_count": 9,
   "id": "c9407142",
   "metadata": {
    "execution": {
     "iopub.execute_input": "2022-06-08T07:13:16.398193Z",
     "iopub.status.busy": "2022-06-08T07:13:16.397825Z",
     "iopub.status.idle": "2022-06-08T07:13:19.684000Z",
     "shell.execute_reply": "2022-06-08T07:13:19.682855Z"
    },
    "id": "ljHZR0cMWZl8",
    "papermill": {
     "duration": 3.340014,
     "end_time": "2022-06-08T07:13:19.686663",
     "exception": false,
     "start_time": "2022-06-08T07:13:16.346649",
     "status": "completed"
    },
    "tags": []
   },
   "outputs": [],
   "source": [
    "df = df[df['resdefin'].isin(['NEGATIVO','SARS-CoV-2'])] "
   ]
  },
  {
   "cell_type": "markdown",
   "id": "da629c7c",
   "metadata": {
    "id": "fzBX0XaM_opo",
    "papermill": {
     "duration": 0.050527,
     "end_time": "2022-06-08T07:13:19.787923",
     "exception": false,
     "start_time": "2022-06-08T07:13:19.737396",
     "status": "completed"
    },
    "tags": []
   },
   "source": [
    "Lets now select the most interesting fields"
   ]
  },
  {
   "cell_type": "code",
   "execution_count": 10,
   "id": "c70c6fcd",
   "metadata": {
    "execution": {
     "iopub.execute_input": "2022-06-08T07:13:19.889632Z",
     "iopub.status.busy": "2022-06-08T07:13:19.889301Z",
     "iopub.status.idle": "2022-06-08T07:13:19.894656Z",
     "shell.execute_reply": "2022-06-08T07:13:19.893813Z"
    },
    "id": "ehwU28FYRgRE",
    "papermill": {
     "duration": 0.058011,
     "end_time": "2022-06-08T07:13:19.896655",
     "exception": false,
     "start_time": "2022-06-08T07:13:19.838644",
     "status": "completed"
    },
    "tags": []
   },
   "outputs": [],
   "source": [
    "columns = ['fechreg', 'sexo', 'tipacien', 'fecdef', 'intubado', 'digcline', 'edad', 'fiebre', 'tos', 'odinogia', 'disnea', 'irritabi', 'diarrea', \n",
    "           'dotoraci','calofrios', 'cefalea','mialgias', 'artral', 'ataedoge', \t'rinorrea', \t'polipnea', \t'vomito', \t'dolabdo', \t'conjun', \t'cianosis',\n",
    "           'inisubis', \t'diabetes', \t'epoc', \t'asma', \t'inmusupr', \t'hiperten', \t'vih_sida', \t'otracon', \t'enfcardi', \t'obesidad', \t'insrencr',\n",
    "           'tabaquis', 'resdefin']"
   ]
  },
  {
   "cell_type": "code",
   "execution_count": 11,
   "id": "776f5772",
   "metadata": {
    "execution": {
     "iopub.execute_input": "2022-06-08T07:13:19.999035Z",
     "iopub.status.busy": "2022-06-08T07:13:19.998687Z",
     "iopub.status.idle": "2022-06-08T07:13:20.005616Z",
     "shell.execute_reply": "2022-06-08T07:13:20.004901Z"
    },
    "id": "lS1e4Jfrn7FJ",
    "papermill": {
     "duration": 0.060104,
     "end_time": "2022-06-08T07:13:20.007251",
     "exception": false,
     "start_time": "2022-06-08T07:13:19.947147",
     "status": "completed"
    },
    "tags": []
   },
   "outputs": [],
   "source": [
    "labels_translation = {\"sexo\":\"Sex\", \"tipacien\":\"TypeOfPatient\",\"fecdef\":\"DefunctionDate\",\n",
    "                      \"digcline\":\"Pneumonia\", \"edad\":\"Age\", \"fiebre\":\"Fever\",\"tos\":\"Cough\",\n",
    "                      \"odinogia\":\"Odynophagia\", \"disnea\":\"ShortnessOfBreath\", \"irritabi\":\"Irritability\",\n",
    "                      \"diarrea\":\"Diarrhea\", 'dotoraci':\"ThoracicPain\",'calofrios':\"Chills\", \n",
    "                      'cefalea':\"Headache\",'mialgias':\"Myalgia\", 'artral':\"Arthralgia\", \n",
    "                      'ataedoge':\"PoorGeneralCondition\", 'rinorrea':\"Rhinorrhea\", \t\n",
    "                      'polipnea':\"Polypnea\", \t'vomito':\"Vomit\", \t'dolabdo':\"AbdominalPain\",\n",
    "                      'conjun':\"Conjunctivitis\", \t'cianosis':\"Cyanosis\", 'inisubis':\"SuddenSyndromStart\",\n",
    "                      'diabetes':\"Diabetes\", \t'epoc':\"COPD\", \t'asma':\"Asthma\", \t'inmusupr':\"Immunosuppression\",\n",
    "                      'hiperten':\"Hypertension\", \t'vih_sida':\"HIV/AIDS\", \t'otracon':\"OtherCommorbidity\",\n",
    "                      'enfcardi':\"CardiovascularDisease\", \t'obesidad':\"Obesity\", 'insrencr':\"ChronicKidneyDisease\",\n",
    "                      'tabaquis':\"Smoking\", 'resdefin':\"COVID-19\"}"
   ]
  },
  {
   "cell_type": "markdown",
   "id": "6d26a16a",
   "metadata": {
    "id": "_KeQxP04_rvs",
    "papermill": {
     "duration": 0.049907,
     "end_time": "2022-06-08T07:13:20.106712",
     "exception": false,
     "start_time": "2022-06-08T07:13:20.056805",
     "status": "completed"
    },
    "tags": []
   },
   "source": [
    "Lets create a subset with this fields:"
   ]
  },
  {
   "cell_type": "code",
   "execution_count": 12,
   "id": "fc248449",
   "metadata": {
    "execution": {
     "iopub.execute_input": "2022-06-08T07:13:20.209592Z",
     "iopub.status.busy": "2022-06-08T07:13:20.208906Z",
     "iopub.status.idle": "2022-06-08T07:13:21.479566Z",
     "shell.execute_reply": "2022-06-08T07:13:21.478275Z"
    },
    "id": "Wbm5NDIHRiDj",
    "outputId": "f08a9f5c-9149-45af-93c3-03d9e0624302",
    "papermill": {
     "duration": 1.324208,
     "end_time": "2022-06-08T07:13:21.481857",
     "exception": false,
     "start_time": "2022-06-08T07:13:20.157649",
     "status": "completed"
    },
    "tags": []
   },
   "outputs": [
    {
     "name": "stdout",
     "output_type": "stream",
     "text": [
      "(3692986, 38)\n"
     ]
    },
    {
     "data": {
      "text/html": [
       "<div>\n",
       "<style scoped>\n",
       "    .dataframe tbody tr th:only-of-type {\n",
       "        vertical-align: middle;\n",
       "    }\n",
       "\n",
       "    .dataframe tbody tr th {\n",
       "        vertical-align: top;\n",
       "    }\n",
       "\n",
       "    .dataframe thead th {\n",
       "        text-align: right;\n",
       "    }\n",
       "</style>\n",
       "<table border=\"1\" class=\"dataframe\">\n",
       "  <thead>\n",
       "    <tr style=\"text-align: right;\">\n",
       "      <th></th>\n",
       "      <th>fechreg</th>\n",
       "      <th>sexo</th>\n",
       "      <th>tipacien</th>\n",
       "      <th>fecdef</th>\n",
       "      <th>intubado</th>\n",
       "      <th>digcline</th>\n",
       "      <th>edad</th>\n",
       "      <th>fiebre</th>\n",
       "      <th>tos</th>\n",
       "      <th>odinogia</th>\n",
       "      <th>...</th>\n",
       "      <th>asma</th>\n",
       "      <th>inmusupr</th>\n",
       "      <th>hiperten</th>\n",
       "      <th>vih_sida</th>\n",
       "      <th>otracon</th>\n",
       "      <th>enfcardi</th>\n",
       "      <th>obesidad</th>\n",
       "      <th>insrencr</th>\n",
       "      <th>tabaquis</th>\n",
       "      <th>resdefin</th>\n",
       "    </tr>\n",
       "  </thead>\n",
       "  <tbody>\n",
       "    <tr>\n",
       "      <th>0</th>\n",
       "      <td>2021-01-15T00:00:00Z</td>\n",
       "      <td>FEMENINO</td>\n",
       "      <td>AMBULATORIO</td>\n",
       "      <td>NaN</td>\n",
       "      <td>NaN</td>\n",
       "      <td>NO</td>\n",
       "      <td>34</td>\n",
       "      <td>NO</td>\n",
       "      <td>NO</td>\n",
       "      <td>NO</td>\n",
       "      <td>...</td>\n",
       "      <td>NO</td>\n",
       "      <td>NO</td>\n",
       "      <td>NO</td>\n",
       "      <td>NO</td>\n",
       "      <td>NO</td>\n",
       "      <td>NO</td>\n",
       "      <td>NO</td>\n",
       "      <td>NO</td>\n",
       "      <td>NO</td>\n",
       "      <td>NEGATIVO</td>\n",
       "    </tr>\n",
       "    <tr>\n",
       "      <th>1</th>\n",
       "      <td>2021-10-08T00:00:00Z</td>\n",
       "      <td>FEMENINO</td>\n",
       "      <td>AMBULATORIO</td>\n",
       "      <td>NaN</td>\n",
       "      <td>NaN</td>\n",
       "      <td>NO</td>\n",
       "      <td>44</td>\n",
       "      <td>NO</td>\n",
       "      <td>NO</td>\n",
       "      <td>NO</td>\n",
       "      <td>...</td>\n",
       "      <td>NO</td>\n",
       "      <td>NO</td>\n",
       "      <td>NO</td>\n",
       "      <td>NO</td>\n",
       "      <td>NO</td>\n",
       "      <td>NO</td>\n",
       "      <td>NO</td>\n",
       "      <td>NO</td>\n",
       "      <td>NO</td>\n",
       "      <td>NEGATIVO</td>\n",
       "    </tr>\n",
       "    <tr>\n",
       "      <th>2</th>\n",
       "      <td>2021-07-08T00:00:00Z</td>\n",
       "      <td>MASCULINO</td>\n",
       "      <td>AMBULATORIO</td>\n",
       "      <td>NaN</td>\n",
       "      <td>NaN</td>\n",
       "      <td>NO</td>\n",
       "      <td>32</td>\n",
       "      <td>NO</td>\n",
       "      <td>SI</td>\n",
       "      <td>SI</td>\n",
       "      <td>...</td>\n",
       "      <td>NO</td>\n",
       "      <td>NO</td>\n",
       "      <td>NO</td>\n",
       "      <td>NO</td>\n",
       "      <td>NO</td>\n",
       "      <td>NO</td>\n",
       "      <td>NO</td>\n",
       "      <td>NO</td>\n",
       "      <td>NO</td>\n",
       "      <td>NEGATIVO</td>\n",
       "    </tr>\n",
       "    <tr>\n",
       "      <th>3</th>\n",
       "      <td>2022-01-28T00:00:00Z</td>\n",
       "      <td>FEMENINO</td>\n",
       "      <td>AMBULATORIO</td>\n",
       "      <td>NaN</td>\n",
       "      <td>NaN</td>\n",
       "      <td>NO</td>\n",
       "      <td>39</td>\n",
       "      <td>NO</td>\n",
       "      <td>SI</td>\n",
       "      <td>SI</td>\n",
       "      <td>...</td>\n",
       "      <td>NO</td>\n",
       "      <td>NO</td>\n",
       "      <td>NO</td>\n",
       "      <td>NO</td>\n",
       "      <td>NO</td>\n",
       "      <td>NO</td>\n",
       "      <td>NO</td>\n",
       "      <td>NO</td>\n",
       "      <td>NO</td>\n",
       "      <td>NEGATIVO</td>\n",
       "    </tr>\n",
       "    <tr>\n",
       "      <th>4</th>\n",
       "      <td>2021-08-15T00:00:00Z</td>\n",
       "      <td>FEMENINO</td>\n",
       "      <td>AMBULATORIO</td>\n",
       "      <td>NaN</td>\n",
       "      <td>NaN</td>\n",
       "      <td>NO</td>\n",
       "      <td>38</td>\n",
       "      <td>NO</td>\n",
       "      <td>SI</td>\n",
       "      <td>NO</td>\n",
       "      <td>...</td>\n",
       "      <td>NO</td>\n",
       "      <td>NO</td>\n",
       "      <td>NO</td>\n",
       "      <td>NO</td>\n",
       "      <td>NO</td>\n",
       "      <td>NO</td>\n",
       "      <td>NO</td>\n",
       "      <td>NO</td>\n",
       "      <td>NO</td>\n",
       "      <td>NEGATIVO</td>\n",
       "    </tr>\n",
       "  </tbody>\n",
       "</table>\n",
       "<p>5 rows × 38 columns</p>\n",
       "</div>"
      ],
      "text/plain": [
       "                fechreg       sexo     tipacien fecdef intubado digcline  \\\n",
       "0  2021-01-15T00:00:00Z   FEMENINO  AMBULATORIO    NaN      NaN       NO   \n",
       "1  2021-10-08T00:00:00Z   FEMENINO  AMBULATORIO    NaN      NaN       NO   \n",
       "2  2021-07-08T00:00:00Z  MASCULINO  AMBULATORIO    NaN      NaN       NO   \n",
       "3  2022-01-28T00:00:00Z   FEMENINO  AMBULATORIO    NaN      NaN       NO   \n",
       "4  2021-08-15T00:00:00Z   FEMENINO  AMBULATORIO    NaN      NaN       NO   \n",
       "\n",
       "   edad fiebre tos odinogia  ... asma inmusupr hiperten vih_sida otracon  \\\n",
       "0    34     NO  NO       NO  ...   NO       NO       NO       NO      NO   \n",
       "1    44     NO  NO       NO  ...   NO       NO       NO       NO      NO   \n",
       "2    32     NO  SI       SI  ...   NO       NO       NO       NO      NO   \n",
       "3    39     NO  SI       SI  ...   NO       NO       NO       NO      NO   \n",
       "4    38     NO  SI       NO  ...   NO       NO       NO       NO      NO   \n",
       "\n",
       "  enfcardi obesidad insrencr tabaquis  resdefin  \n",
       "0       NO       NO       NO       NO  NEGATIVO  \n",
       "1       NO       NO       NO       NO  NEGATIVO  \n",
       "2       NO       NO       NO       NO  NEGATIVO  \n",
       "3       NO       NO       NO       NO  NEGATIVO  \n",
       "4       NO       NO       NO       NO  NEGATIVO  \n",
       "\n",
       "[5 rows x 38 columns]"
      ]
     },
     "execution_count": 12,
     "metadata": {},
     "output_type": "execute_result"
    }
   ],
   "source": [
    "dfmini = df.loc[:,columns]\n",
    "print(dfmini.shape)\n",
    "dfmini.head()"
   ]
  },
  {
   "cell_type": "markdown",
   "id": "de524421",
   "metadata": {
    "id": "3OV_G0j6_vHz",
    "papermill": {
     "duration": 0.049873,
     "end_time": "2022-06-08T07:13:21.582433",
     "exception": false,
     "start_time": "2022-06-08T07:13:21.532560",
     "status": "completed"
    },
    "tags": []
   },
   "source": [
    "Lets check for empty values:"
   ]
  },
  {
   "cell_type": "code",
   "execution_count": 13,
   "id": "e66a3685",
   "metadata": {
    "execution": {
     "iopub.execute_input": "2022-06-08T07:13:21.685722Z",
     "iopub.status.busy": "2022-06-08T07:13:21.684403Z",
     "iopub.status.idle": "2022-06-08T07:13:33.629983Z",
     "shell.execute_reply": "2022-06-08T07:13:33.628237Z"
    },
    "id": "85zsxSovUduO",
    "outputId": "2af54874-ea3f-4c1d-c752-e09644f40ec1",
    "papermill": {
     "duration": 11.998718,
     "end_time": "2022-06-08T07:13:33.632002",
     "exception": false,
     "start_time": "2022-06-08T07:13:21.633284",
     "status": "completed"
    },
    "tags": []
   },
   "outputs": [
    {
     "name": "stdout",
     "output_type": "stream",
     "text": [
      "fecdef      0.993265\n",
      "intubado    0.975202\n",
      "digcline    0.000357\n",
      "fechreg     0.000000\n",
      "inmusupr    0.000000\n",
      "dtype: float64\n"
     ]
    }
   ],
   "source": [
    "nulls = (dfmini.isnull().sum()/len(dfmini)).sort_values(ascending=False)[:5]\n",
    "print(nulls)"
   ]
  },
  {
   "cell_type": "markdown",
   "id": "8667162f",
   "metadata": {
    "id": "9S-nZvIO_x04",
    "papermill": {
     "duration": 0.049864,
     "end_time": "2022-06-08T07:13:33.733926",
     "exception": false,
     "start_time": "2022-06-08T07:13:33.684062",
     "status": "completed"
    },
    "tags": []
   },
   "source": [
    "Lets fill the NaNs with default values\n",
    "\n",
    "    fecdef (defunction date) -> if empty hasn't die\n",
    "\n",
    "    intubado (intubated)  -> if empty wasn't intubated\n",
    "    \n",
    "    digcline (clinic diagnoses of Pneumonia)  -> if empty was not diagnosed\n"
   ]
  },
  {
   "cell_type": "code",
   "execution_count": 14,
   "id": "f3b60cd1",
   "metadata": {
    "execution": {
     "iopub.execute_input": "2022-06-08T07:13:33.837491Z",
     "iopub.status.busy": "2022-06-08T07:13:33.836573Z",
     "iopub.status.idle": "2022-06-08T07:13:35.292874Z",
     "shell.execute_reply": "2022-06-08T07:13:35.292057Z"
    },
    "id": "TKfBA6VJUloC",
    "papermill": {
     "duration": 1.510897,
     "end_time": "2022-06-08T07:13:35.295308",
     "exception": false,
     "start_time": "2022-06-08T07:13:33.784411",
     "status": "completed"
    },
    "tags": []
   },
   "outputs": [],
   "source": [
    "dfmini[\"fecdef\"].fillna(\"NO\", inplace=True)\n",
    "dfmini[\"intubado\"].fillna(\"NO\", inplace=True)\n",
    "dfmini[\"digcline\"].fillna(\"NO\", inplace=True)\n",
    "# Lets change defunction dates to a binary indicator of whether the patient died or not\n",
    "dfmini[\"fecdef\"] = dfmini[\"fecdef\"].map(lambda x: \"SI\" if x != \"NO\" else x)"
   ]
  },
  {
   "cell_type": "markdown",
   "id": "8968861b",
   "metadata": {
    "id": "AcUcOTsL2YXN",
    "papermill": {
     "duration": 0.05094,
     "end_time": "2022-06-08T07:13:35.398029",
     "exception": false,
     "start_time": "2022-06-08T07:13:35.347089",
     "status": "completed"
    },
    "tags": []
   },
   "source": [
    "Lets check again for null values"
   ]
  },
  {
   "cell_type": "code",
   "execution_count": 15,
   "id": "0c49cd1d",
   "metadata": {
    "execution": {
     "iopub.execute_input": "2022-06-08T07:13:35.501190Z",
     "iopub.status.busy": "2022-06-08T07:13:35.500829Z",
     "iopub.status.idle": "2022-06-08T07:13:48.277513Z",
     "shell.execute_reply": "2022-06-08T07:13:48.276779Z"
    },
    "id": "t3lXdhnQKLcZ",
    "outputId": "c94cba6b-1549-4ece-9e0c-0dad218b67d5",
    "papermill": {
     "duration": 12.830487,
     "end_time": "2022-06-08T07:13:48.279328",
     "exception": false,
     "start_time": "2022-06-08T07:13:35.448841",
     "status": "completed"
    },
    "tags": []
   },
   "outputs": [
    {
     "data": {
      "text/plain": [
       "fechreg    0.0\n",
       "asma       0.0\n",
       "vomito     0.0\n",
       "dolabdo    0.0\n",
       "conjun     0.0\n",
       "dtype: float64"
      ]
     },
     "execution_count": 15,
     "metadata": {},
     "output_type": "execute_result"
    }
   ],
   "source": [
    "(dfmini.isnull().sum()/len(dfmini)).sort_values(ascending=False)[:5]"
   ]
  },
  {
   "cell_type": "code",
   "execution_count": 16,
   "id": "2f90b32a",
   "metadata": {
    "execution": {
     "iopub.execute_input": "2022-06-08T07:13:48.384044Z",
     "iopub.status.busy": "2022-06-08T07:13:48.383308Z",
     "iopub.status.idle": "2022-06-08T07:13:48.597366Z",
     "shell.execute_reply": "2022-06-08T07:13:48.596621Z"
    },
    "id": "u6McMHjnHk3t",
    "outputId": "b200256f-e95b-4b53-8b0b-f66b765af841",
    "papermill": {
     "duration": 0.268033,
     "end_time": "2022-06-08T07:13:48.599144",
     "exception": false,
     "start_time": "2022-06-08T07:13:48.331111",
     "status": "completed"
    },
    "tags": []
   },
   "outputs": [
    {
     "data": {
      "text/plain": [
       "(array(['NO', 'SI', 'SE IGNORA'], dtype=object), (3692986, 38))"
      ]
     },
     "execution_count": 16,
     "metadata": {},
     "output_type": "execute_result"
    }
   ],
   "source": [
    "dfmini.diabetes.unique(), dfmini.shape"
   ]
  },
  {
   "cell_type": "markdown",
   "id": "1ef68fae",
   "metadata": {
    "id": "ZQijdxvQIBrP",
    "papermill": {
     "duration": 0.050944,
     "end_time": "2022-06-08T07:13:48.701668",
     "exception": false,
     "start_time": "2022-06-08T07:13:48.650724",
     "status": "completed"
    },
    "tags": []
   },
   "source": [
    "Lets remove unknown data:"
   ]
  },
  {
   "cell_type": "code",
   "execution_count": 17,
   "id": "ba290680",
   "metadata": {
    "execution": {
     "iopub.execute_input": "2022-06-08T07:13:48.805579Z",
     "iopub.status.busy": "2022-06-08T07:13:48.805222Z",
     "iopub.status.idle": "2022-06-08T07:14:46.133518Z",
     "shell.execute_reply": "2022-06-08T07:14:46.132642Z"
    },
    "id": "tgBsTUoFIBUB",
    "outputId": "76d59772-ba32-4564-fbe0-652cc715a166",
    "papermill": {
     "duration": 57.488292,
     "end_time": "2022-06-08T07:14:46.241386",
     "exception": false,
     "start_time": "2022-06-08T07:13:48.753094",
     "status": "completed"
    },
    "tags": []
   },
   "outputs": [
    {
     "data": {
      "text/plain": [
       "(3659727, 38)"
      ]
     },
     "execution_count": 17,
     "metadata": {},
     "output_type": "execute_result"
    }
   ],
   "source": [
    "to_check = ['fiebre', 'tos', 'odinogia', 'disnea', 'irritabi', 'diarrea', 'dotoraci',\n",
    "            'calofrios', 'cefalea','mialgias', 'artral', 'ataedoge', \t'rinorrea', \t\n",
    "            'polipnea', \t'vomito', \t'dolabdo', \t'conjun', \t'cianosis','inisubis', \t\n",
    "            'diabetes', \t'epoc', \t'asma', \t'inmusupr', \t'hiperten', \t'vih_sida', \t\n",
    "            'otracon', \t'enfcardi', \t'obesidad', \t'insrencr','tabaquis']\n",
    "\n",
    "for col in to_check:\n",
    "  dfmini = dfmini[dfmini[col] != 'SE IGNORA']\n",
    "\n",
    "dfmini.shape"
   ]
  },
  {
   "cell_type": "code",
   "execution_count": 18,
   "id": "822b1096",
   "metadata": {
    "execution": {
     "iopub.execute_input": "2022-06-08T07:14:46.345592Z",
     "iopub.status.busy": "2022-06-08T07:14:46.345237Z",
     "iopub.status.idle": "2022-06-08T07:14:46.554801Z",
     "shell.execute_reply": "2022-06-08T07:14:46.554047Z"
    },
    "id": "FdUgjK5xJGgM",
    "outputId": "4d99e840-d7e0-4324-b00b-b4845bb5a640",
    "papermill": {
     "duration": 0.264344,
     "end_time": "2022-06-08T07:14:46.556517",
     "exception": false,
     "start_time": "2022-06-08T07:14:46.292173",
     "status": "completed"
    },
    "tags": []
   },
   "outputs": [
    {
     "data": {
      "text/plain": [
       "(array(['NO', 'SI'], dtype=object), (3659727, 38))"
      ]
     },
     "execution_count": 18,
     "metadata": {},
     "output_type": "execute_result"
    }
   ],
   "source": [
    "dfmini.diabetes.unique(), dfmini.shape"
   ]
  },
  {
   "cell_type": "markdown",
   "id": "ad17bece",
   "metadata": {
    "id": "FtBQc83P26qU",
    "papermill": {
     "duration": 0.050773,
     "end_time": "2022-06-08T07:14:46.658234",
     "exception": false,
     "start_time": "2022-06-08T07:14:46.607461",
     "status": "completed"
    },
    "tags": []
   },
   "source": [
    "Lets change the boolean word of \"No\" and \"Sí\" for 0s and 1s."
   ]
  },
  {
   "cell_type": "code",
   "execution_count": 19,
   "id": "d6b78005",
   "metadata": {
    "execution": {
     "iopub.execute_input": "2022-06-08T07:14:46.763059Z",
     "iopub.status.busy": "2022-06-08T07:14:46.762671Z",
     "iopub.status.idle": "2022-06-08T07:15:35.196443Z",
     "shell.execute_reply": "2022-06-08T07:15:35.195682Z"
    },
    "id": "GDUwhowrPl5z",
    "outputId": "27afc3b8-1cc4-42c6-be52-2268ca313169",
    "papermill": {
     "duration": 48.489096,
     "end_time": "2022-06-08T07:15:35.198335",
     "exception": false,
     "start_time": "2022-06-08T07:14:46.709239",
     "status": "completed"
    },
    "tags": []
   },
   "outputs": [
    {
     "name": "stdout",
     "output_type": "stream",
     "text": [
      "{'FEMENINO': 0, 'MASCULINO': 1}\n",
      "{'AMBULATORIO': 0, 'HOSPITALIZADO': 1}\n",
      "{'NO': 0, 'SI': 1}\n",
      "{'NO': 0, 'SI': 1}\n",
      "{'NO': 0, 'SI': 1}\n",
      "{'NO': 0, 'SI': 1}\n",
      "{'NO': 0, 'SI': 1}\n",
      "{'NO': 0, 'SI': 1}\n",
      "{'NO': 0, 'SI': 1}\n",
      "{'NO': 0, 'SI': 1}\n",
      "{'NO': 0, 'SI': 1}\n",
      "{'NO': 0, 'SI': 1}\n",
      "{'NO': 0, 'SI': 1}\n",
      "{'NO': 0, 'SI': 1}\n",
      "{'NO': 0, 'SI': 1}\n",
      "{'NO': 0, 'SI': 1}\n",
      "{'NO': 0, 'SI': 1}\n",
      "{'NO': 0, 'SI': 1}\n",
      "{'NO': 0, 'SI': 1}\n",
      "{'NO': 0, 'SI': 1}\n",
      "{'NO': 0, 'SI': 1}\n",
      "{'NO': 0, 'SI': 1}\n",
      "{'NO': 0, 'SI': 1}\n",
      "{'NO': 0, 'SI': 1}\n",
      "{'NO': 0, 'SI': 1}\n",
      "{'NO': 0, 'SI': 1}\n",
      "{'NO': 0, 'SI': 1}\n",
      "{'NO': 0, 'SI': 1}\n",
      "{'NO': 0, 'SI': 1}\n",
      "{'NO': 0, 'SI': 1}\n",
      "{'NO': 0, 'SI': 1}\n",
      "{'NO': 0, 'SI': 1}\n",
      "{'NO': 0, 'SI': 1}\n",
      "{'NO': 0, 'SI': 1}\n",
      "{'NO': 0, 'SI': 1}\n",
      "{'NEGATIVO': 0, 'SARS-CoV-2': 1}\n"
     ]
    },
    {
     "data": {
      "text/html": [
       "<div>\n",
       "<style scoped>\n",
       "    .dataframe tbody tr th:only-of-type {\n",
       "        vertical-align: middle;\n",
       "    }\n",
       "\n",
       "    .dataframe tbody tr th {\n",
       "        vertical-align: top;\n",
       "    }\n",
       "\n",
       "    .dataframe thead th {\n",
       "        text-align: right;\n",
       "    }\n",
       "</style>\n",
       "<table border=\"1\" class=\"dataframe\">\n",
       "  <thead>\n",
       "    <tr style=\"text-align: right;\">\n",
       "      <th></th>\n",
       "      <th>fechreg</th>\n",
       "      <th>sexo</th>\n",
       "      <th>tipacien</th>\n",
       "      <th>fecdef</th>\n",
       "      <th>intubado</th>\n",
       "      <th>digcline</th>\n",
       "      <th>edad</th>\n",
       "      <th>fiebre</th>\n",
       "      <th>tos</th>\n",
       "      <th>odinogia</th>\n",
       "      <th>...</th>\n",
       "      <th>asma</th>\n",
       "      <th>inmusupr</th>\n",
       "      <th>hiperten</th>\n",
       "      <th>vih_sida</th>\n",
       "      <th>otracon</th>\n",
       "      <th>enfcardi</th>\n",
       "      <th>obesidad</th>\n",
       "      <th>insrencr</th>\n",
       "      <th>tabaquis</th>\n",
       "      <th>resdefin</th>\n",
       "    </tr>\n",
       "  </thead>\n",
       "  <tbody>\n",
       "    <tr>\n",
       "      <th>0</th>\n",
       "      <td>2021-01-15T00:00:00Z</td>\n",
       "      <td>0</td>\n",
       "      <td>0</td>\n",
       "      <td>0</td>\n",
       "      <td>0</td>\n",
       "      <td>0</td>\n",
       "      <td>34</td>\n",
       "      <td>0</td>\n",
       "      <td>0</td>\n",
       "      <td>0</td>\n",
       "      <td>...</td>\n",
       "      <td>0</td>\n",
       "      <td>0</td>\n",
       "      <td>0</td>\n",
       "      <td>0</td>\n",
       "      <td>0</td>\n",
       "      <td>0</td>\n",
       "      <td>0</td>\n",
       "      <td>0</td>\n",
       "      <td>0</td>\n",
       "      <td>0</td>\n",
       "    </tr>\n",
       "    <tr>\n",
       "      <th>1</th>\n",
       "      <td>2021-10-08T00:00:00Z</td>\n",
       "      <td>0</td>\n",
       "      <td>0</td>\n",
       "      <td>0</td>\n",
       "      <td>0</td>\n",
       "      <td>0</td>\n",
       "      <td>44</td>\n",
       "      <td>0</td>\n",
       "      <td>0</td>\n",
       "      <td>0</td>\n",
       "      <td>...</td>\n",
       "      <td>0</td>\n",
       "      <td>0</td>\n",
       "      <td>0</td>\n",
       "      <td>0</td>\n",
       "      <td>0</td>\n",
       "      <td>0</td>\n",
       "      <td>0</td>\n",
       "      <td>0</td>\n",
       "      <td>0</td>\n",
       "      <td>0</td>\n",
       "    </tr>\n",
       "    <tr>\n",
       "      <th>2</th>\n",
       "      <td>2021-07-08T00:00:00Z</td>\n",
       "      <td>1</td>\n",
       "      <td>0</td>\n",
       "      <td>0</td>\n",
       "      <td>0</td>\n",
       "      <td>0</td>\n",
       "      <td>32</td>\n",
       "      <td>0</td>\n",
       "      <td>1</td>\n",
       "      <td>1</td>\n",
       "      <td>...</td>\n",
       "      <td>0</td>\n",
       "      <td>0</td>\n",
       "      <td>0</td>\n",
       "      <td>0</td>\n",
       "      <td>0</td>\n",
       "      <td>0</td>\n",
       "      <td>0</td>\n",
       "      <td>0</td>\n",
       "      <td>0</td>\n",
       "      <td>0</td>\n",
       "    </tr>\n",
       "    <tr>\n",
       "      <th>3</th>\n",
       "      <td>2022-01-28T00:00:00Z</td>\n",
       "      <td>0</td>\n",
       "      <td>0</td>\n",
       "      <td>0</td>\n",
       "      <td>0</td>\n",
       "      <td>0</td>\n",
       "      <td>39</td>\n",
       "      <td>0</td>\n",
       "      <td>1</td>\n",
       "      <td>1</td>\n",
       "      <td>...</td>\n",
       "      <td>0</td>\n",
       "      <td>0</td>\n",
       "      <td>0</td>\n",
       "      <td>0</td>\n",
       "      <td>0</td>\n",
       "      <td>0</td>\n",
       "      <td>0</td>\n",
       "      <td>0</td>\n",
       "      <td>0</td>\n",
       "      <td>0</td>\n",
       "    </tr>\n",
       "    <tr>\n",
       "      <th>4</th>\n",
       "      <td>2021-08-15T00:00:00Z</td>\n",
       "      <td>0</td>\n",
       "      <td>0</td>\n",
       "      <td>0</td>\n",
       "      <td>0</td>\n",
       "      <td>0</td>\n",
       "      <td>38</td>\n",
       "      <td>0</td>\n",
       "      <td>1</td>\n",
       "      <td>0</td>\n",
       "      <td>...</td>\n",
       "      <td>0</td>\n",
       "      <td>0</td>\n",
       "      <td>0</td>\n",
       "      <td>0</td>\n",
       "      <td>0</td>\n",
       "      <td>0</td>\n",
       "      <td>0</td>\n",
       "      <td>0</td>\n",
       "      <td>0</td>\n",
       "      <td>0</td>\n",
       "    </tr>\n",
       "  </tbody>\n",
       "</table>\n",
       "<p>5 rows × 38 columns</p>\n",
       "</div>"
      ],
      "text/plain": [
       "                fechreg  sexo  tipacien  fecdef  intubado  digcline  edad  \\\n",
       "0  2021-01-15T00:00:00Z     0         0       0         0         0    34   \n",
       "1  2021-10-08T00:00:00Z     0         0       0         0         0    44   \n",
       "2  2021-07-08T00:00:00Z     1         0       0         0         0    32   \n",
       "3  2022-01-28T00:00:00Z     0         0       0         0         0    39   \n",
       "4  2021-08-15T00:00:00Z     0         0       0         0         0    38   \n",
       "\n",
       "   fiebre  tos  odinogia  ...  asma  inmusupr  hiperten  vih_sida  otracon  \\\n",
       "0       0    0         0  ...     0         0         0         0        0   \n",
       "1       0    0         0  ...     0         0         0         0        0   \n",
       "2       0    1         1  ...     0         0         0         0        0   \n",
       "3       0    1         1  ...     0         0         0         0        0   \n",
       "4       0    1         0  ...     0         0         0         0        0   \n",
       "\n",
       "   enfcardi  obesidad  insrencr  tabaquis  resdefin  \n",
       "0         0         0         0         0         0  \n",
       "1         0         0         0         0         0  \n",
       "2         0         0         0         0         0  \n",
       "3         0         0         0         0         0  \n",
       "4         0         0         0         0         0  \n",
       "\n",
       "[5 rows x 38 columns]"
      ]
     },
     "execution_count": 19,
     "metadata": {},
     "output_type": "execute_result"
    }
   ],
   "source": [
    "cat = {}\n",
    "for col in dfmini:\n",
    "  if col in [\"fechreg\", \"edad\"]: continue \n",
    "  map = {x:i for i,x in enumerate(dfmini[col].unique())}\n",
    "  print(map)\n",
    "  cat[col] = map\n",
    "  dfmini[col] = dfmini[col].map(map)\n",
    "\n",
    "dfmini.head()"
   ]
  },
  {
   "cell_type": "code",
   "execution_count": 20,
   "id": "a22ee17f",
   "metadata": {
    "execution": {
     "iopub.execute_input": "2022-06-08T07:15:35.308623Z",
     "iopub.status.busy": "2022-06-08T07:15:35.307822Z",
     "iopub.status.idle": "2022-06-08T07:15:35.313303Z",
     "shell.execute_reply": "2022-06-08T07:15:35.312549Z"
    },
    "papermill": {
     "duration": 0.062088,
     "end_time": "2022-06-08T07:15:35.315085",
     "exception": false,
     "start_time": "2022-06-08T07:15:35.252997",
     "status": "completed"
    },
    "tags": []
   },
   "outputs": [
    {
     "data": {
      "text/plain": [
       "{'NEGATIVO': 0, 'SARS-CoV-2': 1}"
      ]
     },
     "execution_count": 20,
     "metadata": {},
     "output_type": "execute_result"
    }
   ],
   "source": [
    "map"
   ]
  },
  {
   "cell_type": "code",
   "execution_count": 21,
   "id": "c2d5f466",
   "metadata": {
    "execution": {
     "iopub.execute_input": "2022-06-08T07:15:35.426285Z",
     "iopub.status.busy": "2022-06-08T07:15:35.425487Z",
     "iopub.status.idle": "2022-06-08T07:15:37.906039Z",
     "shell.execute_reply": "2022-06-08T07:15:37.905173Z"
    },
    "id": "GRnc-iW4Gjip",
    "papermill": {
     "duration": 2.53996,
     "end_time": "2022-06-08T07:15:37.908468",
     "exception": false,
     "start_time": "2022-06-08T07:15:35.368508",
     "status": "completed"
    },
    "tags": []
   },
   "outputs": [],
   "source": [
    "dfmini = dfmini.sample(2000000, random_state=42) # two million registers"
   ]
  },
  {
   "cell_type": "markdown",
   "id": "234bf398",
   "metadata": {
    "id": "NNLv6Q9BCDPq",
    "papermill": {
     "duration": 0.054084,
     "end_time": "2022-06-08T07:15:38.016874",
     "exception": false,
     "start_time": "2022-06-08T07:15:37.962790",
     "status": "completed"
    },
    "tags": []
   },
   "source": [
    "Lets make a dataset for symptoms and covid-19 diagnoses:"
   ]
  },
  {
   "cell_type": "code",
   "execution_count": 22,
   "id": "d2bd9a3e",
   "metadata": {
    "execution": {
     "iopub.execute_input": "2022-06-08T07:15:38.126477Z",
     "iopub.status.busy": "2022-06-08T07:15:38.125611Z",
     "iopub.status.idle": "2022-06-08T07:15:38.249991Z",
     "shell.execute_reply": "2022-06-08T07:15:38.249145Z"
    },
    "id": "W_zx4BPnCPGX",
    "outputId": "adff639f-61e8-4cd8-faa0-7790b0078b04",
    "papermill": {
     "duration": 0.181211,
     "end_time": "2022-06-08T07:15:38.252103",
     "exception": false,
     "start_time": "2022-06-08T07:15:38.070892",
     "status": "completed"
    },
    "tags": []
   },
   "outputs": [
    {
     "data": {
      "text/plain": [
       "(         sexo  edad  fiebre  tos  odinogia  disnea  irritabi  diarrea  \\\n",
       " 1173599     1    49       1    0         0       0         0        0   \n",
       " 2712989     0    58       0    0         0       0         0        0   \n",
       " 141825      0    51       0    1         0       0         0        0   \n",
       " 1003142     1    32       0    0         0       0         0        0   \n",
       " 3598245     1    29       0    0         0       0         0        1   \n",
       " \n",
       "          dotoraci  calofrios  ...  artral  ataedoge  rinorrea  polipnea  \\\n",
       " 1173599         0          0  ...       1         0         0         0   \n",
       " 2712989         0          0  ...       0         0         0         0   \n",
       " 141825          1          1  ...       0         0         0         0   \n",
       " 1003142         0          0  ...       0         0         0         0   \n",
       " 3598245         0          0  ...       0         0         0         0   \n",
       " \n",
       "          vomito  dolabdo  conjun  cianosis  inisubis  resdefin  \n",
       " 1173599       0        0       0         0         0         1  \n",
       " 2712989       0        0       0         0         0         0  \n",
       " 141825        0        0       0         0         0         0  \n",
       " 1003142       0        0       0         0         0         0  \n",
       " 3598245       0        0       0         0         0         0  \n",
       " \n",
       " [5 rows x 22 columns],\n",
       " (2000000, 22))"
      ]
     },
     "execution_count": 22,
     "metadata": {},
     "output_type": "execute_result"
    }
   ],
   "source": [
    "# Lets create a dataframe to try to detect covid given the symptoms\n",
    "col_sin = ['sexo', 'edad', 'fiebre', 'tos', 'odinogia', 'disnea', 'irritabi', 'diarrea', \n",
    "           'dotoraci','calofrios', 'cefalea', 'mialgias', 'artral', 'ataedoge', 'rinorrea', 'polipnea',\t'vomito', 'dolabdo', 'conjun', 'cianosis',\n",
    "           'inisubis', 'resdefin'] #'tipacien', 'intubado', 'digcline', \n",
    "\n",
    "df_sin = dfmini.loc[:,col_sin]\n",
    "df_sin.head(), df_sin.shape"
   ]
  },
  {
   "cell_type": "markdown",
   "id": "aed7502c",
   "metadata": {
    "id": "AYG-pqyMCVh1",
    "papermill": {
     "duration": 0.055311,
     "end_time": "2022-06-08T07:15:38.362460",
     "exception": false,
     "start_time": "2022-06-08T07:15:38.307149",
     "status": "completed"
    },
    "tags": []
   },
   "source": [
    "Lets make a dataframe for the comorbidities and defuntion outcome given a pacient is positive to covid-19."
   ]
  },
  {
   "cell_type": "code",
   "execution_count": 23,
   "id": "92d68dd6",
   "metadata": {
    "execution": {
     "iopub.execute_input": "2022-06-08T07:15:38.472680Z",
     "iopub.status.busy": "2022-06-08T07:15:38.472334Z",
     "iopub.status.idle": "2022-06-08T07:15:38.582066Z",
     "shell.execute_reply": "2022-06-08T07:15:38.581295Z"
    },
    "id": "ZYS6mQH9RdlG",
    "outputId": "ccab3bef-131d-4ebf-b3fe-88ae1f65de55",
    "papermill": {
     "duration": 0.16773,
     "end_time": "2022-06-08T07:15:38.583866",
     "exception": false,
     "start_time": "2022-06-08T07:15:38.416136",
     "status": "completed"
    },
    "tags": []
   },
   "outputs": [
    {
     "data": {
      "text/plain": [
       "(         sexo  edad  diabetes  epoc  asma  inmusupr  hiperten  vih_sida  \\\n",
       " 1173599     1    49         0     0     0         0         0         0   \n",
       " 1985058     0    11         0     0     0         0         0         0   \n",
       " 3231131     1    26         0     0     0         0         0         0   \n",
       " 476817      1    29         0     0     0         0         0         0   \n",
       " 1104026     1    23         0     0     0         0         0         0   \n",
       " \n",
       "          otracon  enfcardi  obesidad  insrencr  tabaquis  fecdef  \n",
       " 1173599        0         0         0         0         0       0  \n",
       " 1985058        0         0         0         0         0       0  \n",
       " 3231131        0         0         0         0         0       0  \n",
       " 476817         0         0         0         0         1       0  \n",
       " 1104026        0         0         0         0         0       0  ,\n",
       " (431112, 14))"
      ]
     },
     "execution_count": 23,
     "metadata": {},
     "output_type": "execute_result"
    }
   ],
   "source": [
    "# Lets create a dataframe for deaths given the comorbidities\n",
    "col_com  = ['sexo', 'edad', 'diabetes',\t'epoc', 'asma',\t'inmusupr', \n",
    "            'hiperten', 'vih_sida', 'otracon', 'enfcardi', 'obesidad', 'insrencr',\n",
    "            'tabaquis', 'resdefin', 'fecdef']\n",
    "\n",
    "df_com = dfmini.loc[:,col_com]\n",
    "df_com = df_com[df_com['resdefin']==1]\n",
    "df_com.drop('resdefin', axis=1, inplace=True)\n",
    "df_com.head(), df_com.shape"
   ]
  },
  {
   "cell_type": "markdown",
   "id": "c2811668",
   "metadata": {
    "id": "kZgwBqtC6d2V",
    "papermill": {
     "duration": 0.054142,
     "end_time": "2022-06-08T07:15:38.692573",
     "exception": false,
     "start_time": "2022-06-08T07:15:38.638431",
     "status": "completed"
    },
    "tags": []
   },
   "source": [
    "Lets now make a dataframe to try to predict if a pacient will be hospitalized given his symptoms and comorbidities:\n",
    "\n",
    "Tratamos de predecir si el paciente quedara hospitalizado a traves de sus sintomas y comorbilidades, observe que el hecho de que el paciente este intubado implica que esta hospitalizado, asi que creamos un nuevo dataframe borrando esta columnas, asi como las columnas, tippacien,fecdef,resdefin y tomamos la columna $y$ como la columna que nos dice si el paciente fue hospitalizado o no"
   ]
  },
  {
   "cell_type": "code",
   "execution_count": 24,
   "id": "50ea3d83",
   "metadata": {
    "execution": {
     "iopub.execute_input": "2022-06-08T07:15:38.802943Z",
     "iopub.status.busy": "2022-06-08T07:15:38.802578Z",
     "iopub.status.idle": "2022-06-08T07:15:38.807777Z",
     "shell.execute_reply": "2022-06-08T07:15:38.806919Z"
    },
    "id": "4QPdVA4bDcZe",
    "papermill": {
     "duration": 0.06298,
     "end_time": "2022-06-08T07:15:38.809537",
     "exception": false,
     "start_time": "2022-06-08T07:15:38.746557",
     "status": "completed"
    },
    "tags": []
   },
   "outputs": [],
   "source": [
    "# Lets create a dataframe for hospitalizations given symptoms and comorbidities\n",
    "symptoms_and_com = ['sexo', 'edad', 'fiebre', 'tos', 'odinogia', 'disnea', 'irritabi', 'diarrea', \n",
    "           'dotoraci','calofrios', 'cefalea','mialgias', 'artral', 'ataedoge', \t'rinorrea', \t'polipnea', \t'vomito', \t'dolabdo', \t'conjun', \t'cianosis',\n",
    "           'inisubis', \t'diabetes', \t'epoc', \t'asma', \t'inmusupr', \t'hiperten', \t'vih_sida', \t'otracon', \t'enfcardi', \t'obesidad', \t'insrencr',\n",
    "           'tabaquis', 'resdefin', 'tipacien']"
   ]
  },
  {
   "cell_type": "code",
   "execution_count": 25,
   "id": "a52ff94a",
   "metadata": {
    "execution": {
     "iopub.execute_input": "2022-06-08T07:15:38.919095Z",
     "iopub.status.busy": "2022-06-08T07:15:38.918404Z",
     "iopub.status.idle": "2022-06-08T07:15:39.218449Z",
     "shell.execute_reply": "2022-06-08T07:15:39.217679Z"
    },
    "id": "z6fGN5_NERBn",
    "outputId": "b0f035f4-1e64-45ec-ed46-5174e3bb5c76",
    "papermill": {
     "duration": 0.357112,
     "end_time": "2022-06-08T07:15:39.220555",
     "exception": false,
     "start_time": "2022-06-08T07:15:38.863443",
     "status": "completed"
    },
    "tags": []
   },
   "outputs": [
    {
     "data": {
      "text/html": [
       "<div>\n",
       "<style scoped>\n",
       "    .dataframe tbody tr th:only-of-type {\n",
       "        vertical-align: middle;\n",
       "    }\n",
       "\n",
       "    .dataframe tbody tr th {\n",
       "        vertical-align: top;\n",
       "    }\n",
       "\n",
       "    .dataframe thead th {\n",
       "        text-align: right;\n",
       "    }\n",
       "</style>\n",
       "<table border=\"1\" class=\"dataframe\">\n",
       "  <thead>\n",
       "    <tr style=\"text-align: right;\">\n",
       "      <th></th>\n",
       "      <th>sexo</th>\n",
       "      <th>edad</th>\n",
       "      <th>fiebre</th>\n",
       "      <th>tos</th>\n",
       "      <th>odinogia</th>\n",
       "      <th>disnea</th>\n",
       "      <th>irritabi</th>\n",
       "      <th>diarrea</th>\n",
       "      <th>dotoraci</th>\n",
       "      <th>calofrios</th>\n",
       "      <th>...</th>\n",
       "      <th>asma</th>\n",
       "      <th>inmusupr</th>\n",
       "      <th>hiperten</th>\n",
       "      <th>vih_sida</th>\n",
       "      <th>otracon</th>\n",
       "      <th>enfcardi</th>\n",
       "      <th>obesidad</th>\n",
       "      <th>insrencr</th>\n",
       "      <th>tabaquis</th>\n",
       "      <th>tipacien</th>\n",
       "    </tr>\n",
       "  </thead>\n",
       "  <tbody>\n",
       "    <tr>\n",
       "      <th>1173599</th>\n",
       "      <td>1</td>\n",
       "      <td>49</td>\n",
       "      <td>1</td>\n",
       "      <td>0</td>\n",
       "      <td>0</td>\n",
       "      <td>0</td>\n",
       "      <td>0</td>\n",
       "      <td>0</td>\n",
       "      <td>0</td>\n",
       "      <td>0</td>\n",
       "      <td>...</td>\n",
       "      <td>0</td>\n",
       "      <td>0</td>\n",
       "      <td>0</td>\n",
       "      <td>0</td>\n",
       "      <td>0</td>\n",
       "      <td>0</td>\n",
       "      <td>0</td>\n",
       "      <td>0</td>\n",
       "      <td>0</td>\n",
       "      <td>0</td>\n",
       "    </tr>\n",
       "    <tr>\n",
       "      <th>1985058</th>\n",
       "      <td>0</td>\n",
       "      <td>11</td>\n",
       "      <td>1</td>\n",
       "      <td>0</td>\n",
       "      <td>0</td>\n",
       "      <td>0</td>\n",
       "      <td>0</td>\n",
       "      <td>0</td>\n",
       "      <td>0</td>\n",
       "      <td>0</td>\n",
       "      <td>...</td>\n",
       "      <td>0</td>\n",
       "      <td>0</td>\n",
       "      <td>0</td>\n",
       "      <td>0</td>\n",
       "      <td>0</td>\n",
       "      <td>0</td>\n",
       "      <td>0</td>\n",
       "      <td>0</td>\n",
       "      <td>0</td>\n",
       "      <td>0</td>\n",
       "    </tr>\n",
       "    <tr>\n",
       "      <th>3231131</th>\n",
       "      <td>1</td>\n",
       "      <td>26</td>\n",
       "      <td>0</td>\n",
       "      <td>0</td>\n",
       "      <td>0</td>\n",
       "      <td>0</td>\n",
       "      <td>0</td>\n",
       "      <td>0</td>\n",
       "      <td>0</td>\n",
       "      <td>0</td>\n",
       "      <td>...</td>\n",
       "      <td>0</td>\n",
       "      <td>0</td>\n",
       "      <td>0</td>\n",
       "      <td>0</td>\n",
       "      <td>0</td>\n",
       "      <td>0</td>\n",
       "      <td>0</td>\n",
       "      <td>0</td>\n",
       "      <td>0</td>\n",
       "      <td>0</td>\n",
       "    </tr>\n",
       "    <tr>\n",
       "      <th>476817</th>\n",
       "      <td>1</td>\n",
       "      <td>29</td>\n",
       "      <td>1</td>\n",
       "      <td>1</td>\n",
       "      <td>0</td>\n",
       "      <td>0</td>\n",
       "      <td>0</td>\n",
       "      <td>0</td>\n",
       "      <td>0</td>\n",
       "      <td>0</td>\n",
       "      <td>...</td>\n",
       "      <td>0</td>\n",
       "      <td>0</td>\n",
       "      <td>0</td>\n",
       "      <td>0</td>\n",
       "      <td>0</td>\n",
       "      <td>0</td>\n",
       "      <td>0</td>\n",
       "      <td>0</td>\n",
       "      <td>1</td>\n",
       "      <td>0</td>\n",
       "    </tr>\n",
       "    <tr>\n",
       "      <th>1104026</th>\n",
       "      <td>1</td>\n",
       "      <td>23</td>\n",
       "      <td>1</td>\n",
       "      <td>1</td>\n",
       "      <td>0</td>\n",
       "      <td>0</td>\n",
       "      <td>0</td>\n",
       "      <td>0</td>\n",
       "      <td>0</td>\n",
       "      <td>0</td>\n",
       "      <td>...</td>\n",
       "      <td>0</td>\n",
       "      <td>0</td>\n",
       "      <td>0</td>\n",
       "      <td>0</td>\n",
       "      <td>0</td>\n",
       "      <td>0</td>\n",
       "      <td>0</td>\n",
       "      <td>0</td>\n",
       "      <td>0</td>\n",
       "      <td>0</td>\n",
       "    </tr>\n",
       "    <tr>\n",
       "      <th>...</th>\n",
       "      <td>...</td>\n",
       "      <td>...</td>\n",
       "      <td>...</td>\n",
       "      <td>...</td>\n",
       "      <td>...</td>\n",
       "      <td>...</td>\n",
       "      <td>...</td>\n",
       "      <td>...</td>\n",
       "      <td>...</td>\n",
       "      <td>...</td>\n",
       "      <td>...</td>\n",
       "      <td>...</td>\n",
       "      <td>...</td>\n",
       "      <td>...</td>\n",
       "      <td>...</td>\n",
       "      <td>...</td>\n",
       "      <td>...</td>\n",
       "      <td>...</td>\n",
       "      <td>...</td>\n",
       "      <td>...</td>\n",
       "      <td>...</td>\n",
       "    </tr>\n",
       "    <tr>\n",
       "      <th>3068960</th>\n",
       "      <td>0</td>\n",
       "      <td>14</td>\n",
       "      <td>0</td>\n",
       "      <td>0</td>\n",
       "      <td>0</td>\n",
       "      <td>0</td>\n",
       "      <td>0</td>\n",
       "      <td>0</td>\n",
       "      <td>0</td>\n",
       "      <td>0</td>\n",
       "      <td>...</td>\n",
       "      <td>0</td>\n",
       "      <td>0</td>\n",
       "      <td>0</td>\n",
       "      <td>0</td>\n",
       "      <td>0</td>\n",
       "      <td>0</td>\n",
       "      <td>0</td>\n",
       "      <td>0</td>\n",
       "      <td>0</td>\n",
       "      <td>0</td>\n",
       "    </tr>\n",
       "    <tr>\n",
       "      <th>1203167</th>\n",
       "      <td>0</td>\n",
       "      <td>44</td>\n",
       "      <td>1</td>\n",
       "      <td>1</td>\n",
       "      <td>1</td>\n",
       "      <td>0</td>\n",
       "      <td>0</td>\n",
       "      <td>0</td>\n",
       "      <td>1</td>\n",
       "      <td>1</td>\n",
       "      <td>...</td>\n",
       "      <td>0</td>\n",
       "      <td>0</td>\n",
       "      <td>0</td>\n",
       "      <td>0</td>\n",
       "      <td>0</td>\n",
       "      <td>0</td>\n",
       "      <td>0</td>\n",
       "      <td>0</td>\n",
       "      <td>1</td>\n",
       "      <td>0</td>\n",
       "    </tr>\n",
       "    <tr>\n",
       "      <th>330</th>\n",
       "      <td>1</td>\n",
       "      <td>46</td>\n",
       "      <td>0</td>\n",
       "      <td>1</td>\n",
       "      <td>1</td>\n",
       "      <td>0</td>\n",
       "      <td>0</td>\n",
       "      <td>0</td>\n",
       "      <td>0</td>\n",
       "      <td>1</td>\n",
       "      <td>...</td>\n",
       "      <td>0</td>\n",
       "      <td>0</td>\n",
       "      <td>0</td>\n",
       "      <td>0</td>\n",
       "      <td>0</td>\n",
       "      <td>0</td>\n",
       "      <td>0</td>\n",
       "      <td>0</td>\n",
       "      <td>1</td>\n",
       "      <td>0</td>\n",
       "    </tr>\n",
       "    <tr>\n",
       "      <th>169046</th>\n",
       "      <td>1</td>\n",
       "      <td>24</td>\n",
       "      <td>1</td>\n",
       "      <td>0</td>\n",
       "      <td>0</td>\n",
       "      <td>0</td>\n",
       "      <td>0</td>\n",
       "      <td>0</td>\n",
       "      <td>0</td>\n",
       "      <td>0</td>\n",
       "      <td>...</td>\n",
       "      <td>0</td>\n",
       "      <td>0</td>\n",
       "      <td>0</td>\n",
       "      <td>0</td>\n",
       "      <td>0</td>\n",
       "      <td>0</td>\n",
       "      <td>0</td>\n",
       "      <td>0</td>\n",
       "      <td>0</td>\n",
       "      <td>0</td>\n",
       "    </tr>\n",
       "    <tr>\n",
       "      <th>1187622</th>\n",
       "      <td>0</td>\n",
       "      <td>41</td>\n",
       "      <td>1</td>\n",
       "      <td>1</td>\n",
       "      <td>1</td>\n",
       "      <td>1</td>\n",
       "      <td>1</td>\n",
       "      <td>1</td>\n",
       "      <td>1</td>\n",
       "      <td>1</td>\n",
       "      <td>...</td>\n",
       "      <td>0</td>\n",
       "      <td>0</td>\n",
       "      <td>0</td>\n",
       "      <td>0</td>\n",
       "      <td>0</td>\n",
       "      <td>0</td>\n",
       "      <td>0</td>\n",
       "      <td>0</td>\n",
       "      <td>1</td>\n",
       "      <td>0</td>\n",
       "    </tr>\n",
       "  </tbody>\n",
       "</table>\n",
       "<p>431112 rows × 33 columns</p>\n",
       "</div>"
      ],
      "text/plain": [
       "         sexo  edad  fiebre  tos  odinogia  disnea  irritabi  diarrea  \\\n",
       "1173599     1    49       1    0         0       0         0        0   \n",
       "1985058     0    11       1    0         0       0         0        0   \n",
       "3231131     1    26       0    0         0       0         0        0   \n",
       "476817      1    29       1    1         0       0         0        0   \n",
       "1104026     1    23       1    1         0       0         0        0   \n",
       "...       ...   ...     ...  ...       ...     ...       ...      ...   \n",
       "3068960     0    14       0    0         0       0         0        0   \n",
       "1203167     0    44       1    1         1       0         0        0   \n",
       "330         1    46       0    1         1       0         0        0   \n",
       "169046      1    24       1    0         0       0         0        0   \n",
       "1187622     0    41       1    1         1       1         1        1   \n",
       "\n",
       "         dotoraci  calofrios  ...  asma  inmusupr  hiperten  vih_sida  \\\n",
       "1173599         0          0  ...     0         0         0         0   \n",
       "1985058         0          0  ...     0         0         0         0   \n",
       "3231131         0          0  ...     0         0         0         0   \n",
       "476817          0          0  ...     0         0         0         0   \n",
       "1104026         0          0  ...     0         0         0         0   \n",
       "...           ...        ...  ...   ...       ...       ...       ...   \n",
       "3068960         0          0  ...     0         0         0         0   \n",
       "1203167         1          1  ...     0         0         0         0   \n",
       "330             0          1  ...     0         0         0         0   \n",
       "169046          0          0  ...     0         0         0         0   \n",
       "1187622         1          1  ...     0         0         0         0   \n",
       "\n",
       "         otracon  enfcardi  obesidad  insrencr  tabaquis  tipacien  \n",
       "1173599        0         0         0         0         0         0  \n",
       "1985058        0         0         0         0         0         0  \n",
       "3231131        0         0         0         0         0         0  \n",
       "476817         0         0         0         0         1         0  \n",
       "1104026        0         0         0         0         0         0  \n",
       "...          ...       ...       ...       ...       ...       ...  \n",
       "3068960        0         0         0         0         0         0  \n",
       "1203167        0         0         0         0         1         0  \n",
       "330            0         0         0         0         1         0  \n",
       "169046         0         0         0         0         0         0  \n",
       "1187622        0         0         0         0         1         0  \n",
       "\n",
       "[431112 rows x 33 columns]"
      ]
     },
     "execution_count": 25,
     "metadata": {},
     "output_type": "execute_result"
    }
   ],
   "source": [
    "df_hosp = dfmini.loc[:,symptoms_and_com] # Symptoms and comorbidities\n",
    "df_hosp = df_hosp[df_hosp.resdefin == 1]  # Given the patient has covid\n",
    "df_hosp.drop('resdefin', axis=1, inplace=True)\n",
    "df_hosp"
   ]
  },
  {
   "cell_type": "code",
   "execution_count": 26,
   "id": "dc0daa25",
   "metadata": {
    "execution": {
     "iopub.execute_input": "2022-06-08T07:15:39.332201Z",
     "iopub.status.busy": "2022-06-08T07:15:39.331887Z",
     "iopub.status.idle": "2022-06-08T07:15:39.337203Z",
     "shell.execute_reply": "2022-06-08T07:15:39.336495Z"
    },
    "papermill": {
     "duration": 0.063038,
     "end_time": "2022-06-08T07:15:39.338924",
     "exception": false,
     "start_time": "2022-06-08T07:15:39.275886",
     "status": "completed"
    },
    "tags": []
   },
   "outputs": [
    {
     "data": {
      "text/plain": [
       "Index(['sexo', 'edad', 'fiebre', 'tos', 'odinogia', 'disnea', 'irritabi',\n",
       "       'diarrea', 'dotoraci', 'calofrios', 'cefalea', 'mialgias', 'artral',\n",
       "       'ataedoge', 'rinorrea', 'polipnea', 'vomito', 'dolabdo', 'conjun',\n",
       "       'cianosis', 'inisubis', 'diabetes', 'epoc', 'asma', 'inmusupr',\n",
       "       'hiperten', 'vih_sida', 'otracon', 'enfcardi', 'obesidad', 'insrencr',\n",
       "       'tabaquis', 'tipacien'],\n",
       "      dtype='object')"
      ]
     },
     "execution_count": 26,
     "metadata": {},
     "output_type": "execute_result"
    }
   ],
   "source": [
    "df_hosp.columns"
   ]
  },
  {
   "cell_type": "markdown",
   "id": "b1ca0cb8",
   "metadata": {
    "id": "i-FnWf8k2LYq",
    "papermill": {
     "duration": 0.054927,
     "end_time": "2022-06-08T07:15:39.448512",
     "exception": false,
     "start_time": "2022-06-08T07:15:39.393585",
     "status": "completed"
    },
    "tags": []
   },
   "source": [
    "**DATAFRAMES SO FAR**\n",
    "- df_sin: dataframe with only the symptoms to try to detect covid\n",
    "- df_com: dataframe with only the comorbidities to try to predict death\n",
    "- df_hosp: dataframe with the symptoms and comorbidities to try to predict hospitalization\n",
    "\n",
    "**The symptoms are:**\n",
    "fiebre, tos, odinogia, disnea, irritabi, diarrea, dotoraci, calofrios, cefalea, mialgias, artral, ataedoge, rinorrea, polipnea, vomito, dolabdo, conjun, cianosis, inisubis\n",
    "\n",
    "**The comorbidities are:**\n",
    "diabetes, epoc, asma, inmusupr, hiperten, vih_sida, otracon, enfcardi, obesidad, insrencr, tabaquis"
   ]
  },
  {
   "cell_type": "markdown",
   "id": "e39a3429",
   "metadata": {
    "id": "w2fpPuXT2LYq",
    "papermill": {
     "duration": 0.055127,
     "end_time": "2022-06-08T07:15:39.558899",
     "exception": false,
     "start_time": "2022-06-08T07:15:39.503772",
     "status": "completed"
    },
    "tags": []
   },
   "source": [
    "# Neural Networks Classifier"
   ]
  },
  {
   "cell_type": "code",
   "execution_count": 27,
   "id": "a65365aa",
   "metadata": {
    "execution": {
     "iopub.execute_input": "2022-06-08T07:15:39.670804Z",
     "iopub.status.busy": "2022-06-08T07:15:39.670423Z",
     "iopub.status.idle": "2022-06-08T07:15:40.477490Z",
     "shell.execute_reply": "2022-06-08T07:15:40.476699Z"
    },
    "id": "Av_VIIgG2LYq",
    "papermill": {
     "duration": 0.865435,
     "end_time": "2022-06-08T07:15:40.479618",
     "exception": false,
     "start_time": "2022-06-08T07:15:39.614183",
     "status": "completed"
    },
    "tags": []
   },
   "outputs": [],
   "source": [
    "import torch.nn as nn\n",
    "import torch.nn.functional as F\n",
    "from sklearn.model_selection import train_test_split\n",
    "import torch\n",
    "from torch.utils.data import DataLoader, TensorDataset\n",
    "from sklearn.model_selection import train_test_split\n",
    "from torch.utils.data import DataLoader, TensorDataset\n",
    "import torch.optim as optim\n",
    "from sklearn.metrics import classification_report\n",
    "from sklearn.metrics import accuracy_score\n",
    "\n",
    "import torch.optim as optim"
   ]
  },
  {
   "cell_type": "markdown",
   "id": "c042ef70",
   "metadata": {
    "id": "sX4FUh472LYr",
    "papermill": {
     "duration": 0.055224,
     "end_time": "2022-06-08T07:15:40.591259",
     "exception": false,
     "start_time": "2022-06-08T07:15:40.536035",
     "status": "completed"
    },
    "tags": []
   },
   "source": [
    "## Functions to use during ML Pipeline"
   ]
  },
  {
   "cell_type": "code",
   "execution_count": 28,
   "id": "29de882d",
   "metadata": {
    "execution": {
     "iopub.execute_input": "2022-06-08T07:15:40.701921Z",
     "iopub.status.busy": "2022-06-08T07:15:40.701201Z",
     "iopub.status.idle": "2022-06-08T07:15:40.706141Z",
     "shell.execute_reply": "2022-06-08T07:15:40.705409Z"
    },
    "id": "KT0nnGyqD-1R",
    "papermill": {
     "duration": 0.062014,
     "end_time": "2022-06-08T07:15:40.707809",
     "exception": false,
     "start_time": "2022-06-08T07:15:40.645795",
     "status": "completed"
    },
    "tags": []
   },
   "outputs": [],
   "source": [
    "def to_numpy_X_y(df , y_col):\n",
    "  Y = df.loc[:, y_col].values\n",
    "  X = df.drop(y_col, axis=1).values\n",
    "\n",
    "  print (f\"Longitud X: {len(X)}\")\n",
    "  print (f\"Longitud Y: {len(Y)}\")\n",
    "  return X, Y"
   ]
  },
  {
   "cell_type": "code",
   "execution_count": 29,
   "id": "3cb8d1ce",
   "metadata": {
    "execution": {
     "iopub.execute_input": "2022-06-08T07:15:40.819196Z",
     "iopub.status.busy": "2022-06-08T07:15:40.818406Z",
     "iopub.status.idle": "2022-06-08T07:15:40.825066Z",
     "shell.execute_reply": "2022-06-08T07:15:40.824340Z"
    },
    "id": "_j5EPfhl2LYr",
    "papermill": {
     "duration": 0.064536,
     "end_time": "2022-06-08T07:15:40.826712",
     "exception": false,
     "start_time": "2022-06-08T07:15:40.762176",
     "status": "completed"
    },
    "tags": []
   },
   "outputs": [],
   "source": [
    "# dividir el conjunto de entrenamiento en Train and Test\n",
    "\n",
    "def ttv_split(X, Y, p_test, p_val):\n",
    "\n",
    "  X_train, X_test, Y_train, Y_test = train_test_split(X, Y, test_size=p_test+p_val, stratify=Y, random_state=0)\n",
    "  X_test, X_val, Y_test, Y_val = train_test_split(X_test, Y_test, test_size=p_val/(p_test+p_val), stratify=Y_test, random_state=0)\n",
    "\n",
    "  print(f\"X_train.shape, Y_train.shape: {X_train.shape}, {Y_train.shape}\")\n",
    "  print(f\"X_test.shape, Y_test.shape: {X_test.shape}, {Y_test.shape}\")\n",
    "  print(f\"X_val.shape, Y_val.shape: {X_test.shape}, {Y_test.shape}\")\n",
    "\n",
    "  return X_train, X_test, X_val, Y_train, Y_test, Y_val"
   ]
  },
  {
   "cell_type": "code",
   "execution_count": 30,
   "id": "e20fbf75",
   "metadata": {
    "execution": {
     "iopub.execute_input": "2022-06-08T07:15:40.939529Z",
     "iopub.status.busy": "2022-06-08T07:15:40.938542Z",
     "iopub.status.idle": "2022-06-08T07:15:40.945890Z",
     "shell.execute_reply": "2022-06-08T07:15:40.945216Z"
    },
    "id": "VfswXJ2_2LYr",
    "papermill": {
     "duration": 0.064668,
     "end_time": "2022-06-08T07:15:40.947528",
     "exception": false,
     "start_time": "2022-06-08T07:15:40.882860",
     "status": "completed"
    },
    "tags": []
   },
   "outputs": [],
   "source": [
    "def to_torch(X_train, X_test, X_val, Y_train, Y_test, Y_val):\n",
    "  # crear los tensores del conjunto de datos\n",
    "  train = TensorDataset(torch.tensor(X_train)[:,None, :], torch.tensor(Y_train))\n",
    "  test = TensorDataset(torch.tensor(X_test)[:,None, :], torch.tensor(Y_test))\n",
    "  val = TensorDataset(torch.tensor(X_val)[:,None, :], torch.tensor(Y_val))\n",
    "\n",
    "  # crear los cargadores del conjunto de datos\n",
    "  trainloader = DataLoader(train, batch_size=100, shuffle=True)\n",
    "  testloader = DataLoader(test, batch_size=100, shuffle=True)\n",
    "  valloader = DataLoader(val, batch_size=100, shuffle=True)\n",
    "  return trainloader, testloader, valloader"
   ]
  },
  {
   "cell_type": "markdown",
   "id": "8a5bbfd2",
   "metadata": {
    "id": "BvhllNtc2LYr",
    "papermill": {
     "duration": 0.055163,
     "end_time": "2022-06-08T07:15:41.057366",
     "exception": false,
     "start_time": "2022-06-08T07:15:41.002203",
     "status": "completed"
    },
    "tags": []
   },
   "source": [
    "## Modelo"
   ]
  },
  {
   "cell_type": "code",
   "execution_count": 31,
   "id": "9f0dfd04",
   "metadata": {
    "execution": {
     "iopub.execute_input": "2022-06-08T07:15:41.171372Z",
     "iopub.status.busy": "2022-06-08T07:15:41.170574Z",
     "iopub.status.idle": "2022-06-08T07:15:41.181302Z",
     "shell.execute_reply": "2022-06-08T07:15:41.180520Z"
    },
    "id": "j4FFZYDW2LYr",
    "papermill": {
     "duration": 0.070876,
     "end_time": "2022-06-08T07:15:41.183123",
     "exception": false,
     "start_time": "2022-06-08T07:15:41.112247",
     "status": "completed"
    },
    "tags": []
   },
   "outputs": [],
   "source": [
    "class NNclassifier(nn.Module):\n",
    "  \n",
    "  def __init__(self, input_dim, hidden_dim, labels_dim):\n",
    "    super(NNclassifier, self).__init__()\n",
    "\n",
    "    self.input_dim = input_dim# = máxima longitud de tweets  \n",
    "\n",
    "    # definimos las capas de convolución (CNN)\n",
    "    self.conv1 = nn.Conv1d(in_channels=1, out_channels=16, kernel_size=5, stride=1, padding=2)\n",
    "    self.conv2 = nn.Conv1d(in_channels=16, out_channels=32, kernel_size=5, stride=1, padding=2)\n",
    "    \n",
    "\n",
    "    # definir una función no líneal de activación\n",
    "    self.sigmoid = nn.Sigmoid()\n",
    "    \n",
    "    # Capas FC\n",
    "    self.fc1 = nn.Linear(32*(input_dim//2), hidden_dim)\n",
    "    self.fc2 = nn.Linear(hidden_dim, 100)\n",
    "    \n",
    "\n",
    "    # Linear function 3 \n",
    "    self.fc3 = nn.Linear(100, labels_dim)\n",
    "    \n",
    "    # Dropout with p=0.2\n",
    "    self.dropout = nn.Dropout(p=0.2)\n",
    "\n",
    "  def forward(self, x):\n",
    "    # propagación hacia adelante\n",
    "\n",
    "    # x: [batchsize, 1, input_dim = N]\n",
    "\n",
    "    out = self.conv1(x)        # [batchsize, 16, N]\n",
    "    #out = F.max_pool1d(out, kernel_size=2)        # [batchsize, 16, N]\n",
    "    out = F.relu(out)       # [batchsize, 16, N]\n",
    "    \n",
    "    out = self.conv2(out)        # [batchsize, 32, N]\n",
    "    out = F.max_pool1d(out, kernel_size=2)        # [batchsize, 32, N//2]\n",
    "    out = F.relu(out)       # [batchsize, 32, N//2]\n",
    "\n",
    "    # aplanar (flatenning)\n",
    "    out = out.view(out.size(0), -1) # [batchsize, 32*N//2]\n",
    "\n",
    "    out = self.fc1(out)\n",
    "    # Non-linearity 1\n",
    "    out = self.sigmoid(out)\n",
    "    # Linear function 2\n",
    "    out = self.fc2(out)\n",
    "    # Non-linearity 2\n",
    "    out = self.sigmoid(out)\n",
    "    # Linear function 3 (readout)\n",
    "    out = self.fc3(out)\n",
    "    \n",
    "    out = self.dropout(out)\n",
    "    out = F.log_softmax(out, dim=1)\n",
    "\n",
    "    return out"
   ]
  },
  {
   "cell_type": "code",
   "execution_count": 32,
   "id": "a98b85db",
   "metadata": {
    "execution": {
     "iopub.execute_input": "2022-06-08T07:15:41.295784Z",
     "iopub.status.busy": "2022-06-08T07:15:41.295438Z",
     "iopub.status.idle": "2022-06-08T07:15:41.299703Z",
     "shell.execute_reply": "2022-06-08T07:15:41.298945Z"
    },
    "id": "1bV2LKIB2LYs",
    "papermill": {
     "duration": 0.063423,
     "end_time": "2022-06-08T07:15:41.301563",
     "exception": false,
     "start_time": "2022-06-08T07:15:41.238140",
     "status": "completed"
    },
    "tags": []
   },
   "outputs": [],
   "source": [
    "# Instanciar el modelo\n",
    "def instanciate_model(input_dim, hidden_dim = 500, labels_dim=2):\n",
    "\n",
    "  model = NNclassifier(input_dim, hidden_dim, labels_dim)\n",
    "  model.to(device)\n",
    "  return model"
   ]
  },
  {
   "cell_type": "code",
   "execution_count": 33,
   "id": "65759db7",
   "metadata": {
    "execution": {
     "iopub.execute_input": "2022-06-08T07:15:41.419602Z",
     "iopub.status.busy": "2022-06-08T07:15:41.418728Z",
     "iopub.status.idle": "2022-06-08T07:15:41.435784Z",
     "shell.execute_reply": "2022-06-08T07:15:41.435132Z"
    },
    "id": "et_AN-tG2LYs",
    "papermill": {
     "duration": 0.080831,
     "end_time": "2022-06-08T07:15:41.437598",
     "exception": false,
     "start_time": "2022-06-08T07:15:41.356767",
     "status": "completed"
    },
    "tags": []
   },
   "outputs": [],
   "source": [
    "def train(train_loader, val_loader, model, lr=0.01, class_weight=torch.FloatTensor([0.5, 0.5]), EPOCHS = 10):\n",
    "  history={\n",
    "    'train_loss': [],\n",
    "    'valid_loss': [],\n",
    "    'train_acc': [],\n",
    "    'valid_acc': []\n",
    "  }\n",
    "\n",
    "  print(f\"EPOCHS: {EPOCHS}\")\n",
    "\n",
    "  # definir la función de error\n",
    "  loss_function = nn.CrossEntropyLoss(weight=class_weight)\n",
    "\n",
    "\n",
    "  optimizer = optim.Adam(model.parameters(), lr=lr)\n",
    "  \n",
    "  for epoch in range(EPOCHS):\n",
    "    train_loss, train_correct = 0.0, 0\n",
    "\n",
    "    # indicamos que se calculará el gradiente (Entrenamiento) \n",
    "    model.train()\n",
    "\n",
    "    # recorremos el conjunto de entrenamiento en los batches definidos\n",
    "    for X, y in train_loader:\n",
    "      # definir el hardware disponible a las imágenes y a las clases\n",
    "      X,y = X.to(device), y.to(device)\n",
    "      X = X.float()\n",
    "      \n",
    "      optimizer.zero_grad()\n",
    "\n",
    "      output = model(X) \n",
    "      #target = y.squeeze(1)#.clone().detach().long()\n",
    "      \n",
    "      #print(y.shape, target.shape)\n",
    "      loss = loss_function(output,y)\n",
    "      loss.backward()\n",
    "      optimizer.step()\n",
    "      train_loss += loss.item() * X.size(0)\n",
    "      scores, predictions = torch.max(output.data, 1)\n",
    "      train_correct += (predictions == y).sum().item()    \n",
    "      \n",
    "    valid_loss, val_correct = 0.0, 0\n",
    "\n",
    "    # indicamos que no se calculará el gradiente (Validación) \n",
    "    model.eval()\n",
    "    \n",
    "    for X, y in val_loader:\n",
    "      X, y = X.to(device), y.to(device)\n",
    "      X = X.float()\n",
    "      output = model(X)\n",
    "      #target = y.squeeze(1)#.clone().detach().long()\n",
    "      loss = loss_function(output, y)\n",
    "      valid_loss+=loss.item()*X.size(0)\n",
    "      scores, predictions = torch.max(output.data,1)\n",
    "      val_correct+=(predictions == y).sum().item()\n",
    "\n",
    "    # calcular los promedios tanto de la pérdida como de la excatitud en ambos datasets (train, valid)\n",
    "    train_loss = train_loss / len(train_loader.sampler)\n",
    "    train_acc = train_correct / len(train_loader.sampler) * 100\n",
    "    valid_loss = valid_loss / len(val_loader.sampler)\n",
    "    valid_acc = val_correct / len(val_loader.sampler) * 100\n",
    "\n",
    "    if epoch % 1 == 0 or epoch + 1 == EPOCHS:\n",
    "      print(f\"Epoch:{epoch+1}/{EPOCHS}\\tTrain Loss:{train_loss:.4f} Validation Loss:{valid_loss:.4f}\\tTrain Accuracy:{train_acc:.2f}% Validation Accuracy:{valid_acc:.2f}%\")\n",
    "\n",
    "    history['train_loss'].append(train_loss)\n",
    "    history['valid_loss'].append(valid_loss)\n",
    "    history['train_acc'].append(train_acc)\n",
    "    history['valid_acc'].append(valid_acc)\n",
    "  return history"
   ]
  },
  {
   "cell_type": "code",
   "execution_count": 34,
   "id": "ce3ee470",
   "metadata": {
    "execution": {
     "iopub.execute_input": "2022-06-08T07:15:41.551682Z",
     "iopub.status.busy": "2022-06-08T07:15:41.550131Z",
     "iopub.status.idle": "2022-06-08T07:15:41.558291Z",
     "shell.execute_reply": "2022-06-08T07:15:41.557523Z"
    },
    "id": "W-QeHaIh2LYs",
    "papermill": {
     "duration": 0.066842,
     "end_time": "2022-06-08T07:15:41.560127",
     "exception": false,
     "start_time": "2022-06-08T07:15:41.493285",
     "status": "completed"
    },
    "tags": []
   },
   "outputs": [],
   "source": [
    "def plot_scores(history):\n",
    "  plt.figure(figsize=(30, 10))\n",
    "  plt.subplot(1, 2, 1)\n",
    "  plt.plot(history['train_loss'])\n",
    "  plt.plot(history['valid_loss'])\n",
    "  plt.title('Model loss')\n",
    "  plt.ylabel('loss')\n",
    "  plt.xlabel('epoch')\n",
    "  plt.legend(['train_loss', 'val_loss'], loc='best')\n",
    "  # plt.show()\n",
    "\n",
    "  plt.subplot(1, 2, 2)\n",
    "  plt.plot(history['train_acc'])\n",
    "  plt.plot(history['valid_acc'])\n",
    "  plt.title('Model accuracy')\n",
    "  plt.ylabel('accuracy')\n",
    "  plt.xlabel('epoch')\n",
    "  plt.legend(['train_acc', 'val_acc'], loc='best')\n",
    "  plt.show()"
   ]
  },
  {
   "cell_type": "code",
   "execution_count": 35,
   "id": "82305543",
   "metadata": {
    "execution": {
     "iopub.execute_input": "2022-06-08T07:15:41.674096Z",
     "iopub.status.busy": "2022-06-08T07:15:41.673707Z",
     "iopub.status.idle": "2022-06-08T07:15:41.682968Z",
     "shell.execute_reply": "2022-06-08T07:15:41.682276Z"
    },
    "id": "Lgrt1qgZCkk6",
    "papermill": {
     "duration": 0.067795,
     "end_time": "2022-06-08T07:15:41.684672",
     "exception": false,
     "start_time": "2022-06-08T07:15:41.616877",
     "status": "completed"
    },
    "tags": []
   },
   "outputs": [],
   "source": [
    "def evaluar(model, test_loader, class_weight=torch.FloatTensor([0.5, 0.5])):\n",
    "  correct = 0\n",
    "  total = 0\n",
    "  test_loss = 0\n",
    "\n",
    "  # definir la función de pérdida: Entropía Cruzada\n",
    "  loss_function = nn.CrossEntropyLoss(weight=class_weight.to(device))\n",
    "\n",
    "  with torch.no_grad():\n",
    "    for X, y in test_loader:\n",
    "      X, y = X.to(device), y.to(device)\n",
    "      X = X.float()\n",
    "      outputs = model(X)\n",
    "\n",
    "      #target = y.squeeze(1).clone().detach().long()\n",
    "      loss = loss_function(outputs,y)\n",
    "      test_loss += loss.item() * X.size(0)\n",
    "      \n",
    "      _, predicted = torch.max(outputs.data, 1)\n",
    "      total += y.size(0)\n",
    "      correct += (predicted == y).sum().item()\n",
    "\n",
    "  test_loss = test_loss / len(test_loader.sampler)\n",
    "\n",
    "  print(f'Test Accuracy : {100 * correct / total:.2f}%')\n",
    "  print(f'Test Loss: {test_loss:.4f}')"
   ]
  },
  {
   "cell_type": "markdown",
   "id": "09b4890d",
   "metadata": {
    "id": "djWfJu6oLsCB",
    "papermill": {
     "duration": 0.056378,
     "end_time": "2022-06-08T07:15:41.796813",
     "exception": false,
     "start_time": "2022-06-08T07:15:41.740435",
     "status": "completed"
    },
    "tags": []
   },
   "source": [
    "# Classifier Pipeline"
   ]
  },
  {
   "cell_type": "code",
   "execution_count": 36,
   "id": "f7959b8f",
   "metadata": {
    "execution": {
     "iopub.execute_input": "2022-06-08T07:15:41.912420Z",
     "iopub.status.busy": "2022-06-08T07:15:41.911672Z",
     "iopub.status.idle": "2022-06-08T07:15:41.919605Z",
     "shell.execute_reply": "2022-06-08T07:15:41.918817Z"
    },
    "id": "5nCxuc-cCmbK",
    "papermill": {
     "duration": 0.067291,
     "end_time": "2022-06-08T07:15:41.921347",
     "exception": false,
     "start_time": "2022-06-08T07:15:41.854056",
     "status": "completed"
    },
    "tags": []
   },
   "outputs": [],
   "source": [
    "def pipeline(df, y_col, lr = 0.01, EPOCHS = 10, class_weight=torch.FloatTensor([0.5, 0.5])):\n",
    "  torch.manual_seed(0)\n",
    "  random.seed(0)\n",
    "  np.random.seed(0)\n",
    "\n",
    "  X, Y = to_numpy_X_y(df, y_col)\n",
    "  input_dim = X.shape[1]\n",
    "\n",
    "  X_train, X_test, X_val, Y_train, Y_test, Y_val = ttv_split(X, Y, 0.2, 0.2)\n",
    "  \n",
    "  train_loader, test_loader, val_loader = to_torch(X_train, X_test, X_val, Y_train, Y_test, Y_val)\n",
    "\n",
    "  model = instanciate_model(input_dim = input_dim, hidden_dim = 200)\n",
    "\n",
    "  history = train(train_loader, val_loader, model,  lr, class_weight.to(device), EPOCHS)\n",
    "\n",
    "  plot_scores(history)\n",
    "\n",
    "  evaluar(model, test_loader, class_weight.to(device))\n",
    "\n",
    "  return model, X_train, X_test, X_val, Y_train, Y_test, Y_val"
   ]
  },
  {
   "cell_type": "markdown",
   "id": "14c1a404",
   "metadata": {
    "id": "x9W2ZuBGL7jX",
    "papermill": {
     "duration": 0.055626,
     "end_time": "2022-06-08T07:15:42.033618",
     "exception": false,
     "start_time": "2022-06-08T07:15:41.977992",
     "status": "completed"
    },
    "tags": []
   },
   "source": [
    "### Helper functions"
   ]
  },
  {
   "cell_type": "code",
   "execution_count": 37,
   "id": "fd36399e",
   "metadata": {
    "execution": {
     "iopub.execute_input": "2022-06-08T07:15:42.147689Z",
     "iopub.status.busy": "2022-06-08T07:15:42.147337Z",
     "iopub.status.idle": "2022-06-08T07:15:42.153897Z",
     "shell.execute_reply": "2022-06-08T07:15:42.153142Z"
    },
    "id": "fl1tg7QZJiLx",
    "papermill": {
     "duration": 0.066293,
     "end_time": "2022-06-08T07:15:42.155614",
     "exception": false,
     "start_time": "2022-06-08T07:15:42.089321",
     "status": "completed"
    },
    "tags": []
   },
   "outputs": [],
   "source": [
    "def predict_model_diagnosis(model_diagnosis, X = np.zeros((1, 21)), device = 'cpu'):\n",
    "  _, pred = torch.max(model_diagnosis(torch.tensor(X)[:,None, :].to(device).float()), 1)\n",
    "  return pred.cpu().numpy()[0]\n",
    "  \n",
    "def prob_model_diagnosis(model_diagnosis, X = np.zeros((1, 21)), device = 'cpu'):\n",
    "  log_probs = model_diagnosis(torch.tensor(X)[:,None, :].to(device).float())\n",
    "  return np.exp(log_probs.cpu().detach().numpy())[0]"
   ]
  },
  {
   "cell_type": "code",
   "execution_count": 38,
   "id": "8dd01dbe",
   "metadata": {
    "execution": {
     "iopub.execute_input": "2022-06-08T07:15:42.268805Z",
     "iopub.status.busy": "2022-06-08T07:15:42.268501Z",
     "iopub.status.idle": "2022-06-08T07:15:42.272224Z",
     "shell.execute_reply": "2022-06-08T07:15:42.271452Z"
    },
    "papermill": {
     "duration": 0.061164,
     "end_time": "2022-06-08T07:15:42.273928",
     "exception": false,
     "start_time": "2022-06-08T07:15:42.212764",
     "status": "completed"
    },
    "tags": []
   },
   "outputs": [],
   "source": [
    "from sklearn.utils.class_weight import compute_class_weight"
   ]
  },
  {
   "cell_type": "markdown",
   "id": "1985fa70",
   "metadata": {
    "id": "PtkKsebcLyKc",
    "papermill": {
     "duration": 0.056102,
     "end_time": "2022-06-08T07:15:42.385711",
     "exception": false,
     "start_time": "2022-06-08T07:15:42.329609",
     "status": "completed"
    },
    "tags": []
   },
   "source": [
    "## COVID-19 diagnosis"
   ]
  },
  {
   "cell_type": "code",
   "execution_count": 39,
   "id": "a09cdf2e",
   "metadata": {
    "execution": {
     "iopub.execute_input": "2022-06-08T07:15:42.506856Z",
     "iopub.status.busy": "2022-06-08T07:15:42.506477Z",
     "iopub.status.idle": "2022-06-08T07:15:42.696454Z",
     "shell.execute_reply": "2022-06-08T07:15:42.694355Z"
    },
    "papermill": {
     "duration": 0.251214,
     "end_time": "2022-06-08T07:15:42.698869",
     "exception": false,
     "start_time": "2022-06-08T07:15:42.447655",
     "status": "completed"
    },
    "tags": []
   },
   "outputs": [
    {
     "name": "stdout",
     "output_type": "stream",
     "text": [
      "Original data is disbalanced, infected are only 431112 while not infected are 1568888\n",
      "Infected to not infected ratio: 0.27478825767040094\n"
     ]
    }
   ],
   "source": [
    "# Balancing\n",
    "not_covid = df_sin[df_sin.resdefin == 0]\n",
    "covid = df_sin[df_sin.resdefin == 1]\n",
    "print(f\"Original data is disbalanced, infected are only {covid.shape[0]} while not infected are {not_covid.shape[0]}\")\n",
    "ratio = covid.shape[0]/not_covid.shape[0]\n",
    "print(f\"Infected to not infected ratio: {ratio}\")"
   ]
  },
  {
   "cell_type": "code",
   "execution_count": 40,
   "id": "e5df0a58",
   "metadata": {
    "execution": {
     "iopub.execute_input": "2022-06-08T07:15:42.811303Z",
     "iopub.status.busy": "2022-06-08T07:15:42.810990Z",
     "iopub.status.idle": "2022-06-08T07:19:41.352201Z",
     "shell.execute_reply": "2022-06-08T07:19:41.351260Z"
    },
    "id": "1BdO_jaL2LYs",
    "outputId": "5a46962d-bc16-4ebe-971f-0dba00c9b5a2",
    "papermill": {
     "duration": 238.599816,
     "end_time": "2022-06-08T07:19:41.354723",
     "exception": false,
     "start_time": "2022-06-08T07:15:42.754907",
     "status": "completed"
    },
    "tags": []
   },
   "outputs": [
    {
     "name": "stdout",
     "output_type": "stream",
     "text": [
      "Longitud X: 500000\n",
      "Longitud Y: 500000\n",
      "X_train.shape, Y_train.shape: (300000, 21), (300000,)\n",
      "X_test.shape, Y_test.shape: (100000, 21), (100000,)\n",
      "X_val.shape, Y_val.shape: (100000, 21), (100000,)\n",
      "EPOCHS: 20\n",
      "Epoch:1/20\tTrain Loss:0.6833 Validation Loss:0.6554\tTrain Accuracy:62.67% Validation Accuracy:67.38%\n",
      "Epoch:2/20\tTrain Loss:0.6331 Validation Loss:0.6199\tTrain Accuracy:66.28% Validation Accuracy:65.37%\n",
      "Epoch:3/20\tTrain Loss:0.6210 Validation Loss:0.6135\tTrain Accuracy:65.83% Validation Accuracy:65.60%\n",
      "Epoch:4/20\tTrain Loss:0.6164 Validation Loss:0.6088\tTrain Accuracy:66.13% Validation Accuracy:64.69%\n",
      "Epoch:5/20\tTrain Loss:0.6117 Validation Loss:0.6038\tTrain Accuracy:66.57% Validation Accuracy:65.56%\n",
      "Epoch:6/20\tTrain Loss:0.6079 Validation Loss:0.6002\tTrain Accuracy:66.98% Validation Accuracy:66.88%\n",
      "Epoch:7/20\tTrain Loss:0.6053 Validation Loss:0.5979\tTrain Accuracy:67.51% Validation Accuracy:67.55%\n",
      "Epoch:8/20\tTrain Loss:0.6041 Validation Loss:0.5963\tTrain Accuracy:67.87% Validation Accuracy:66.78%\n",
      "Epoch:9/20\tTrain Loss:0.6030 Validation Loss:0.5954\tTrain Accuracy:68.02% Validation Accuracy:66.92%\n",
      "Epoch:10/20\tTrain Loss:0.6022 Validation Loss:0.5946\tTrain Accuracy:68.08% Validation Accuracy:67.63%\n",
      "Epoch:11/20\tTrain Loss:0.6018 Validation Loss:0.5944\tTrain Accuracy:68.07% Validation Accuracy:67.08%\n",
      "Epoch:12/20\tTrain Loss:0.6020 Validation Loss:0.5940\tTrain Accuracy:68.06% Validation Accuracy:66.74%\n",
      "Epoch:13/20\tTrain Loss:0.6013 Validation Loss:0.5936\tTrain Accuracy:68.05% Validation Accuracy:67.58%\n",
      "Epoch:14/20\tTrain Loss:0.6014 Validation Loss:0.5936\tTrain Accuracy:68.03% Validation Accuracy:68.40%\n",
      "Epoch:15/20\tTrain Loss:0.6012 Validation Loss:0.5933\tTrain Accuracy:67.90% Validation Accuracy:67.50%\n",
      "Epoch:16/20\tTrain Loss:0.6005 Validation Loss:0.5933\tTrain Accuracy:67.93% Validation Accuracy:66.26%\n",
      "Epoch:17/20\tTrain Loss:0.6000 Validation Loss:0.5926\tTrain Accuracy:67.87% Validation Accuracy:67.65%\n",
      "Epoch:18/20\tTrain Loss:0.6002 Validation Loss:0.5927\tTrain Accuracy:67.78% Validation Accuracy:66.89%\n",
      "Epoch:19/20\tTrain Loss:0.6003 Validation Loss:0.5929\tTrain Accuracy:67.82% Validation Accuracy:66.16%\n",
      "Epoch:20/20\tTrain Loss:0.6002 Validation Loss:0.5922\tTrain Accuracy:67.72% Validation Accuracy:67.35%\n"
     ]
    },
    {
     "data": {
      "image/png": "[encoded data removed]",
      "text/plain": [
       "<Figure size 2160x720 with 2 Axes>"
      ]
     },
     "metadata": {
      "needs_background": "light"
     },
     "output_type": "display_data"
    },
    {
     "name": "stdout",
     "output_type": "stream",
     "text": [
      "Test Accuracy : 67.60%\n",
      "Test Loss: 0.5908\n"
     ]
    }
   ],
   "source": [
    "y = df_sin.resdefin\n",
    "class_weight = torch.FloatTensor(compute_class_weight('balanced',classes=np.unique(y),y=y.to_numpy()))\n",
    "\n",
    "model_diagnosis, X_train, X_test, X_val, Y_train, Y_test, Y_val = pipeline(df_sin.sample(500_000, random_state=42), \"resdefin\", lr = 0.00001, EPOCHS=20, class_weight=class_weight)"
   ]
  },
  {
   "cell_type": "code",
   "execution_count": 41,
   "id": "4b29f728",
   "metadata": {
    "execution": {
     "iopub.execute_input": "2022-06-08T07:19:41.484524Z",
     "iopub.status.busy": "2022-06-08T07:19:41.483900Z",
     "iopub.status.idle": "2022-06-08T07:19:41.499354Z",
     "shell.execute_reply": "2022-06-08T07:19:41.498578Z"
    },
    "id": "ED7rcLgdPsfn",
    "papermill": {
     "duration": 0.077986,
     "end_time": "2022-06-08T07:19:41.501223",
     "exception": false,
     "start_time": "2022-06-08T07:19:41.423237",
     "status": "completed"
    },
    "tags": []
   },
   "outputs": [],
   "source": [
    "_, predicted = torch.max(model_diagnosis(torch.tensor(X_test)[:,None, :].to(device).float()), 1)"
   ]
  },
  {
   "cell_type": "code",
   "execution_count": 42,
   "id": "437dc462",
   "metadata": {
    "execution": {
     "iopub.execute_input": "2022-06-08T07:19:41.620001Z",
     "iopub.status.busy": "2022-06-08T07:19:41.619348Z",
     "iopub.status.idle": "2022-06-08T07:19:41.793191Z",
     "shell.execute_reply": "2022-06-08T07:19:41.791574Z"
    },
    "id": "5mMax96CPBqU",
    "papermill": {
     "duration": 0.235618,
     "end_time": "2022-06-08T07:19:41.795568",
     "exception": false,
     "start_time": "2022-06-08T07:19:41.559950",
     "status": "completed"
    },
    "tags": []
   },
   "outputs": [
    {
     "name": "stdout",
     "output_type": "stream",
     "text": [
      "              precision    recall  f1-score   support\n",
      "\n",
      "    NEGATIVE       0.90      0.66      0.76     78398\n",
      "       COVID       0.37      0.73      0.49     21602\n",
      "\n",
      "    accuracy                           0.68    100000\n",
      "   macro avg       0.63      0.69      0.63    100000\n",
      "weighted avg       0.78      0.68      0.70    100000\n",
      "\n"
     ]
    }
   ],
   "source": [
    "print( classification_report(Y_test, predicted.cpu().numpy(), labels = [0,1], target_names=[\"NEGATIVE\",\"COVID\"]) )"
   ]
  },
  {
   "cell_type": "code",
   "execution_count": 43,
   "id": "3e673029",
   "metadata": {
    "execution": {
     "iopub.execute_input": "2022-06-08T07:19:41.917883Z",
     "iopub.status.busy": "2022-06-08T07:19:41.917540Z",
     "iopub.status.idle": "2022-06-08T07:19:50.244414Z",
     "shell.execute_reply": "2022-06-08T07:19:50.243604Z"
    },
    "papermill": {
     "duration": 8.388995,
     "end_time": "2022-06-08T07:19:50.246556",
     "exception": false,
     "start_time": "2022-06-08T07:19:41.857561",
     "status": "completed"
    },
    "tags": []
   },
   "outputs": [],
   "source": [
    "np.savetxt(\"X_train_diagnosis.csv\", X_train, fmt='%s', delimiter=\",\")\n",
    "np.savetxt(\"X_test_diagnosis.csv\", X_test, fmt='%s', delimiter=\",\")\n",
    "np.savetxt(\"X_val_diagnosis.csv\", X_val, fmt='%s', delimiter=\",\")\n",
    "np.savetxt(\"Y_train_diagnosis.csv\", Y_train, fmt='%s', delimiter=\",\")\n",
    "np.savetxt(\"Y_test_diagnosis.csv\", Y_test, fmt='%s', delimiter=\",\")\n",
    "np.savetxt(\"Y_val_diagnosis.csv\", Y_val, fmt='%s', delimiter=\",\")"
   ]
  },
  {
   "cell_type": "code",
   "execution_count": 44,
   "id": "955160b6",
   "metadata": {
    "execution": {
     "iopub.execute_input": "2022-06-08T07:19:50.416087Z",
     "iopub.status.busy": "2022-06-08T07:19:50.415667Z",
     "iopub.status.idle": "2022-06-08T07:19:50.429167Z",
     "shell.execute_reply": "2022-06-08T07:19:50.428476Z"
    },
    "id": "xOe0z1mikmMW",
    "papermill": {
     "duration": 0.123429,
     "end_time": "2022-06-08T07:19:50.430834",
     "exception": false,
     "start_time": "2022-06-08T07:19:50.307405",
     "status": "completed"
    },
    "tags": []
   },
   "outputs": [],
   "source": [
    "torch.save(model_diagnosis, \"model_diagnosis.pth\")"
   ]
  },
  {
   "cell_type": "code",
   "execution_count": 45,
   "id": "09df6c30",
   "metadata": {
    "execution": {
     "iopub.execute_input": "2022-06-08T07:19:50.550460Z",
     "iopub.status.busy": "2022-06-08T07:19:50.549826Z",
     "iopub.status.idle": "2022-06-08T07:19:50.558633Z",
     "shell.execute_reply": "2022-06-08T07:19:50.557963Z"
    },
    "id": "6dsvtzhjn-m4",
    "papermill": {
     "duration": 0.070625,
     "end_time": "2022-06-08T07:19:50.560350",
     "exception": false,
     "start_time": "2022-06-08T07:19:50.489725",
     "status": "completed"
    },
    "tags": []
   },
   "outputs": [],
   "source": [
    "m_diagnosis = torch.load(\"model_diagnosis.pth\")"
   ]
  },
  {
   "cell_type": "markdown",
   "id": "d5848101",
   "metadata": {
    "id": "cspuatk7MRqS",
    "papermill": {
     "duration": 0.058239,
     "end_time": "2022-06-08T07:19:50.678234",
     "exception": false,
     "start_time": "2022-06-08T07:19:50.619995",
     "status": "completed"
    },
    "tags": []
   },
   "source": [
    "## Hospitalization"
   ]
  },
  {
   "cell_type": "code",
   "execution_count": 46,
   "id": "8a3e2b34",
   "metadata": {
    "execution": {
     "iopub.execute_input": "2022-06-08T07:19:50.795883Z",
     "iopub.status.busy": "2022-06-08T07:19:50.795519Z",
     "iopub.status.idle": "2022-06-08T07:19:50.932500Z",
     "shell.execute_reply": "2022-06-08T07:19:50.930974Z"
    },
    "papermill": {
     "duration": 0.198791,
     "end_time": "2022-06-08T07:19:50.935080",
     "exception": false,
     "start_time": "2022-06-08T07:19:50.736289",
     "status": "completed"
    },
    "tags": []
   },
   "outputs": [
    {
     "name": "stdout",
     "output_type": "stream",
     "text": [
      "Original data is disbalanced, hospitalized are only 21836 while not hospitalized are 409276\n"
     ]
    }
   ],
   "source": [
    "not_hosp = df_hosp[df_hosp.tipacien == 0]\n",
    "hosp = df_hosp[df_hosp.tipacien == 1]\n",
    "print(f\"Original data is disbalanced, hospitalized are only {hosp.shape[0]} while not hospitalized are {not_hosp.shape[0]}\")"
   ]
  },
  {
   "cell_type": "code",
   "execution_count": 47,
   "id": "6a914a61",
   "metadata": {
    "execution": {
     "iopub.execute_input": "2022-06-08T07:19:51.054132Z",
     "iopub.status.busy": "2022-06-08T07:19:51.053385Z",
     "iopub.status.idle": "2022-06-08T07:23:09.204920Z",
     "shell.execute_reply": "2022-06-08T07:23:09.203960Z"
    },
    "id": "1BdO_jaL2LYs",
    "outputId": "5a46962d-bc16-4ebe-971f-0dba00c9b5a2",
    "papermill": {
     "duration": 198.213525,
     "end_time": "2022-06-08T07:23:09.207893",
     "exception": false,
     "start_time": "2022-06-08T07:19:50.994368",
     "status": "completed"
    },
    "tags": []
   },
   "outputs": [
    {
     "name": "stdout",
     "output_type": "stream",
     "text": [
      "Longitud X: 431112\n",
      "Longitud Y: 431112\n",
      "X_train.shape, Y_train.shape: (258667, 32), (258667,)\n",
      "X_test.shape, Y_test.shape: (86222, 32), (86222,)\n",
      "X_val.shape, Y_val.shape: (86222, 32), (86222,)\n",
      "EPOCHS: 20\n",
      "Epoch:1/20\tTrain Loss:0.6523 Validation Loss:0.6063\tTrain Accuracy:76.69% Validation Accuracy:74.96%\n",
      "Epoch:2/20\tTrain Loss:0.5609 Validation Loss:0.5041\tTrain Accuracy:79.98% Validation Accuracy:80.57%\n",
      "Epoch:3/20\tTrain Loss:0.4905 Validation Loss:0.4533\tTrain Accuracy:82.82% Validation Accuracy:82.54%\n",
      "Epoch:4/20\tTrain Loss:0.4584 Validation Loss:0.4248\tTrain Accuracy:83.85% Validation Accuracy:84.10%\n",
      "Epoch:5/20\tTrain Loss:0.4336 Validation Loss:0.3994\tTrain Accuracy:85.67% Validation Accuracy:84.98%\n",
      "Epoch:6/20\tTrain Loss:0.4134 Validation Loss:0.3758\tTrain Accuracy:87.22% Validation Accuracy:87.27%\n",
      "Epoch:7/20\tTrain Loss:0.3905 Validation Loss:0.3571\tTrain Accuracy:88.51% Validation Accuracy:88.28%\n",
      "Epoch:8/20\tTrain Loss:0.3754 Validation Loss:0.3439\tTrain Accuracy:89.27% Validation Accuracy:88.68%\n",
      "Epoch:9/20\tTrain Loss:0.3664 Validation Loss:0.3376\tTrain Accuracy:89.70% Validation Accuracy:91.01%\n",
      "Epoch:10/20\tTrain Loss:0.3617 Validation Loss:0.3317\tTrain Accuracy:89.89% Validation Accuracy:90.53%\n",
      "Epoch:11/20\tTrain Loss:0.3578 Validation Loss:0.3297\tTrain Accuracy:90.03% Validation Accuracy:88.86%\n",
      "Epoch:12/20\tTrain Loss:0.3561 Validation Loss:0.3245\tTrain Accuracy:90.11% Validation Accuracy:90.06%\n",
      "Epoch:13/20\tTrain Loss:0.3529 Validation Loss:0.3251\tTrain Accuracy:90.19% Validation Accuracy:91.33%\n",
      "Epoch:14/20\tTrain Loss:0.3537 Validation Loss:0.3242\tTrain Accuracy:90.31% Validation Accuracy:91.72%\n",
      "Epoch:15/20\tTrain Loss:0.3516 Validation Loss:0.3217\tTrain Accuracy:90.42% Validation Accuracy:88.78%\n",
      "Epoch:16/20\tTrain Loss:0.3509 Validation Loss:0.3196\tTrain Accuracy:90.24% Validation Accuracy:89.39%\n",
      "Epoch:17/20\tTrain Loss:0.3490 Validation Loss:0.3181\tTrain Accuracy:90.40% Validation Accuracy:89.88%\n",
      "Epoch:18/20\tTrain Loss:0.3499 Validation Loss:0.3181\tTrain Accuracy:90.43% Validation Accuracy:90.65%\n",
      "Epoch:19/20\tTrain Loss:0.3511 Validation Loss:0.3174\tTrain Accuracy:90.40% Validation Accuracy:89.89%\n",
      "Epoch:20/20\tTrain Loss:0.3483 Validation Loss:0.3164\tTrain Accuracy:90.49% Validation Accuracy:89.83%\n"
     ]
    },
    {
     "data": {
      "image/png": "[encoded data removed]",
      "text/plain": [
       "<Figure size 2160x720 with 2 Axes>"
      ]
     },
     "metadata": {
      "needs_background": "light"
     },
     "output_type": "display_data"
    },
    {
     "name": "stdout",
     "output_type": "stream",
     "text": [
      "Test Accuracy : 89.91%\n",
      "Test Loss: 0.3239\n"
     ]
    }
   ],
   "source": [
    "y = df_hosp.tipacien\n",
    "class_weight = torch.FloatTensor(compute_class_weight('balanced',classes=np.unique(y),y=y.to_numpy()))\n",
    "\n",
    "model_hosp, X_train, X_test, X_val, Y_train, Y_test, Y_val = pipeline(df_hosp, \"tipacien\", lr = 0.00001, EPOCHS=20, class_weight=class_weight)"
   ]
  },
  {
   "cell_type": "code",
   "execution_count": 48,
   "id": "02b8dd93",
   "metadata": {
    "execution": {
     "iopub.execute_input": "2022-06-08T07:23:09.333505Z",
     "iopub.status.busy": "2022-06-08T07:23:09.333168Z",
     "iopub.status.idle": "2022-06-08T07:23:09.350657Z",
     "shell.execute_reply": "2022-06-08T07:23:09.349733Z"
    },
    "id": "ED7rcLgdPsfn",
    "papermill": {
     "duration": 0.082468,
     "end_time": "2022-06-08T07:23:09.352742",
     "exception": false,
     "start_time": "2022-06-08T07:23:09.270274",
     "status": "completed"
    },
    "tags": []
   },
   "outputs": [],
   "source": [
    "_, predicted = torch.max(model_hosp(torch.tensor(X_val)[:,None, :].to(device).float()), 1)"
   ]
  },
  {
   "cell_type": "code",
   "execution_count": 49,
   "id": "065213a1",
   "metadata": {
    "execution": {
     "iopub.execute_input": "2022-06-08T07:23:09.479441Z",
     "iopub.status.busy": "2022-06-08T07:23:09.478661Z",
     "iopub.status.idle": "2022-06-08T07:23:09.607541Z",
     "shell.execute_reply": "2022-06-08T07:23:09.606591Z"
    },
    "id": "5mMax96CPBqU",
    "papermill": {
     "duration": 0.194008,
     "end_time": "2022-06-08T07:23:09.609453",
     "exception": false,
     "start_time": "2022-06-08T07:23:09.415445",
     "status": "completed"
    },
    "tags": []
   },
   "outputs": [
    {
     "name": "stdout",
     "output_type": "stream",
     "text": [
      "                  precision    recall  f1-score   support\n",
      "\n",
      "NOT HOSPITALIZED       0.99      0.90      0.94     81856\n",
      "    HOSPITALIZED       0.31      0.84      0.46      4367\n",
      "\n",
      "        accuracy                           0.90     86223\n",
      "       macro avg       0.65      0.87      0.70     86223\n",
      "    weighted avg       0.96      0.90      0.92     86223\n",
      "\n"
     ]
    }
   ],
   "source": [
    "print( classification_report(Y_val, predicted.cpu().numpy(), labels = [0,1], target_names=[\"NOT HOSPITALIZED\",\"HOSPITALIZED\"]) )"
   ]
  },
  {
   "cell_type": "code",
   "execution_count": 50,
   "id": "b0864eaa",
   "metadata": {
    "execution": {
     "iopub.execute_input": "2022-06-08T07:23:09.736510Z",
     "iopub.status.busy": "2022-06-08T07:23:09.735703Z",
     "iopub.status.idle": "2022-06-08T07:23:19.768770Z",
     "shell.execute_reply": "2022-06-08T07:23:19.767954Z"
    },
    "papermill": {
     "duration": 10.098307,
     "end_time": "2022-06-08T07:23:19.770981",
     "exception": false,
     "start_time": "2022-06-08T07:23:09.672674",
     "status": "completed"
    },
    "tags": []
   },
   "outputs": [],
   "source": [
    "np.savetxt(\"X_train_hosp.csv\", X_train, fmt='%s', delimiter=\",\")\n",
    "np.savetxt(\"X_test_hosp.csv\", X_test, fmt='%s', delimiter=\",\")\n",
    "np.savetxt(\"X_val_hosp.csv\", X_val, fmt='%s', delimiter=\",\")\n",
    "np.savetxt(\"Y_train_hosp.csv\", Y_train, fmt='%s', delimiter=\",\")\n",
    "np.savetxt(\"Y_test_hosp.csv\", Y_test, fmt='%s', delimiter=\",\")\n",
    "np.savetxt(\"Y_val_hosp.csv\", Y_val, fmt='%s', delimiter=\",\")"
   ]
  },
  {
   "cell_type": "code",
   "execution_count": 51,
   "id": "ddd847c9",
   "metadata": {
    "execution": {
     "iopub.execute_input": "2022-06-08T07:23:19.897947Z",
     "iopub.status.busy": "2022-06-08T07:23:19.897572Z",
     "iopub.status.idle": "2022-06-08T07:23:19.905743Z",
     "shell.execute_reply": "2022-06-08T07:23:19.904930Z"
    },
    "id": "xOe0z1mikmMW",
    "papermill": {
     "duration": 0.073201,
     "end_time": "2022-06-08T07:23:19.907714",
     "exception": false,
     "start_time": "2022-06-08T07:23:19.834513",
     "status": "completed"
    },
    "tags": []
   },
   "outputs": [],
   "source": [
    "torch.save(model_hosp, \"model_hosp.pth\")"
   ]
  },
  {
   "cell_type": "markdown",
   "id": "1151395e",
   "metadata": {
    "id": "cspuatk7MRqS",
    "papermill": {
     "duration": 0.060854,
     "end_time": "2022-06-08T07:23:20.029802",
     "exception": false,
     "start_time": "2022-06-08T07:23:19.968948",
     "status": "completed"
    },
    "tags": []
   },
   "source": [
    "## Defunctions"
   ]
  },
  {
   "cell_type": "code",
   "execution_count": 52,
   "id": "2d620542",
   "metadata": {
    "execution": {
     "iopub.execute_input": "2022-06-08T07:23:20.154475Z",
     "iopub.status.busy": "2022-06-08T07:23:20.154159Z",
     "iopub.status.idle": "2022-06-08T07:23:20.178309Z",
     "shell.execute_reply": "2022-06-08T07:23:20.177080Z"
    },
    "papermill": {
     "duration": 0.089476,
     "end_time": "2022-06-08T07:23:20.180478",
     "exception": false,
     "start_time": "2022-06-08T07:23:20.091002",
     "status": "completed"
    },
    "tags": []
   },
   "outputs": [
    {
     "name": "stdout",
     "output_type": "stream",
     "text": [
      "Original data is disbalanced, deads are only 9640 while not deads are 421472\n"
     ]
    }
   ],
   "source": [
    "# Balancing\n",
    "not_death = df_com[df_com.fecdef == 0]\n",
    "death = df_com[df_com.fecdef == 1]\n",
    "#death_bootstraped = death.sample(not_death.shape[0], replace=True)\n",
    "#df_death_bootstraped = pd.concat([not_death, death_bootstraped], axis=0).sample(frac=1)\n",
    "print(f\"Original data is disbalanced, deads are only {death.shape[0]} while not deads are {not_death.shape[0]}\")\n",
    "#print(f\"Before balancing the dataset contained {df_com.shape[0]}, after balancing the dataset contains {df_death_bootstraped.shape[0]}\")"
   ]
  },
  {
   "cell_type": "code",
   "execution_count": 53,
   "id": "752dfa30",
   "metadata": {
    "execution": {
     "iopub.execute_input": "2022-06-08T07:23:20.306594Z",
     "iopub.status.busy": "2022-06-08T07:23:20.305981Z",
     "iopub.status.idle": "2022-06-08T07:26:38.662545Z",
     "shell.execute_reply": "2022-06-08T07:26:38.661201Z"
    },
    "id": "1BdO_jaL2LYs",
    "outputId": "5a46962d-bc16-4ebe-971f-0dba00c9b5a2",
    "papermill": {
     "duration": 198.422131,
     "end_time": "2022-06-08T07:26:38.665121",
     "exception": false,
     "start_time": "2022-06-08T07:23:20.242990",
     "status": "completed"
    },
    "tags": []
   },
   "outputs": [
    {
     "name": "stdout",
     "output_type": "stream",
     "text": [
      "Longitud X: 431112\n",
      "Longitud Y: 431112\n",
      "X_train.shape, Y_train.shape: (258667, 13), (258667,)\n",
      "X_test.shape, Y_test.shape: (86222, 13), (86222,)\n",
      "X_val.shape, Y_val.shape: (86222, 13), (86222,)\n",
      "EPOCHS: 20\n",
      "Epoch:1/20\tTrain Loss:0.6410 Validation Loss:0.5997\tTrain Accuracy:94.66% Validation Accuracy:92.70%\n",
      "Epoch:2/20\tTrain Loss:0.5638 Validation Loss:0.5244\tTrain Accuracy:85.60% Validation Accuracy:82.73%\n",
      "Epoch:3/20\tTrain Loss:0.5024 Validation Loss:0.4738\tTrain Accuracy:81.80% Validation Accuracy:79.91%\n",
      "Epoch:4/20\tTrain Loss:0.4719 Validation Loss:0.4476\tTrain Accuracy:81.18% Validation Accuracy:80.32%\n",
      "Epoch:5/20\tTrain Loss:0.4569 Validation Loss:0.4360\tTrain Accuracy:81.47% Validation Accuracy:79.82%\n",
      "Epoch:6/20\tTrain Loss:0.4541 Validation Loss:0.4323\tTrain Accuracy:81.74% Validation Accuracy:79.28%\n",
      "Epoch:7/20\tTrain Loss:0.4491 Validation Loss:0.4315\tTrain Accuracy:81.92% Validation Accuracy:82.52%\n",
      "Epoch:8/20\tTrain Loss:0.4465 Validation Loss:0.4283\tTrain Accuracy:82.25% Validation Accuracy:82.19%\n",
      "Epoch:9/20\tTrain Loss:0.4473 Validation Loss:0.4256\tTrain Accuracy:82.28% Validation Accuracy:82.95%\n",
      "Epoch:10/20\tTrain Loss:0.4449 Validation Loss:0.4276\tTrain Accuracy:82.47% Validation Accuracy:80.61%\n",
      "Epoch:11/20\tTrain Loss:0.4453 Validation Loss:0.4251\tTrain Accuracy:82.79% Validation Accuracy:82.15%\n",
      "Epoch:12/20\tTrain Loss:0.4495 Validation Loss:0.4273\tTrain Accuracy:82.41% Validation Accuracy:82.28%\n",
      "Epoch:13/20\tTrain Loss:0.4447 Validation Loss:0.4230\tTrain Accuracy:82.66% Validation Accuracy:82.19%\n",
      "Epoch:14/20\tTrain Loss:0.4442 Validation Loss:0.4233\tTrain Accuracy:82.60% Validation Accuracy:82.03%\n",
      "Epoch:15/20\tTrain Loss:0.4416 Validation Loss:0.4241\tTrain Accuracy:82.83% Validation Accuracy:82.55%\n",
      "Epoch:16/20\tTrain Loss:0.4436 Validation Loss:0.4228\tTrain Accuracy:82.76% Validation Accuracy:80.90%\n",
      "Epoch:17/20\tTrain Loss:0.4419 Validation Loss:0.4267\tTrain Accuracy:82.89% Validation Accuracy:84.50%\n",
      "Epoch:18/20\tTrain Loss:0.4429 Validation Loss:0.4234\tTrain Accuracy:82.76% Validation Accuracy:82.08%\n",
      "Epoch:19/20\tTrain Loss:0.4427 Validation Loss:0.4272\tTrain Accuracy:82.76% Validation Accuracy:84.19%\n",
      "Epoch:20/20\tTrain Loss:0.4411 Validation Loss:0.4234\tTrain Accuracy:82.93% Validation Accuracy:80.57%\n"
     ]
    },
    {
     "data": {
      "image/png": "[encoded data removed]",
      "text/plain": [
       "<Figure size 2160x720 with 2 Axes>"
      ]
     },
     "metadata": {
      "needs_background": "light"
     },
     "output_type": "display_data"
    },
    {
     "name": "stdout",
     "output_type": "stream",
     "text": [
      "Test Accuracy : 80.56%\n",
      "Test Loss: 0.4172\n"
     ]
    }
   ],
   "source": [
    "y = df_com.fecdef\n",
    "class_weight = torch.FloatTensor(compute_class_weight('balanced',classes=np.unique(y),y=y.to_numpy()))\n",
    "\n",
    "model_death, X_train, X_test, X_val, Y_train, Y_test, Y_val = pipeline(df_com, \"fecdef\", lr = 0.00001, EPOCHS=20, class_weight=class_weight)"
   ]
  },
  {
   "cell_type": "code",
   "execution_count": 54,
   "id": "a8fe67a1",
   "metadata": {
    "execution": {
     "iopub.execute_input": "2022-06-08T07:26:38.795150Z",
     "iopub.status.busy": "2022-06-08T07:26:38.794841Z",
     "iopub.status.idle": "2022-06-08T07:26:38.803661Z",
     "shell.execute_reply": "2022-06-08T07:26:38.802953Z"
    },
    "id": "ED7rcLgdPsfn",
    "papermill": {
     "duration": 0.074737,
     "end_time": "2022-06-08T07:26:38.805405",
     "exception": false,
     "start_time": "2022-06-08T07:26:38.730668",
     "status": "completed"
    },
    "tags": []
   },
   "outputs": [],
   "source": [
    "_, predicted = torch.max(model_death(torch.tensor(X_val)[:,None, :].to(device).float()), 1)"
   ]
  },
  {
   "cell_type": "code",
   "execution_count": 55,
   "id": "bf353997",
   "metadata": {
    "execution": {
     "iopub.execute_input": "2022-06-08T07:26:38.935724Z",
     "iopub.status.busy": "2022-06-08T07:26:38.935084Z",
     "iopub.status.idle": "2022-06-08T07:26:39.068685Z",
     "shell.execute_reply": "2022-06-08T07:26:39.067704Z"
    },
    "id": "5mMax96CPBqU",
    "papermill": {
     "duration": 0.201377,
     "end_time": "2022-06-08T07:26:39.071256",
     "exception": false,
     "start_time": "2022-06-08T07:26:38.869879",
     "status": "completed"
    },
    "tags": []
   },
   "outputs": [
    {
     "name": "stdout",
     "output_type": "stream",
     "text": [
      "              precision    recall  f1-score   support\n",
      "\n",
      "        Life       0.99      0.81      0.89     84295\n",
      "        Dead       0.09      0.81      0.16      1928\n",
      "\n",
      "    accuracy                           0.81     86223\n",
      "   macro avg       0.54      0.81      0.52     86223\n",
      "weighted avg       0.97      0.81      0.87     86223\n",
      "\n"
     ]
    }
   ],
   "source": [
    "print( classification_report(Y_val, predicted.cpu().numpy(), labels = [0,1], target_names=[\"Life\",\"Dead\"]) )"
   ]
  },
  {
   "cell_type": "code",
   "execution_count": 56,
   "id": "d3103028",
   "metadata": {
    "execution": {
     "iopub.execute_input": "2022-06-08T07:26:39.201210Z",
     "iopub.status.busy": "2022-06-08T07:26:39.200871Z",
     "iopub.status.idle": "2022-06-08T07:26:44.384596Z",
     "shell.execute_reply": "2022-06-08T07:26:44.383796Z"
    },
    "papermill": {
     "duration": 5.250629,
     "end_time": "2022-06-08T07:26:44.387027",
     "exception": false,
     "start_time": "2022-06-08T07:26:39.136398",
     "status": "completed"
    },
    "tags": []
   },
   "outputs": [],
   "source": [
    "np.savetxt(\"X_train_death.csv\", X_train, fmt='%s', delimiter=\",\")\n",
    "np.savetxt(\"X_test_death.csv\", X_test, fmt='%s', delimiter=\",\")\n",
    "np.savetxt(\"X_val_death.csv\", X_val, fmt='%s', delimiter=\",\")\n",
    "np.savetxt(\"Y_train_death.csv\", Y_train, fmt='%s', delimiter=\",\")\n",
    "np.savetxt(\"Y_test_death.csv\", Y_test, fmt='%s', delimiter=\",\")\n",
    "np.savetxt(\"Y_val_death.csv\", Y_val, fmt='%s', delimiter=\",\")"
   ]
  },
  {
   "cell_type": "code",
   "execution_count": 57,
   "id": "5241965c",
   "metadata": {
    "execution": {
     "iopub.execute_input": "2022-06-08T07:26:44.518732Z",
     "iopub.status.busy": "2022-06-08T07:26:44.518378Z",
     "iopub.status.idle": "2022-06-08T07:26:44.526603Z",
     "shell.execute_reply": "2022-06-08T07:26:44.525893Z"
    },
    "id": "xOe0z1mikmMW",
    "papermill": {
     "duration": 0.075913,
     "end_time": "2022-06-08T07:26:44.528492",
     "exception": false,
     "start_time": "2022-06-08T07:26:44.452579",
     "status": "completed"
    },
    "tags": []
   },
   "outputs": [],
   "source": [
    "torch.save(model_death, \"model_death.pth\")"
   ]
  },
  {
   "cell_type": "markdown",
   "id": "20b4115e",
   "metadata": {
    "id": "3gOF9HFmJWPl",
    "papermill": {
     "duration": 0.063082,
     "end_time": "2022-06-08T07:26:44.656807",
     "exception": false,
     "start_time": "2022-06-08T07:26:44.593725",
     "status": "completed"
    },
    "tags": []
   },
   "source": [
    "# Use cases"
   ]
  },
  {
   "cell_type": "markdown",
   "id": "7f790fd5",
   "metadata": {
    "id": "w8nbeYTjJ_W_",
    "papermill": {
     "duration": 0.064682,
     "end_time": "2022-06-08T07:26:44.785241",
     "exception": false,
     "start_time": "2022-06-08T07:26:44.720559",
     "status": "completed"
    },
    "tags": []
   },
   "source": [
    "## Covid Diagnosis"
   ]
  },
  {
   "cell_type": "code",
   "execution_count": 58,
   "id": "0bdac0e3",
   "metadata": {
    "execution": {
     "iopub.execute_input": "2022-06-08T07:26:44.913945Z",
     "iopub.status.busy": "2022-06-08T07:26:44.913574Z",
     "iopub.status.idle": "2022-06-08T07:26:45.041478Z",
     "shell.execute_reply": "2022-06-08T07:26:45.040158Z"
    },
    "id": "Ug1FCGx72shR",
    "papermill": {
     "duration": 0.19516,
     "end_time": "2022-06-08T07:26:45.043614",
     "exception": true,
     "start_time": "2022-06-08T07:26:44.848454",
     "status": "failed"
    },
    "tags": []
   },
   "outputs": [
    {
     "ename": "NameError",
     "evalue": "name 'model' is not defined",
     "output_type": "error",
     "traceback": [
      "\u001b[0;31m---------------------------------------------------------------------------\u001b[0m",
      "\u001b[0;31mNameError\u001b[0m                                 Traceback (most recent call last)",
      "\u001b[0;32m/tmp/ipykernel_23/4242146776.py\u001b[0m in \u001b[0;36m<module>\u001b[0;34m\u001b[0m\n\u001b[1;32m     26\u001b[0m   cianosis, inisubis]])\n\u001b[1;32m     27\u001b[0m \u001b[0;34m\u001b[0m\u001b[0m\n\u001b[0;32m---> 28\u001b[0;31m \u001b[0mres\u001b[0m \u001b[0;34m=\u001b[0m \u001b[0mpredict_model_diagnosis\u001b[0m\u001b[0;34m(\u001b[0m\u001b[0mmodel\u001b[0m\u001b[0;34m,\u001b[0m \u001b[0mX\u001b[0m\u001b[0;34m,\u001b[0m \u001b[0;34m'cuda'\u001b[0m\u001b[0;34m)\u001b[0m\u001b[0;34m\u001b[0m\u001b[0;34m\u001b[0m\u001b[0m\n\u001b[0m\u001b[1;32m     29\u001b[0m \u001b[0;34m\u001b[0m\u001b[0m\n\u001b[1;32m     30\u001b[0m \u001b[0;34m\u001b[0m\u001b[0m\n",
      "\u001b[0;31mNameError\u001b[0m: name 'model' is not defined"
     ]
    }
   ],
   "source": [
    "sexo = 1\n",
    "edad = 70\n",
    "fiebre = 1\n",
    "tos = 1\n",
    "odinogia = 1\n",
    "disnea = 1\n",
    "irritabi = 1\n",
    "diarrea = 1\n",
    "dotoraci = 1\n",
    "calofrios = 1\n",
    "cefalea = 1\n",
    "mialgias = 1\n",
    "artral = 1\n",
    "ataedoge = 1\n",
    "rinorrea = 1\n",
    "polipnea = 1\n",
    "vomito = 1\n",
    "dolabdo = 1\n",
    "conjun = 1\n",
    "cianosis = 1\n",
    "inisubis = 1\n",
    "\n",
    "X = np.array([[sexo, edad, fiebre, tos, odinogia, disnea, irritabi,\n",
    "  diarrea, dotoraci, calofrios, cefalea, mialgias, artral,\n",
    "  ataedoge, rinorrea, polipnea, vomito, dolabdo, conjun,\n",
    "  cianosis, inisubis]])\n",
    "\n",
    "res = predict_model_diagnosis(model, X, 'cuda') \n",
    "\n",
    "\n",
    "probs = prob_model_diagnosis(model, X, 'cuda') \n",
    "\n",
    "if res == 1:\n",
    "    print(f\"El clasificador indica que eres POSITIVO a COVID-19 con probabilidad de {probs[1]:.2f}%\")\n",
    "elif res == 0:\n",
    "    print(f\"El clasificador indica que eres NEGATIVO a COVID-19 con probabilidad de {probs[0]:.2f}%\")"
   ]
  },
  {
   "cell_type": "code",
   "execution_count": null,
   "id": "fc312202",
   "metadata": {
    "id": "TKdruA_MKLxi",
    "papermill": {
     "duration": null,
     "end_time": null,
     "exception": null,
     "start_time": null,
     "status": "pending"
    },
    "tags": []
   },
   "outputs": [],
   "source": []
  }
 ],
 "metadata": {
  "kernelspec": {
   "display_name": "Python 3",
   "language": "python",
   "name": "python3"
  },
  "language_info": {
   "codemirror_mode": {
    "name": "ipython",
    "version": 3
   },
   "file_extension": ".py",
   "mimetype": "text/x-python",
   "name": "python",
   "nbconvert_exporter": "python",
   "pygments_lexer": "ipython3",
   "version": "3.7.12"
  },
  "papermill": {
   "default_parameters": {},
   "duration": 1004.800231,
   "end_time": "2022-06-08T07:26:48.508808",
   "environment_variables": {},
   "exception": true,
   "input_path": "__notebook__.ipynb",
   "output_path": "__notebook__.ipynb",
   "parameters": {},
   "start_time": "2022-06-08T07:10:03.708577",
   "version": "2.3.4"
  }
 },
 "nbformat": 4,
 "nbformat_minor": 5
}
